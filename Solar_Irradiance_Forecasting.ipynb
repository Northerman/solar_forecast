{
  "nbformat": 4,
  "nbformat_minor": 0,
  "metadata": {
    "colab": {
      "name": "Solar Irradiance Forecasting.ipynb",
      "provenance": [],
      "collapsed_sections": [
        "Ju3AGFBUqrJo",
        "Sw5irBizLy_j"
      ],
      "toc_visible": true
    },
    "kernelspec": {
      "name": "python3",
      "display_name": "Python 3"
    },
    "accelerator": "GPU"
  },
  "cells": [
    {
      "cell_type": "markdown",
      "metadata": {
        "id": "MtkFCl5pCSd_",
        "colab_type": "text"
      },
      "source": [
        "### Please refer to the presentation slide below for project details \n",
        "https://docs.google.com/presentation/d/1CZB_9_-Djarj7apGhPhtGLHQZG8wuWjIAzIACbr81ac/edit?usp=sharing\n",
        "\n",
        "\n",
        "\n",
        "### Remark: Note that the dataset is not imported here due to data privacy and only demonstrates the code of what we've done."
      ]
    },
    {
      "cell_type": "markdown",
      "metadata": {
        "id": "ZqGY5YO5qxUZ",
        "colab_type": "text"
      },
      "source": [
        "# Import Libraries"
      ]
    },
    {
      "cell_type": "code",
      "metadata": {
        "id": "HoDM2WmDiLwG",
        "colab_type": "code",
        "colab": {}
      },
      "source": [
        "import pandas as pd\n",
        "import numpy as np\n",
        "\n",
        "from datetime import datetime, timedelta\n",
        "\n",
        "from pylab import rcParams\n",
        "import math\n",
        "\n",
        "import matplotlib.pyplot as plt\n",
        "import matplotlib\n",
        "\n",
        "\n",
        "from sklearn.preprocessing import StandardScaler\n",
        "from sklearn.tree import DecisionTreeRegressor # Import Decision Tree Classifier\n",
        "from sklearn.metrics import mean_squared_error, mean_absolute_error, r2_score\n",
        "from sklearn.ensemble import RandomForestRegressor, GradientBoostingRegressor\n",
        "from sklearn.linear_model import Lasso, Ridge, ElasticNet, LinearRegression\n",
        "import xgboost as xgb\n"
      ],
      "execution_count": null,
      "outputs": []
    },
    {
      "cell_type": "code",
      "metadata": {
        "id": "x7oWG8_sh-Gu",
        "colab_type": "code",
        "colab": {}
      },
      "source": [
        "df = pd.read_csv('imputed2017_18_label_inc_night.csv')"
      ],
      "execution_count": null,
      "outputs": []
    },
    {
      "cell_type": "code",
      "metadata": {
        "id": "xyX4UulDiBjO",
        "colab_type": "code",
        "colab": {}
      },
      "source": [
        "df['DATETIME'] = df['DATETIME'].astype('datetime64')\n",
        "df = df.set_index('DATETIME').between_time('03:00', '18:00', include_start = True,include_end = True)"
      ],
      "execution_count": null,
      "outputs": []
    },
    {
      "cell_type": "code",
      "metadata": {
        "id": "m9jlX1mjjV_3",
        "colab_type": "code",
        "colab": {}
      },
      "source": [
        "pd.options.mode.chained_assignment = None  # default='warn'"
      ],
      "execution_count": null,
      "outputs": []
    },
    {
      "cell_type": "markdown",
      "metadata": {
        "id": "Ju3AGFBUqrJo",
        "colab_type": "text"
      },
      "source": [
        "# Define plotting functions"
      ]
    },
    {
      "cell_type": "code",
      "metadata": {
        "id": "Z_KewlD1qqu7",
        "colab_type": "code",
        "colab": {}
      },
      "source": [
        "plt.style.use('seaborn-darkgrid')\n",
        "\n",
        "def visualize(df, model_col , measure_col ,capacity =1000 , style = 'bar',show = False, save = False, visualize = True):\n",
        "    ''' \n",
        "    usage : this object use to analysis statistical charasteristic of prediction value\n",
        "    requirement : for DataFrame in format2 (must include 'Datetime' column !) \n",
        "                and shouldn't be more than 6 models (color issue for visualization)\n",
        "    ''' \n",
        "    df['time'] = [t.time() for  t in df['Datetime']]\n",
        "    error_matrix ={}\n",
        "    rmse_matrix = {}\n",
        "    mbe_matrix = {}\n",
        "    for i in model_col:\n",
        "        df[f'error_{i}'] = df[i]-df[measure_col]\n",
        "        mbe = df[f'error_{i}'].dropna().values.mean()\n",
        "        mae = (np.abs(df[f'error_{i}'].dropna().values)).mean()\n",
        "        rmse = np.sqrt((df[f'error_{i}'].dropna().values**2).mean())\n",
        "        nrmse = (rmse/capacity)*100\n",
        "        error_matrix[i] = [mbe, mae, rmse, nrmse]\n",
        "        groups = df.groupby('time')[f'error_{i}']\n",
        "        rmse_groups = groups.apply(lambda x : np.sqrt((x.dropna().values**2).mean()))\n",
        "        mbe_groups = groups.apply(lambda x: x.dropna().values.mean())\n",
        "        time = rmse_groups.index.values\n",
        "        rmse_matrix[i] = rmse_groups.values\n",
        "        mbe_matrix[i] = mbe_groups.values\n",
        "    error_df = pd.DataFrame(error_matrix, index = ['MBE','MAE','RMSE','NRMSE'])\n",
        "    rmse_df = pd.DataFrame(rmse_matrix, index = time)\n",
        "    mbe_df = pd.DataFrame(mbe_matrix, index = time)\n",
        "    print('error summary')\n",
        "    print('')\n",
        "    print(error_df)\n",
        "    if show :\n",
        "        print('-------------------------')\n",
        "        print('')\n",
        "        print('RMSE each timepoint')\n",
        "        print(rmse_df)\n",
        "        print('-------------------------')\n",
        "        print('')\n",
        "        print('MBE each timepoint')\n",
        "        print(mbe_df)\n",
        "        \n",
        "    # visualize RMSE\n",
        "    if visualize:\n",
        "        rcParams['figure.figsize'] = 15,12\n",
        "        fig, axes  = plt.subplots(2,1)\n",
        "        model = rmse_df.columns.to_list()\n",
        "        barwidth = 0.2\n",
        "        n_model = rmse_df.shape[1]\n",
        "        n_timestep = rmse_df.shape[0]\n",
        "        r0 = np.arange(n_timestep)\n",
        "        colors = ['indianred','goldenrod', 'yellowgreen','olivedrab','lightskyblue','royalblue'] \n",
        "        if style == 'bar':\n",
        "            for i in range(n_model):\n",
        "                r = [x + i*barwidth for x in r0]\n",
        "                axes[0].bar(r, rmse_df.iloc[:,i],width = barwidth, label = model[i], color = colors[i])\n",
        "            axes[0].set_xticks([R + (n_model//2-1)*barwidth for R in range(n_timestep)])\n",
        "            axes[0].set_xticklabels([t[:-3] for t in time.astype('str')])\n",
        "        elif style == 'line':\n",
        "            for i in range(n_model):             \n",
        "                axes[0].plot([t[:-3] for t in time.astype('str')], rmse_df.iloc[:,i].values,'o-', color = colors[i] , label = model[i])\n",
        "        else:\n",
        "            raise 'Error: invalid style'\n",
        "\n",
        "\n",
        "        axes[0].set_xlabel('time of forecasts', fontsize = 13)\n",
        "        axes[0].set_ylabel('RMSE of solar irradiance(W/m^2)', fontsize = 13)\n",
        "        axes[0].legend()\n",
        "        print('')\n",
        "\n",
        "        #visualize MBE\n",
        "        for i in range(n_model):\n",
        "            r = [x + i*barwidth for x in r0]\n",
        "            axes[1].bar(r, mbe_df.iloc[:,i],width = barwidth, label = model[i], color = colors[i])\n",
        "        axes[1].set_xticks([R + (n_model//2-1)*barwidth for R in range(n_timestep)])\n",
        "        axes[1].set_xticklabels([t[:-3] for t in time.astype('str')])\n",
        "        axes[1].set_xlabel('time of forecasts', fontsize = 13)\n",
        "        axes[1].set_ylabel('MBE of solar irradiance(W/m^2)', fontsize = 13)\n",
        "        axes[1].legend()\n",
        "        if save :\n",
        "            name = str(input('Enter figure name: '))\n",
        "            fig.savefig(f'{name}.png')\n",
        "\n"
      ],
      "execution_count": null,
      "outputs": []
    },
    {
      "cell_type": "code",
      "metadata": {
        "id": "Hyw7i7_l8Guq",
        "colab_type": "code",
        "colab": {}
      },
      "source": [
        "def plot_train_validation(train_rmse_list,validation_rmse_list,test_rmse_list,model_name):\n",
        "    batches = ['Batch1','Batch2','Batch3','Batch4','Batch5','Batch6']\n",
        "    batch_error = pd.DataFrame({'batch':batches,'rmse_train':train_rmse_list,'rmse_validation':validation_rmse_list,'rmse_test':test_rmse_list})\n",
        "    batch_error\n",
        "    \n",
        "    batch_train_size = 0\n",
        "    for batch in batch_train_list:\n",
        "        batch_train_size += len(batch)\n",
        "    \n",
        "    batch_validation_size = 0\n",
        "    for batch in batch_validation_list:\n",
        "        batch_validation_size += len(batch)\n",
        "\n",
        "    N = 6\n",
        "    ind = np.arange(N)\n",
        "    width = 0.3\n",
        "    colors = ['indianred','goldenrod', 'yellowgreen','olivedrab','lightskyblue','royalblue'] \n",
        "    plt.figure(figsize = (15,12))\n",
        "    plt.bar(ind,batch_error['rmse_train'],width,label='RMSE_train',color = colors[0],alpha = 0.85)\n",
        "    plt.bar(ind+width,batch_error['rmse_validation'],width,label='RMSE_Validation',color = colors[1],alpha = 0.85)\n",
        "    plt.bar(ind+(2*width),batch_error['rmse_test'],width,label='RMSE_Test',color = colors[2],alpha = 0.85)\n",
        "    plt.xticks(ind + width / 2, ('Dec-Jan', 'Feb-Mar', 'Apr-May', 'Jun-Jul', 'Aug-Sept', 'Oct-Nov'),fontsize=15)\n",
        "    plt.yticks(fontsize=15)\n",
        "    plt.title(str('RMSE for '+ model_name),fontsize=25)\n",
        "    plt.xlabel('Batch',fontsize=20)\n",
        "    plt.ylabel('RMSE',fontsize=20)\n",
        "    plt.legend(prop={\"size\":15})\n",
        "    plt.show()\n",
        "    return batch_error"
      ],
      "execution_count": null,
      "outputs": []
    },
    {
      "cell_type": "markdown",
      "metadata": {
        "id": "LKC1q1ckQYwe",
        "colab_type": "text"
      },
      "source": [
        "# Feature Engineering"
      ]
    },
    {
      "cell_type": "markdown",
      "metadata": {
        "id": "nhqhEF2BQheA",
        "colab_type": "text"
      },
      "source": [
        "#### One of the potential estimator of solar irradiance is clear sky irradiance, which is the solar irradiance under cloudless sky. The clear sky irradiance can be derived from multiple physics equation. For our project we use Adnote-Bourges-Campana-Gicquel's equation to calculate clear sky irradiance which will be further used in our model.\n",
        "\n",
        "#### Reference: https://prod-ng.sandia.gov/techlib-noauth/access-control.cgi/2012/122389.pdf"
      ]
    },
    {
      "cell_type": "code",
      "metadata": {
        "id": "1LkeaknBQX7p",
        "colab_type": "code",
        "colab": {}
      },
      "source": [
        "def clearsky_cal(sza):\n",
        "    if sza > 0:\n",
        "        return 951.39*(sza**(1.15))\n",
        "    else:\n",
        "        return 0"
      ],
      "execution_count": null,
      "outputs": []
    },
    {
      "cell_type": "code",
      "metadata": {
        "id": "Qb3fPVXfiWSF",
        "colab_type": "code",
        "colab": {}
      },
      "source": [
        "df['Iclr(t+6)'] = df['sza(t+6)'].apply(clearsky_cal)\n",
        "df['Iclr(t)'] = df['sza'].apply(clearsky_cal)"
      ],
      "execution_count": null,
      "outputs": []
    },
    {
      "cell_type": "markdown",
      "metadata": {
        "id": "9PsrwSFwkUq2",
        "colab_type": "text"
      },
      "source": [
        "### Compare Measured Irradiance vs Clear sky Irradiance"
      ]
    },
    {
      "cell_type": "code",
      "metadata": {
        "id": "-cYrZYbykgEq",
        "colab_type": "code",
        "colab": {}
      },
      "source": [
        "show_date = '2017-03-03'\n",
        "df_show_raw = df[df['date'] == show_date]\n",
        "df_show_raw = df_show_raw.between_time('6:00','18:00').reset_index()\n",
        "time_raw = df_show_raw['DATETIME']\n",
        "Ir_raw = df_show_raw['I']"
      ],
      "execution_count": null,
      "outputs": []
    },
    {
      "cell_type": "code",
      "metadata": {
        "id": "hGY02af7kf3t",
        "colab_type": "code",
        "colab": {}
      },
      "source": [
        "df_show_clr = df[df['date'] == show_date]\n",
        "df_show_clr = df_show_clr.between_time('6:00','18:00').reset_index()\n",
        "time_clr = df_show_clr['DATETIME']\n",
        "Ir_clr = df_show_clr['Iclr(t)']"
      ],
      "execution_count": null,
      "outputs": []
    },
    {
      "cell_type": "code",
      "metadata": {
        "id": "qPKi4BOUkLHd",
        "colab_type": "code",
        "colab": {
          "base_uri": "https://localhost:8080/",
          "height": 659
        },
        "outputId": "02101de3-0634-4d5c-fb48-8f4c38fa709b"
      },
      "source": [
        "rcParams['figure.figsize'] = 8, 8\n",
        "fig, ax1 = plt.subplots()\n",
        "ax1.set_xlabel('time', fontsize = 15)\n",
        "ax1.set_ylabel('Solar Irradiance (W/m^2)', fontsize = 15)\n",
        "ax1.plot(time_raw,Ir_raw,'o-', alpha = 0.4, label='Measured Irradiance',color = 'tab:blue')\n",
        "ax1.plot(time_clr,Ir_clr,'o-', alpha = 1, label='clear sky Irradiance',color = 'tab:orange')\n",
        "ax1.xaxis.set_major_formatter(matplotlib.dates.DateFormatter('%H:%M'))\n",
        "ax1.legend(loc = 1, fontsize = 'large')\n",
        "ax1.tick_params(length =5, width = 1,labelsize = 'x-large')\n",
        "ax1.set_title(f'{show_date}', fontsize = 15)\n",
        "ax1.legend(loc = 1, fontsize = 'large')\n",
        "plt.savefig('ex_clear_sky.eps',format = 'eps')"
      ],
      "execution_count": null,
      "outputs": [
        {
          "output_type": "stream",
          "text": [
            "The PostScript backend does not support transparency; partially transparent artists will be rendered opaque.\n",
            "The PostScript backend does not support transparency; partially transparent artists will be rendered opaque.\n",
            "The PostScript backend does not support transparency; partially transparent artists will be rendered opaque.\n",
            "The PostScript backend does not support transparency; partially transparent artists will be rendered opaque.\n",
            "The PostScript backend does not support transparency; partially transparent artists will be rendered opaque.\n",
            "The PostScript backend does not support transparency; partially transparent artists will be rendered opaque.\n",
            "The PostScript backend does not support transparency; partially transparent artists will be rendered opaque.\n",
            "The PostScript backend does not support transparency; partially transparent artists will be rendered opaque.\n"
          ],
          "name": "stderr"
        },
        {
          "output_type": "display_data",
          "data": {
            "image/png": "[encoded data removed]",
            "text/plain": [
              "<Figure size 576x576 with 1 Axes>"
            ]
          },
          "metadata": {
            "tags": []
          }
        }
      ]
    },
    {
      "cell_type": "markdown",
      "metadata": {
        "id": "EcTYsNYrTDsJ",
        "colab_type": "text"
      },
      "source": [
        "### Compare EMA Irradiance vs Measured Irradiance"
      ]
    },
    {
      "cell_type": "code",
      "metadata": {
        "id": "4qRdYr3srBZ4",
        "colab_type": "code",
        "colab": {}
      },
      "source": [
        "df['Iema^(d-1)(t+6)'] = df.groupby('time')['I^(d-1)(t+6)'].transform(lambda x : x.ewm(alpha=0.8, ignore_na = False).mean())"
      ],
      "execution_count": null,
      "outputs": []
    },
    {
      "cell_type": "code",
      "metadata": {
        "id": "6suM1hJistKF",
        "colab_type": "code",
        "colab": {}
      },
      "source": [
        "show_date = '2017-03-03'\n",
        "df_show_raw = df[df['date'] == show_date]\n",
        "df_show_raw = df_show_raw.between_time('6:00','18:00').reset_index()\n",
        "time_raw = df_show_raw['DATETIME']\n",
        "Ir_raw = df_show_raw['I']"
      ],
      "execution_count": null,
      "outputs": []
    },
    {
      "cell_type": "code",
      "metadata": {
        "id": "Ls3FmYY5ss-3",
        "colab_type": "code",
        "colab": {}
      },
      "source": [
        "df_show_ema = df[df['date'] == show_date]\n",
        "df_show_ema = df_show_ema.between_time('3:00','15:00').reset_index()\n",
        "Ir_ema = df_show_ema['Iema^(d-1)(t+6)']"
      ],
      "execution_count": null,
      "outputs": []
    },
    {
      "cell_type": "code",
      "metadata": {
        "id": "88YasIuZsOUc",
        "colab_type": "code",
        "colab": {
          "base_uri": "https://localhost:8080/",
          "height": 659
        },
        "outputId": "cc743b29-dbcf-4be0-9361-7ee2847c36e7"
      },
      "source": [
        "rcParams['figure.figsize'] = 8,8\n",
        "fig, ax1 = plt.subplots()\n",
        "ax1.set_xlabel('time', fontsize = 15)\n",
        "ax1.set_ylabel('Solar Irradiance (W/m^2)', fontsize = 15)\n",
        "ax1.plot(time_raw,Ir_raw,'o-', alpha = 0.4, label='Measured Irradiance',color = 'tab:blue')\n",
        "ax1.plot(time_raw,Ir_ema,'o-', alpha = 1, label='Lag_EMA Irradiance',color = 'tab:orange')\n",
        "ax1.xaxis.set_major_formatter(matplotlib.dates.DateFormatter('%H:%M'))\n",
        "ax1.legend(loc = 1, fontsize = 'large')\n",
        "ax1.tick_params(length =5, width = 1,labelsize = 'x-large')\n",
        "ax1.set_title(f'{show_date}', fontsize = 15)\n",
        "ax1.legend(loc = 1, fontsize = 'large')\n",
        "plt.savefig('ex_lag_ema.eps',format = 'eps')\n",
        "\n"
      ],
      "execution_count": null,
      "outputs": [
        {
          "output_type": "stream",
          "text": [
            "The PostScript backend does not support transparency; partially transparent artists will be rendered opaque.\n",
            "The PostScript backend does not support transparency; partially transparent artists will be rendered opaque.\n",
            "The PostScript backend does not support transparency; partially transparent artists will be rendered opaque.\n",
            "The PostScript backend does not support transparency; partially transparent artists will be rendered opaque.\n",
            "The PostScript backend does not support transparency; partially transparent artists will be rendered opaque.\n",
            "The PostScript backend does not support transparency; partially transparent artists will be rendered opaque.\n",
            "The PostScript backend does not support transparency; partially transparent artists will be rendered opaque.\n",
            "The PostScript backend does not support transparency; partially transparent artists will be rendered opaque.\n"
          ],
          "name": "stderr"
        },
        {
          "output_type": "display_data",
          "data": {
            "image/png": "[encoded data removed]",
            "text/plain": [
              "<Figure size 576x576 with 1 Axes>"
            ]
          },
          "metadata": {
            "tags": []
          }
        }
      ]
    },
    {
      "cell_type": "markdown",
      "metadata": {
        "id": "trZs0AOsl3Eq",
        "colab_type": "text"
      },
      "source": [
        "# Create Training & Validation Set\n",
        "\n",
        "#### The picture below shows how the train, validation, test data are split.\n",
        "\n",
        "![](https://drive.google.com/uc?id=1KvxjXslBN6DGVnjZtanva75MmKBqK5yd)\n"
      ]
    },
    {
      "cell_type": "code",
      "metadata": {
        "id": "vNE1JV4lk94-",
        "colab_type": "code",
        "colab": {}
      },
      "source": [
        "feature_cols = ['I','RH', 'UV', 'WS', 'sza', 'I^(d-1)(t+6)',\n",
        "       'I(t-1)', 'I(t-2)', 'I(t-3)', 'I(t-4)', 'I(t-5)', 'I(t-6)', 'I(t-7)', 'sza(t+6)']\n",
        "target = ['I(t+6)']"
      ],
      "execution_count": null,
      "outputs": []
    },
    {
      "cell_type": "code",
      "metadata": {
        "id": "EBBijblsvqtn",
        "colab_type": "code",
        "colab": {}
      },
      "source": [
        "def data_preparation(df,is_train = False):\n",
        "  if is_train == True:\n",
        "    ## Create Lag Irradiance feature for train dataset\n",
        "    df['I^(d-1)(t+6)'] = df['I'].shift(23,axis = 0)\n",
        "    df.dropna(inplace = True)\n",
        "  else:\n",
        "    df.dropna(subset = feature_cols + target,inplace = True)\n",
        "\n",
        "\n",
        "  ## Note that the predictons start at 4:00 and ends at 15:00\n",
        "  df = df.between_time('04:00', '15:00', include_start = True,include_end = True)\n",
        "\n",
        "  return df"
      ],
      "execution_count": null,
      "outputs": []
    },
    {
      "cell_type": "markdown",
      "metadata": {
        "id": "rji2qC7vDn5Z",
        "colab_type": "text"
      },
      "source": [
        "### Create training set"
      ]
    },
    {
      "cell_type": "code",
      "metadata": {
        "id": "JgOI4Q-siZSo",
        "colab_type": "code",
        "colab": {}
      },
      "source": [
        "\n",
        "batch1_a_train = df.loc['2017-01-01':'2017-01-31']\n",
        "batch1_b_train = df.loc['2017-12-01':'2017-12-31']\n",
        "batch1_train = pd.concat([batch1_a_train,batch1_b_train])\n",
        "\n",
        "batch2_train = df.loc['2017-02-01':'2017-03-31']\n",
        "batch3_train = df.loc['2017-04-01':'2017-05-31']\n",
        "batch4_train = df.loc['2017-06-01':'2017-07-31']\n",
        "batch5_train = df.loc['2017-08-01':'2017-09-30']\n",
        "batch6_train = df.loc['2017-10-01':'2017-11-30']\n",
        "\n",
        "\n",
        "batch1_train = data_preparation(batch1_train,is_train = True)\n",
        "batch2_train = data_preparation(batch2_train,is_train = True)\n",
        "batch3_train = data_preparation(batch3_train,is_train = True)\n",
        "batch4_train = data_preparation(batch4_train,is_train = True)\n",
        "batch5_train = data_preparation(batch5_train,is_train = True)\n",
        "batch6_train = data_preparation(batch6_train,is_train = True)\n"
      ],
      "execution_count": null,
      "outputs": []
    },
    {
      "cell_type": "markdown",
      "metadata": {
        "id": "fCcZIbveDtxm",
        "colab_type": "text"
      },
      "source": [
        "### Create validation set"
      ]
    },
    {
      "cell_type": "code",
      "metadata": {
        "id": "zA41Hj3dlGFw",
        "colab_type": "code",
        "colab": {}
      },
      "source": [
        "batch_validation1 = df.loc['2018-01-01':'2018-01-15']\n",
        "batch_validation2 = df.loc['2018-02-01':'2018-02-15']\n",
        "batch_validation3 = df.loc['2018-03-01':'2018-03-15']\n",
        "batch_validation4 = df.loc['2018-04-01':'2018-04-15']\n",
        "batch_validation5 = df.loc['2018-05-01':'2018-05-15']\n",
        "batch_validation6 = df.loc['2018-06-01':'2018-06-15']\n",
        "batch_validation7 = df.loc['2018-07-01':'2018-07-15']\n",
        "batch_validation8 = df.loc['2018-08-01':'2018-08-15']\n",
        "batch_validation9 = df.loc['2018-09-01':'2018-09-15']\n",
        "batch_validation10 = df.loc['2018-10-01':'2018-10-15']\n",
        "batch_validation11 = df.loc['2018-11-01':'2018-11-15']\n",
        "batch_validation12 = df.loc['2018-12-01':'2018-12-15']\n",
        "\n",
        "\n",
        "batch1_validation = pd.concat([batch_validation12,batch_validation1])\n",
        "batch2_validation = pd.concat([batch_validation2,batch_validation3])\n",
        "batch3_validation = pd.concat([batch_validation4,batch_validation5])\n",
        "batch4_validation = pd.concat([batch_validation6,batch_validation7])\n",
        "batch5_validation = pd.concat([batch_validation8,batch_validation9])\n",
        "batch6_validation = pd.concat([batch_validation10,batch_validation11])\n",
        "\n",
        "batch1_validation = data_preparation(batch1_validation)\n",
        "batch2_validation = data_preparation(batch2_validation)\n",
        "batch3_validation = data_preparation(batch3_validation)\n",
        "batch4_validation = data_preparation(batch4_validation)\n",
        "batch5_validation = data_preparation(batch5_validation)\n",
        "batch6_validation = data_preparation(batch6_validation)\n"
      ],
      "execution_count": null,
      "outputs": []
    },
    {
      "cell_type": "markdown",
      "metadata": {
        "id": "GfAuhavcl9ba",
        "colab_type": "text"
      },
      "source": [
        "### Create Test set\n"
      ]
    },
    {
      "cell_type": "code",
      "metadata": {
        "id": "cM-zszIliazP",
        "colab_type": "code",
        "colab": {}
      },
      "source": [
        "batch_test1 = df.loc['2018-01-16':'2018-01-31']\n",
        "batch_test2 = df.loc['2018-02-16':'2018-02-28']\n",
        "batch_test3 = df.loc['2018-03-16':'2018-03-31']\n",
        "batch_test4 = df.loc['2018-04-16':'2018-04-30']\n",
        "batch_test5 = df.loc['2018-05-16':'2018-05-31']\n",
        "batch_test6 = df.loc['2018-06-16':'2018-06-30']\n",
        "batch_test7 = df.loc['2018-07-16':'2018-07-31']\n",
        "batch_test8 = df.loc['2018-08-16':'2018-08-31']\n",
        "batch_test9 = df.loc['2018-09-16':'2018-09-30']\n",
        "batch_test10 = df.loc['2018-10-16':'2018-10-31']\n",
        "batch_test11 = df.loc['2018-11-16':'2018-11-30']\n",
        "batch_test12 = df.loc['2018-12-16':'2018-12-31']\n",
        "\n",
        "batch1_test = pd.concat([batch_test12,batch_test1])\n",
        "batch2_test = pd.concat([batch_test2,batch_test3])\n",
        "batch3_test = pd.concat([batch_test4,batch_test5])\n",
        "batch4_test = pd.concat([batch_test6,batch_test7])\n",
        "batch5_test = pd.concat([batch_test8,batch_test9])\n",
        "batch6_test = pd.concat([batch_test10,batch_test11])\n",
        "\n",
        "\n",
        "batch1_test = data_preparation(batch1_test)\n",
        "batch2_test = data_preparation(batch2_test)\n",
        "batch3_test = data_preparation(batch3_test)\n",
        "batch4_test = data_preparation(batch4_test)\n",
        "batch5_test = data_preparation(batch5_test)\n",
        "batch6_test = data_preparation(batch6_test)"
      ],
      "execution_count": null,
      "outputs": []
    },
    {
      "cell_type": "code",
      "metadata": {
        "id": "o8zxGG46VG9P",
        "colab_type": "code",
        "colab": {
          "base_uri": "https://localhost:8080/",
          "height": 443
        },
        "outputId": "fd4c8a4b-b3a0-4934-90fd-105d505ace32"
      },
      "source": [
        "print('missing value in test set')\n",
        "pd.concat([batch1_test,batch2_test,batch3_test,batch4_test,batch5_test,batch6_test]).isna().sum()"
      ],
      "execution_count": null,
      "outputs": [
        {
          "output_type": "stream",
          "text": [
            "missing value in test set\n"
          ],
          "name": "stdout"
        },
        {
          "output_type": "execute_result",
          "data": {
            "text/plain": [
              "I                    0\n",
              "P                    5\n",
              "T                  345\n",
              "RH                   0\n",
              "UV                   0\n",
              "WS                   0\n",
              "sza                  0\n",
              "date                 0\n",
              "time                 0\n",
              "I^(d-1)(t+6)         0\n",
              "I(t-1)               0\n",
              "I(t-2)               0\n",
              "I(t-3)               0\n",
              "I(t-4)               0\n",
              "I(t-5)               0\n",
              "I(t-6)               0\n",
              "I(t-7)               0\n",
              "I(t-8)               0\n",
              "sza(t+6)             0\n",
              "I(t+6)               0\n",
              "Iclr(t+6)            0\n",
              "Iclr(t)              0\n",
              "Iema^(d-1)(t+6)      0\n",
              "dtype: int64"
            ]
          },
          "metadata": {
            "tags": []
          },
          "execution_count": 33
        }
      ]
    },
    {
      "cell_type": "markdown",
      "metadata": {
        "id": "Gl4rektrXpb3",
        "colab_type": "text"
      },
      "source": [
        "# Modeling"
      ]
    },
    {
      "cell_type": "code",
      "metadata": {
        "id": "qU3LDHyHYrZO",
        "colab_type": "code",
        "colab": {}
      },
      "source": [
        "feature_cols = ['I','RH','UV', 'WS', 'sza', 'I^(d-1)(t+6)','I(t-1)', 'I(t-2)',\n",
        "                'I(t-3)', 'I(t-4)', 'I(t-5)', 'I(t-6)', 'I(t-7)','sza(t+6)']\n",
        "target = ['I(t+6)']"
      ],
      "execution_count": null,
      "outputs": []
    },
    {
      "cell_type": "markdown",
      "metadata": {
        "id": "YPTSMxPkfyof",
        "colab_type": "text"
      },
      "source": [
        "### Baseline Model "
      ]
    },
    {
      "cell_type": "code",
      "metadata": {
        "id": "7RUiYKDffvQk",
        "colab_type": "code",
        "colab": {
          "base_uri": "https://localhost:8080/"
        },
        "outputId": "cc1da651-07c6-417b-fa26-620cbb2a84e5"
      },
      "source": [
        "batch_validation_list = [batch1_validation,batch2_validation,batch3_validation,batch4_validation,batch5_validation,batch6_validation]\n",
        "batch_train_list = [batch1_train,batch2_train,batch3_train,batch4_train,batch5_train,batch6_train]\n",
        "batch_test_list = [batch1_test,batch2_test,batch3_test,batch4_test,batch5_test,batch6_test]\n",
        "\n",
        "ybar_train = []\n",
        "ybar_val = []\n",
        "ybar_test = []\n",
        "\n",
        "yhatbar_train = []\n",
        "yhatbar_val = []\n",
        "yhatbar_test = []\n",
        "\n",
        "date_train = []\n",
        "date_val = []\n",
        "date_test = []\n",
        "\n",
        "for idx,(batch_train,batch_val,batch_test) in enumerate(zip(batch_train_list,batch_validation_list,batch_test_list)):\n",
        "    y_train = batch_train['I(t+6)'].values\n",
        "    y_val = batch_val['I(t+6)'].values\n",
        "    y_test = batch_test['I(t+6)'].values\n",
        "\n",
        "    yhat_train = batch_train['I^(d-1)(t+6)'].values\n",
        "    yhat_val = batch_val['I^(d-1)(t+6)'].values\n",
        "    yhat_test = batch_test['I^(d-1)(t+6)'].values\n",
        "    \n",
        "    rmse_train = (mean_squared_error(y_train,yhat_train))**(1/2)\n",
        "    rmse_val = (mean_squared_error(y_val,yhat_val))**(1/2)\n",
        "    rmse_test = (mean_squared_error(y_test,yhat_test))**(1/2)\n",
        "    \n",
        "    ybar_train.append(y_train)\n",
        "    ybar_val.append(y_val)\n",
        "    ybar_test.append(y_test)\n",
        "    \n",
        "    yhatbar_train.append(yhat_train)\n",
        "    yhatbar_val.append(yhat_val)\n",
        "    yhatbar_test.append(yhat_test)\n",
        "    \n",
        "    date_train.append(batch_train.index)\n",
        "    date_val.append(batch_val.index)\n",
        "    date_test.append(batch_test.index)\n",
        "\n",
        "    print(f'batch{idx+1}_train : rmse = {rmse_train}')\n",
        "    print(f'batch{idx+1}_validation : rmse = {rmse_val}')\n",
        "    print(f'batch{idx+1}_test : rmse = {rmse_test}')\n",
        "    print('')\n",
        "    \n",
        "ybar_train = np.concatenate(ybar_train)\n",
        "ybar_val = np.concatenate(ybar_val)\n",
        "ybar_test = np.concatenate(ybar_test)\n",
        "\n",
        "yhatbar_train = np.concatenate(yhatbar_train)\n",
        "yhatbar_val = np.concatenate(yhatbar_val)\n",
        "yhatbar_test = np.concatenate(yhatbar_test)\n",
        "\n",
        "date_train = np.concatenate(date_train)\n",
        "date_val = np.concatenate(date_val)\n",
        "date_test = np.concatenate(date_test)\n",
        "\n",
        "#convert to forecast time\n",
        "date_train = date_train + np.timedelta64(3, 'h')\n",
        "date_val = date_val + np.timedelta64(3, 'h')\n",
        "date_test = date_test + np.timedelta64(3, 'h')\n",
        "\n",
        "print(f'average rmse of every batch in train = {(mean_squared_error(ybar_train,yhatbar_train))**(1/2)}')\n",
        "print(f'average rmse of every batch in validation = {(mean_squared_error(ybar_val,yhatbar_val))**(1/2)}')\n",
        "print(f'average rmse of every batch in test = {(mean_squared_error(ybar_test,yhatbar_test))**(1/2)}')"
      ],
      "execution_count": null,
      "outputs": [
        {
          "output_type": "stream",
          "text": [
            "batch1_train : rmse = 187.0618332054692\n",
            "batch1_validation : rmse = 147.89111118867558\n",
            "batch1_test : rmse = 124.89923160124114\n",
            "\n",
            "batch2_train : rmse = 197.71286829902317\n",
            "batch2_validation : rmse = 152.25305501727172\n",
            "batch2_test : rmse = 173.7687032652392\n",
            "\n",
            "batch3_train : rmse = 267.44190998721035\n",
            "batch3_validation : rmse = 248.77022453358992\n",
            "batch3_test : rmse = 267.3004953420367\n",
            "\n",
            "batch4_train : rmse = 224.26943071215408\n",
            "batch4_validation : rmse = 193.31841479299757\n",
            "batch4_test : rmse = 231.40888023244653\n",
            "\n",
            "batch5_train : rmse = 261.09239654766407\n",
            "batch5_validation : rmse = 240.96417381627683\n",
            "batch5_test : rmse = 207.89755282417147\n",
            "\n",
            "batch6_train : rmse = 231.63123600523144\n",
            "batch6_validation : rmse = 169.80343342445133\n",
            "batch6_test : rmse = 166.02127227494066\n",
            "\n",
            "average rmse of every batch in train = 230.19154475770148\n",
            "average rmse of every batch in validation = 189.5559781175617\n",
            "average rmse of every batch in test = 199.44036543576843\n"
          ],
          "name": "stdout"
        }
      ]
    },
    {
      "cell_type": "code",
      "metadata": {
        "id": "zC70lTdmmfId",
        "colab_type": "code",
        "colab": {}
      },
      "source": [
        "baseline = pd.DataFrame()\n",
        "baseline['measure'] = ybar_test\n",
        "baseline['baseline'] = yhatbar_test\n",
        "baseline['Datetime'] = date_test "
      ],
      "execution_count": null,
      "outputs": []
    },
    {
      "cell_type": "code",
      "metadata": {
        "id": "8CGX3KjMme_Q",
        "colab_type": "code",
        "colab": {
          "base_uri": "https://localhost:8080/"
        },
        "outputId": "ff6a364f-5e99-4bb5-a41a-206380cd2aa9"
      },
      "source": [
        "visualize(baseline, ['baseline'] , 'measure' ,show = False, save = False, visualize = True)"
      ],
      "execution_count": null,
      "outputs": [
        {
          "output_type": "stream",
          "text": [
            "error summary\n",
            "\n",
            "         baseline\n",
            "MBE      1.436518\n",
            "MAE    130.784049\n",
            "RMSE   199.440365\n",
            "NRMSE   19.944037\n",
            "\n"
          ],
          "name": "stdout"
        },
        {
          "output_type": "display_data",
          "data": {
            "image/png": "[encoded data removed]",
            "text/plain": [
              "<Figure size 1080x864 with 2 Axes>"
            ]
          },
          "metadata": {
            "tags": []
          }
        }
      ]
    },
    {
      "cell_type": "markdown",
      "metadata": {
        "id": "vHozr19A3Tei",
        "colab_type": "text"
      },
      "source": [
        "# Regression"
      ]
    },
    {
      "cell_type": "markdown",
      "metadata": {
        "id": "GuejtbVQgKL8",
        "colab_type": "text"
      },
      "source": [
        "### Linear regression"
      ]
    },
    {
      "cell_type": "code",
      "metadata": {
        "id": "SlO5SJGnhYAM",
        "colab_type": "code",
        "colab": {
          "base_uri": "https://localhost:8080/"
        },
        "outputId": "1f0bc4d2-9053-4ce9-dab1-e5bf8e465623"
      },
      "source": [
        "batch_validation_list = [batch1_validation,batch2_validation,batch3_validation,batch4_validation,batch5_validation,batch6_validation]\n",
        "batch_train_list = [batch1_train,batch2_train,batch3_train,batch4_train,batch5_train,batch6_train]\n",
        "batch_test_list = [batch1_test,batch2_test,batch3_test,batch4_test,batch5_test,batch6_test]\n",
        "\n",
        "ybar_train = []\n",
        "ybar_val = []\n",
        "ybar_test = []\n",
        "\n",
        "yhatbar_train = []\n",
        "yhatbar_val = []\n",
        "yhatbar_test = []\n",
        "\n",
        "date_train = []\n",
        "date_val = []\n",
        "date_test = []\n",
        "n = 0\n",
        "\n",
        "train_rmse_list = []\n",
        "test_rmse_list = []\n",
        "validation_rmse_list = []\n",
        "\n",
        "feature_cols = ['I','RH','UV', 'sza', 'I^(d-1)(t+6)', 'I(t-4)', 'I(t-7)','sza(t+6)']\n",
        "\n",
        "for batch_train,batch_val,batch_test in zip(batch_train_list,batch_validation_list,batch_test_list):\n",
        "    n += 1\n",
        "    y_train = batch_train['I(t+6)'].values\n",
        "    y_val = batch_val['I(t+6)'].values\n",
        "    y_test = batch_test['I(t+6)'].values\n",
        "\n",
        "    ############ FEATURE FOR MODEL #############\n",
        "    x_train = batch_train[feature_cols].values\n",
        "    x_val = batch_val[feature_cols].values\n",
        "    x_test = batch_test[feature_cols].values\n",
        "    ############ FEATURE FOR MODEL #############\n",
        "\n",
        "    ############ MODEL #######################\n",
        "    lin_reg = LinearRegression()\n",
        "    lin_reg.fit(x_train,y_train)\n",
        "    yhat_train = lin_reg.predict(x_train)\n",
        "    yhat_val = lin_reg.predict(x_val)\n",
        "    yhat_test = lin_reg.predict(x_test)\n",
        "    ############ MODEL #######################\n",
        "    \n",
        "    rmse_train = (mean_squared_error(y_train,yhat_train))**(1/2)\n",
        "    rmse_val = (mean_squared_error(y_val,yhat_val))**(1/2)\n",
        "    rmse_test = (mean_squared_error(y_test,yhat_test))**(1/2)\n",
        "\n",
        "    yhat_train[yhat_train<0] = 0\n",
        "    yhat_val[yhat_val<0] = 0\n",
        "    yhat_test[yhat_test<0] = 0\n",
        "\n",
        "\n",
        "\n",
        "    ybar_train.append(y_train)\n",
        "    ybar_val.append(y_val)\n",
        "    ybar_test.append(y_test)\n",
        "    \n",
        "\n",
        "    yhatbar_train.append(yhat_train)\n",
        "    yhatbar_val.append(yhat_val)\n",
        "    yhatbar_test.append(yhat_test)\n",
        "    \n",
        "    date_train.append(batch_train.index)\n",
        "    date_val.append(batch_val.index)\n",
        "    date_test.append(batch_test.index)\n",
        "\n",
        "    train_rmse_list.append(rmse_train)\n",
        "    test_rmse_list.append(rmse_test)\n",
        "    validation_rmse_list.append(rmse_val)\n",
        "    print(f'batch{n}_train : rmse = {rmse_train}')\n",
        "    print(f'batch{n}_validation : rmse = {rmse_val}')\n",
        "    print(f'batch{n}_test : rmse = {rmse_test}')\n",
        "    print('')\n",
        "    \n",
        "ybar_train = np.concatenate(ybar_train)\n",
        "ybar_val = np.concatenate(ybar_val)\n",
        "ybar_test = np.concatenate(ybar_test)\n",
        "\n",
        "yhatbar_train = np.concatenate(yhatbar_train)\n",
        "yhatbar_val = np.concatenate(yhatbar_val)\n",
        "yhatbar_test = np.concatenate(yhatbar_test)\n",
        "\n",
        "date_train = np.concatenate(date_train)\n",
        "date_val = np.concatenate(date_val)\n",
        "date_test = np.concatenate(date_test)\n",
        "\n",
        "#convert to forecast time\n",
        "date_train = date_train + np.timedelta64(3, 'h')\n",
        "date_val = date_val + np.timedelta64(3, 'h')\n",
        "date_test = date_test + np.timedelta64(3, 'h')\n",
        "\n",
        "print(f'average rmse of every batch in train = {(mean_squared_error(ybar_train,yhatbar_train))**(1/2)}')\n",
        "print(f'average rmse of every batch in validation = {(mean_squared_error(ybar_val,yhatbar_val))**(1/2)}')\n",
        "print(f'average rmse of every batch in test = {(mean_squared_error(ybar_test,yhatbar_test))**(1/2)}')"
      ],
      "execution_count": null,
      "outputs": [
        {
          "output_type": "stream",
          "text": [
            "batch1_train : rmse = 119.70206455295103\n",
            "batch1_validation : rmse = 121.93526328603492\n",
            "batch1_test : rmse = 117.55347645570761\n",
            "\n",
            "batch2_train : rmse = 112.93486352802081\n",
            "batch2_validation : rmse = 123.47604618213688\n",
            "batch2_test : rmse = 148.77126601213888\n",
            "\n",
            "batch3_train : rmse = 179.11800101555997\n",
            "batch3_validation : rmse = 190.73841980732473\n",
            "batch3_test : rmse = 209.1891111841886\n",
            "\n",
            "batch4_train : rmse = 147.52263584699355\n",
            "batch4_validation : rmse = 161.55962869702537\n",
            "batch4_test : rmse = 174.10518877140547\n",
            "\n",
            "batch5_train : rmse = 170.98119300862925\n",
            "batch5_validation : rmse = 167.62545734850494\n",
            "batch5_test : rmse = 155.7208648534081\n",
            "\n",
            "batch6_train : rmse = 155.64710116236452\n",
            "batch6_validation : rmse = 147.03224147306776\n",
            "batch6_test : rmse = 134.6865471036074\n",
            "\n",
            "average rmse of every batch in train = 148.8129073731802\n",
            "average rmse of every batch in validation = 150.7098889102028\n",
            "average rmse of every batch in test = 158.51148747902104\n"
          ],
          "name": "stdout"
        }
      ]
    },
    {
      "cell_type": "code",
      "metadata": {
        "id": "HMgGXgZe78Nl",
        "colab_type": "code",
        "colab": {
          "base_uri": "https://localhost:8080/"
        },
        "outputId": "3f3fb4af-4fbf-4c50-a529-761ca7bace05"
      },
      "source": [
        "plot_train_validation(train_rmse_list,validation_rmse_list,test_rmse_list,'Linear Regression')"
      ],
      "execution_count": null,
      "outputs": [
        {
          "output_type": "display_data",
          "data": {
            "image/png": "[encoded data removed]",
            "text/plain": [
              "<Figure size 1080x864 with 1 Axes>"
            ]
          },
          "metadata": {
            "tags": []
          }
        },
        {
          "output_type": "execute_result",
          "data": {
            "text/html": [
              "<div>\n",
              "<style scoped>\n",
              "    .dataframe tbody tr th:only-of-type {\n",
              "        vertical-align: middle;\n",
              "    }\n",
              "\n",
              "    .dataframe tbody tr th {\n",
              "        vertical-align: top;\n",
              "    }\n",
              "\n",
              "    .dataframe thead th {\n",
              "        text-align: right;\n",
              "    }\n",
              "</style>\n",
              "<table border=\"1\" class=\"dataframe\">\n",
              "  <thead>\n",
              "    <tr style=\"text-align: right;\">\n",
              "      <th></th>\n",
              "      <th>batch</th>\n",
              "      <th>rmse_train</th>\n",
              "      <th>rmse_validation</th>\n",
              "      <th>rmse_test</th>\n",
              "    </tr>\n",
              "  </thead>\n",
              "  <tbody>\n",
              "    <tr>\n",
              "      <th>0</th>\n",
              "      <td>Batch1</td>\n",
              "      <td>119.702065</td>\n",
              "      <td>121.935263</td>\n",
              "      <td>117.553476</td>\n",
              "    </tr>\n",
              "    <tr>\n",
              "      <th>1</th>\n",
              "      <td>Batch2</td>\n",
              "      <td>112.934864</td>\n",
              "      <td>123.476046</td>\n",
              "      <td>148.771266</td>\n",
              "    </tr>\n",
              "    <tr>\n",
              "      <th>2</th>\n",
              "      <td>Batch3</td>\n",
              "      <td>179.118001</td>\n",
              "      <td>190.738420</td>\n",
              "      <td>209.189111</td>\n",
              "    </tr>\n",
              "    <tr>\n",
              "      <th>3</th>\n",
              "      <td>Batch4</td>\n",
              "      <td>147.522636</td>\n",
              "      <td>161.559629</td>\n",
              "      <td>174.105189</td>\n",
              "    </tr>\n",
              "    <tr>\n",
              "      <th>4</th>\n",
              "      <td>Batch5</td>\n",
              "      <td>170.981193</td>\n",
              "      <td>167.625457</td>\n",
              "      <td>155.720865</td>\n",
              "    </tr>\n",
              "    <tr>\n",
              "      <th>5</th>\n",
              "      <td>Batch6</td>\n",
              "      <td>155.647101</td>\n",
              "      <td>147.032241</td>\n",
              "      <td>134.686547</td>\n",
              "    </tr>\n",
              "  </tbody>\n",
              "</table>\n",
              "</div>"
            ],
            "text/plain": [
              "    batch  rmse_train  rmse_validation   rmse_test\n",
              "0  Batch1  119.702065       121.935263  117.553476\n",
              "1  Batch2  112.934864       123.476046  148.771266\n",
              "2  Batch3  179.118001       190.738420  209.189111\n",
              "3  Batch4  147.522636       161.559629  174.105189\n",
              "4  Batch5  170.981193       167.625457  155.720865\n",
              "5  Batch6  155.647101       147.032241  134.686547"
            ]
          },
          "metadata": {
            "tags": []
          },
          "execution_count": 86
        }
      ]
    },
    {
      "cell_type": "markdown",
      "metadata": {
        "id": "sCzxOueO3bwD",
        "colab_type": "text"
      },
      "source": [
        "### Ridge\n"
      ]
    },
    {
      "cell_type": "code",
      "metadata": {
        "id": "0_xx852S3eh6",
        "colab_type": "code",
        "colab": {}
      },
      "source": [
        "##Finding the best alpha for ridge\n",
        "rmse_list = []\n",
        "rmse_list_train =[]\n",
        "dropped_features_list = []\n",
        "batch_train_list = [batch1_train,batch2_train,batch3_train,batch4_train,batch5_train,batch6_train]\n",
        "batch_validation_list = [batch1_validation,batch2_validation,batch3_validation,batch4_validation,batch5_validation,batch6_validation]\n",
        "r_2_list = []\n",
        "log_alphas = np.flip(np.arange(-4,4.51,(4-(-4.5))/150))\n",
        "alphas = math.e**log_alphas\n",
        "feature_cols = ['I','RH','UV', 'sza', 'I^(d-1)(t+6)', 'I(t-4)', 'I(t-7)','sza(t+6)']\n",
        "for alpha in alphas:\n",
        "  r_2_alpha = 0\n",
        "  pred_list = np.empty(0)\n",
        "  y_true_list = np.empty(0)\n",
        "  pred_list_train = np.empty(0)\n",
        "  y_true_list_train = np.empty(0)\n",
        " \n",
        "  for i in range(len(batch_train_list)):\n",
        "    batch_X_train = batch_train_list[i][feature_cols]\n",
        "    batch_y_train = batch_train_list[i][target]\n",
        "    batch_X_validation =  batch_validation_list[i][feature_cols]\n",
        "    batch_y_validation =  batch_validation_list[i][target]\n",
        "\n",
        "    scaler = StandardScaler()\n",
        "    batch_X_train = scaler.fit_transform(batch_X_train)\n",
        "    batch_X_validation = scaler.transform(batch_X_validation)\n",
        "\n",
        "    ridge = Ridge(alpha = alpha)\n",
        "    ridge.fit(batch_X_train,batch_y_train)\n",
        "    y_pred_batch_ridge = ridge.predict(batch_X_validation)\n",
        "\n",
        "    pred_list = np.append(pred_list ,y_pred_batch_ridge)\n",
        "    y_true_list = np.append(y_true_list,batch_y_validation.values.reshape(1,-1)[0])\n",
        "    pred_list[pred_list<0] = 0\n",
        "    y_pred_batch_ridge_train = ridge.predict(batch_X_train)\n",
        "\n",
        "    pred_list_train = np.append(pred_list_train,y_pred_batch_ridge_train)\n",
        "    y_true_list_train =  np.append(y_true_list_train,batch_y_train.values.reshape(1,-1)[0])\n",
        "\n",
        "  rmse = np.sqrt(mean_squared_error(y_true_list,pred_list))\n",
        "  rmse_list.append(rmse)\n",
        "  \n",
        "  rmse_train = np.sqrt(mean_squared_error(y_true_list_train,pred_list_train))\n",
        "  rmse_list_train.append(rmse_train)"
      ],
      "execution_count": null,
      "outputs": []
    },
    {
      "cell_type": "code",
      "metadata": {
        "id": "pDH1JTnX7NsU",
        "colab_type": "code",
        "colab": {
          "base_uri": "https://localhost:8080/"
        },
        "outputId": "d893a5c1-a72c-408a-e955-b7add5af05f4"
      },
      "source": [
        "result_ridge = pd.DataFrame({\"alphas\":alphas,\"rmse_validation\":rmse_list,'rmse_train':rmse_list_train})\n",
        "result_ridge.sort_values(by='rmse_validation', ascending = True).head(10)     "
      ],
      "execution_count": null,
      "outputs": [
        {
          "output_type": "execute_result",
          "data": {
            "text/html": [
              "<div>\n",
              "<style scoped>\n",
              "    .dataframe tbody tr th:only-of-type {\n",
              "        vertical-align: middle;\n",
              "    }\n",
              "\n",
              "    .dataframe tbody tr th {\n",
              "        vertical-align: top;\n",
              "    }\n",
              "\n",
              "    .dataframe thead th {\n",
              "        text-align: right;\n",
              "    }\n",
              "</style>\n",
              "<table border=\"1\" class=\"dataframe\">\n",
              "  <thead>\n",
              "    <tr style=\"text-align: right;\">\n",
              "      <th></th>\n",
              "      <th>alphas</th>\n",
              "      <th>rmse_validation</th>\n",
              "      <th>rmse_train</th>\n",
              "    </tr>\n",
              "  </thead>\n",
              "  <tbody>\n",
              "    <tr>\n",
              "      <th>42</th>\n",
              "      <td>8.331137</td>\n",
              "      <td>150.667558</td>\n",
              "      <td>149.820050</td>\n",
              "    </tr>\n",
              "    <tr>\n",
              "      <th>41</th>\n",
              "      <td>8.816868</td>\n",
              "      <td>150.667616</td>\n",
              "      <td>149.824882</td>\n",
              "    </tr>\n",
              "    <tr>\n",
              "      <th>43</th>\n",
              "      <td>7.872167</td>\n",
              "      <td>150.667699</td>\n",
              "      <td>149.815658</td>\n",
              "    </tr>\n",
              "    <tr>\n",
              "      <th>40</th>\n",
              "      <td>9.330917</td>\n",
              "      <td>150.667899</td>\n",
              "      <td>149.830193</td>\n",
              "    </tr>\n",
              "    <tr>\n",
              "      <th>44</th>\n",
              "      <td>7.438481</td>\n",
              "      <td>150.668015</td>\n",
              "      <td>149.811669</td>\n",
              "    </tr>\n",
              "    <tr>\n",
              "      <th>39</th>\n",
              "      <td>9.874938</td>\n",
              "      <td>150.668436</td>\n",
              "      <td>149.836026</td>\n",
              "    </tr>\n",
              "    <tr>\n",
              "      <th>45</th>\n",
              "      <td>7.028688</td>\n",
              "      <td>150.668485</td>\n",
              "      <td>149.808049</td>\n",
              "    </tr>\n",
              "    <tr>\n",
              "      <th>46</th>\n",
              "      <td>6.641470</td>\n",
              "      <td>150.669087</td>\n",
              "      <td>149.804766</td>\n",
              "    </tr>\n",
              "    <tr>\n",
              "      <th>38</th>\n",
              "      <td>10.450676</td>\n",
              "      <td>150.669257</td>\n",
              "      <td>149.842426</td>\n",
              "    </tr>\n",
              "    <tr>\n",
              "      <th>47</th>\n",
              "      <td>6.275585</td>\n",
              "      <td>150.669796</td>\n",
              "      <td>149.801792</td>\n",
              "    </tr>\n",
              "  </tbody>\n",
              "</table>\n",
              "</div>"
            ],
            "text/plain": [
              "       alphas  rmse_validation  rmse_train\n",
              "42   8.331137       150.667558  149.820050\n",
              "41   8.816868       150.667616  149.824882\n",
              "43   7.872167       150.667699  149.815658\n",
              "40   9.330917       150.667899  149.830193\n",
              "44   7.438481       150.668015  149.811669\n",
              "39   9.874938       150.668436  149.836026\n",
              "45   7.028688       150.668485  149.808049\n",
              "46   6.641470       150.669087  149.804766\n",
              "38  10.450676       150.669257  149.842426\n",
              "47   6.275585       150.669796  149.801792"
            ]
          },
          "metadata": {
            "tags": []
          },
          "execution_count": 88
        }
      ]
    },
    {
      "cell_type": "code",
      "metadata": {
        "id": "D03ZT7mE0Kb_",
        "colab_type": "code",
        "colab": {
          "base_uri": "https://localhost:8080/"
        },
        "outputId": "05e086d3-20f5-465a-fb94-215be9a1c7c8"
      },
      "source": [
        "plot_train_validation(train_rmse_list,validation_rmse_list,test_rmse_list,'Ridge Regression')"
      ],
      "execution_count": null,
      "outputs": [
        {
          "output_type": "display_data",
          "data": {
            "image/png": "[encoded data removed]",
            "text/plain": [
              "<Figure size 1080x864 with 1 Axes>"
            ]
          },
          "metadata": {
            "tags": []
          }
        },
        {
          "output_type": "execute_result",
          "data": {
            "text/html": [
              "<div>\n",
              "<style scoped>\n",
              "    .dataframe tbody tr th:only-of-type {\n",
              "        vertical-align: middle;\n",
              "    }\n",
              "\n",
              "    .dataframe tbody tr th {\n",
              "        vertical-align: top;\n",
              "    }\n",
              "\n",
              "    .dataframe thead th {\n",
              "        text-align: right;\n",
              "    }\n",
              "</style>\n",
              "<table border=\"1\" class=\"dataframe\">\n",
              "  <thead>\n",
              "    <tr style=\"text-align: right;\">\n",
              "      <th></th>\n",
              "      <th>batch</th>\n",
              "      <th>rmse_train</th>\n",
              "      <th>rmse_validation</th>\n",
              "      <th>rmse_test</th>\n",
              "    </tr>\n",
              "  </thead>\n",
              "  <tbody>\n",
              "    <tr>\n",
              "      <th>0</th>\n",
              "      <td>Batch1</td>\n",
              "      <td>119.702065</td>\n",
              "      <td>121.935263</td>\n",
              "      <td>117.553476</td>\n",
              "    </tr>\n",
              "    <tr>\n",
              "      <th>1</th>\n",
              "      <td>Batch2</td>\n",
              "      <td>112.934864</td>\n",
              "      <td>123.476046</td>\n",
              "      <td>148.771266</td>\n",
              "    </tr>\n",
              "    <tr>\n",
              "      <th>2</th>\n",
              "      <td>Batch3</td>\n",
              "      <td>179.118001</td>\n",
              "      <td>190.738420</td>\n",
              "      <td>209.189111</td>\n",
              "    </tr>\n",
              "    <tr>\n",
              "      <th>3</th>\n",
              "      <td>Batch4</td>\n",
              "      <td>147.522636</td>\n",
              "      <td>161.559629</td>\n",
              "      <td>174.105189</td>\n",
              "    </tr>\n",
              "    <tr>\n",
              "      <th>4</th>\n",
              "      <td>Batch5</td>\n",
              "      <td>170.981193</td>\n",
              "      <td>167.625457</td>\n",
              "      <td>155.720865</td>\n",
              "    </tr>\n",
              "    <tr>\n",
              "      <th>5</th>\n",
              "      <td>Batch6</td>\n",
              "      <td>155.647101</td>\n",
              "      <td>147.032241</td>\n",
              "      <td>134.686547</td>\n",
              "    </tr>\n",
              "  </tbody>\n",
              "</table>\n",
              "</div>"
            ],
            "text/plain": [
              "    batch  rmse_train  rmse_validation   rmse_test\n",
              "0  Batch1  119.702065       121.935263  117.553476\n",
              "1  Batch2  112.934864       123.476046  148.771266\n",
              "2  Batch3  179.118001       190.738420  209.189111\n",
              "3  Batch4  147.522636       161.559629  174.105189\n",
              "4  Batch5  170.981193       167.625457  155.720865\n",
              "5  Batch6  155.647101       147.032241  134.686547"
            ]
          },
          "metadata": {
            "tags": []
          },
          "execution_count": 89
        }
      ]
    },
    {
      "cell_type": "code",
      "metadata": {
        "id": "_rYVqvHQxa2z",
        "colab_type": "code",
        "colab": {
          "base_uri": "https://localhost:8080/"
        },
        "outputId": "246dc067-f84c-4671-b89f-ed1db53f45ab"
      },
      "source": [
        "batch_validation_list = [batch1_validation,batch2_validation,batch3_validation,batch4_validation,batch5_validation,batch6_validation]\n",
        "batch_train_list = [batch1_train,batch2_train,batch3_train,batch4_train,batch5_train,batch6_train]\n",
        "batch_test_list = [batch1_test,batch2_test,batch3_test,batch4_test,batch5_test,batch6_test]\n",
        "\n",
        "ybar_train = []\n",
        "ybar_val = []\n",
        "ybar_test = []\n",
        "\n",
        "yhatbar_train = []\n",
        "yhatbar_val = []\n",
        "yhatbar_test = []\n",
        "\n",
        "date_train = []\n",
        "date_val = []\n",
        "date_test = []\n",
        "n = 0\n",
        "for batch_train,batch_val,batch_test in zip(batch_train_list,batch_validation_list,batch_test_list):\n",
        "    n += 1\n",
        "    y_train = batch_train['I(t+6)'].values\n",
        "    y_val = batch_val['I(t+6)'].values\n",
        "    y_test = batch_test['I(t+6)'].values\n",
        "\n",
        "    ############ FEATURE FOR MODEL #############\n",
        "    x_train = batch_train[feature_cols].values\n",
        "    x_val = batch_val[feature_cols].values\n",
        "    x_test = batch_test[feature_cols].values\n",
        "    ############ FEATURE FOR MODEL #############\n",
        "\n",
        "    ############ MODEL #######################\n",
        "    ridge = Ridge(alpha = 19.491920)\n",
        "    ridge.fit(x_train,y_train)\n",
        "    yhat_train = ridge.predict(x_train)\n",
        "    yhat_val = ridge.predict(x_val)\n",
        "    yhat_test = ridge.predict(x_test)\n",
        "\n",
        "    ############ MODEL #######################\n",
        "    \n",
        "    rmse_train = (mean_squared_error(y_train,yhat_train))**(1/2)\n",
        "    rmse_val = (mean_squared_error(y_val,yhat_val))**(1/2)\n",
        "    rmse_test = (mean_squared_error(y_test,yhat_test))**(1/2)\n",
        "    \n",
        "    ybar_train.append(y_train)\n",
        "    ybar_val.append(y_val)\n",
        "    ybar_test.append(y_test)\n",
        "    \n",
        "    yhatbar_train.append(yhat_train)\n",
        "    yhatbar_val.append(yhat_val)\n",
        "    yhatbar_test.append(yhat_test)\n",
        "    \n",
        "    date_train.append(batch_train.index)\n",
        "    date_val.append(batch_val.index)\n",
        "    date_test.append(batch_test.index)\n",
        "\n",
        "    print(f'batch{n}_train : rmse = {rmse_train}')\n",
        "    print(f'batch{n}_validation : rmse = {rmse_val}')\n",
        "    print(f'batch{n}_test : rmse = {rmse_test}')\n",
        "    print('')\n",
        "    \n",
        "ybar_train = np.concatenate(ybar_train)\n",
        "ybar_val = np.concatenate(ybar_val)\n",
        "ybar_test = np.concatenate(ybar_test)\n",
        "\n",
        "yhatbar_train = np.concatenate(yhatbar_train)\n",
        "yhatbar_val = np.concatenate(yhatbar_val)\n",
        "yhatbar_test = np.concatenate(yhatbar_test)\n",
        "\n",
        "date_train = np.concatenate(date_train)\n",
        "date_val = np.concatenate(date_val)\n",
        "date_test = np.concatenate(date_test)\n",
        "\n",
        "#convert to forecast time\n",
        "date_train = date_train + np.timedelta64(3, 'h')\n",
        "date_val = date_val + np.timedelta64(3, 'h')\n",
        "date_test = date_test + np.timedelta64(3, 'h')\n",
        "\n",
        "print(f'average rmse of every batch in train = {(mean_squared_error(ybar_train,yhatbar_train))**(1/2)}')\n",
        "print(f'average rmse of every batch in validation = {(mean_squared_error(ybar_val,yhatbar_val))**(1/2)}')\n",
        "print(f'average rmse of every batch in test = {(mean_squared_error(ybar_test,yhatbar_test))**(1/2)}')"
      ],
      "execution_count": null,
      "outputs": [
        {
          "output_type": "stream",
          "text": [
            "batch1_train : rmse = 123.75717935681591\n",
            "batch1_validation : rmse = 132.21535097781677\n",
            "batch1_test : rmse = 124.9377069810856\n",
            "\n",
            "batch2_train : rmse = 118.91599813243214\n",
            "batch2_validation : rmse = 138.0984297195028\n",
            "batch2_test : rmse = 160.0998516425557\n",
            "\n",
            "batch3_train : rmse = 183.80052721450164\n",
            "batch3_validation : rmse = 194.72291542747618\n",
            "batch3_test : rmse = 211.46104059274415\n",
            "\n",
            "batch4_train : rmse = 152.20401575260277\n",
            "batch4_validation : rmse = 162.29022442863817\n",
            "batch4_test : rmse = 181.4800956478989\n",
            "\n",
            "batch5_train : rmse = 176.4101056886668\n",
            "batch5_validation : rmse = 169.53600239065003\n",
            "batch5_test : rmse = 157.63498762880937\n",
            "\n",
            "batch6_train : rmse = 159.139194394366\n",
            "batch6_validation : rmse = 148.81566116402624\n",
            "batch6_test : rmse = 139.73802761555177\n",
            "\n",
            "average rmse of every batch in train = 154.4079363152893\n",
            "average rmse of every batch in validation = 157.32557979017665\n",
            "average rmse of every batch in test = 164.90794731459502\n"
          ],
          "name": "stdout"
        }
      ]
    },
    {
      "cell_type": "code",
      "metadata": {
        "id": "obm4xCDM7Ceq",
        "colab_type": "code",
        "colab": {
          "base_uri": "https://localhost:8080/"
        },
        "outputId": "b1b2d6d0-97ac-4f22-9e54-fba046a865c3"
      },
      "source": [
        "ridge = pd.DataFrame()\n",
        "ridge['measure'] = ybar_test\n",
        "ridge['ridge'] = yhatbar_test\n",
        "ridge['Datetime'] = date_test \n",
        "visualize(ridge, ['ridge'] , 'measure' ,show = False, save = False, visualize = True)"
      ],
      "execution_count": null,
      "outputs": [
        {
          "output_type": "stream",
          "text": [
            "error summary\n",
            "\n",
            "            ridge\n",
            "MBE     21.682465\n",
            "MAE    125.672196\n",
            "RMSE   164.907947\n",
            "NRMSE   16.490795\n",
            "\n"
          ],
          "name": "stdout"
        },
        {
          "output_type": "display_data",
          "data": {
            "image/png": "[encoded data removed]",
            "text/plain": [
              "<Figure size 1080x864 with 2 Axes>"
            ]
          },
          "metadata": {
            "tags": []
          }
        }
      ]
    },
    {
      "cell_type": "markdown",
      "metadata": {
        "id": "ULlnlLoC3aBr",
        "colab_type": "text"
      },
      "source": [
        "### Lasso"
      ]
    },
    {
      "cell_type": "code",
      "metadata": {
        "id": "azku45P6pPVV",
        "colab_type": "code",
        "colab": {}
      },
      "source": [
        "##Finding the best alpha for lasso\n",
        "\n",
        "rmse_list = []\n",
        "rmse_list_train = []\n",
        "dropped_features_list = []\n",
        "batch_train_list = [batch1_train,batch2_train,batch3_train,batch4_train,batch5_train,batch6_train]\n",
        "batch_validation_list = [batch1_validation,batch2_validation,batch3_validation,batch4_validation,batch5_validation,batch6_validation]\n",
        "r_2_list = []\n",
        "log_alphas = np.flip(np.arange(-4,4.51,(4-(-4.5))/150))\n",
        "alphas = math.e**log_alphas\n",
        "for alpha in alphas:\n",
        "  r_2_alpha = 0\n",
        "  pred_list = np.empty(0)\n",
        "  y_true_list = np.empty(0)\n",
        "  pred_list_train = np.empty(0)\n",
        "  y_true_list_train = np.empty(0)\n",
        "  \n",
        "  for i in range(len(batch_train_list)):\n",
        "    batch_X_train = batch_train_list[i][feature_cols]\n",
        "    batch_y_train = batch_train_list[i][target]\n",
        "    batch_X_validation =  batch_validation_list[i][feature_cols]\n",
        "    batch_y_validation =  batch_validation_list[i][target]\n",
        "\n",
        "    scaler = StandardScaler()\n",
        "    batch_X_train = scaler.fit_transform(batch_X_train)\n",
        "    batch_X_validation = scaler.transform(batch_X_validation)\n",
        "\n",
        "    lasso = Lasso(alpha = alpha)\n",
        "    lasso.fit(batch_X_train,batch_y_train)\n",
        "    y_pred_batch_lasso = lasso.predict(batch_X_validation)\n",
        "\n",
        "    pred_list = np.append(pred_list ,y_pred_batch_lasso)\n",
        "    y_true_list = np.append(y_true_list,batch_y_validation.values.reshape(1,-1)[0])\n",
        "    pred_list[pred_list<0] = 0\n",
        "    y_pred_batch_lasso_train = lasso.predict(batch_X_train)\n",
        "\n",
        "    pred_list_train = np.append(pred_list_train,y_pred_batch_lasso_train)\n",
        "    y_true_list_train = np.append(y_true_list_train,batch_y_train.values.reshape(1,-1)[0])\n",
        "\n",
        "    # weighted_batch_r2 = (r2_score(batch_y_validation.values.reshape(1,-1)[0], y_pred_batch_lasso)) * len(batch_X_train)/len(train_final)\n",
        "    # r_2_alpha += weighted_batch_r2\n",
        "  # r_2_list.append(r_2_alpha)\n",
        "\n",
        "  rmse = np.sqrt(mean_squared_error(y_true_list,pred_list))\n",
        "  rmse_list.append(rmse)\n",
        "\n",
        "  rmse_train = np.sqrt(mean_squared_error(y_true_list_train,pred_list_train))\n",
        "  rmse_list_train.append(rmse_train)"
      ],
      "execution_count": null,
      "outputs": []
    },
    {
      "cell_type": "code",
      "metadata": {
        "id": "Rmy7O0kvqq6e",
        "colab_type": "code",
        "colab": {
          "base_uri": "https://localhost:8080/"
        },
        "outputId": "e46c48cb-8541-4dfe-b701-800a80119922"
      },
      "source": [
        "result_lasso = pd.DataFrame({\"alphas\":alphas,\"rmse_validation\":rmse_list,'rmse_train':rmse_list_train})\n",
        "result_lasso.sort_values(by='rmse_validation', ascending = True).head()     "
      ],
      "execution_count": null,
      "outputs": [
        {
          "output_type": "execute_result",
          "data": {
            "text/html": [
              "<div>\n",
              "<style scoped>\n",
              "    .dataframe tbody tr th:only-of-type {\n",
              "        vertical-align: middle;\n",
              "    }\n",
              "\n",
              "    .dataframe tbody tr th {\n",
              "        vertical-align: top;\n",
              "    }\n",
              "\n",
              "    .dataframe thead th {\n",
              "        text-align: right;\n",
              "    }\n",
              "</style>\n",
              "<table border=\"1\" class=\"dataframe\">\n",
              "  <thead>\n",
              "    <tr style=\"text-align: right;\">\n",
              "      <th></th>\n",
              "      <th>alphas</th>\n",
              "      <th>rmse_validation</th>\n",
              "      <th>rmse_train</th>\n",
              "    </tr>\n",
              "  </thead>\n",
              "  <tbody>\n",
              "    <tr>\n",
              "      <th>83</th>\n",
              "      <td>0.816006</td>\n",
              "      <td>150.543476</td>\n",
              "      <td>149.904455</td>\n",
              "    </tr>\n",
              "    <tr>\n",
              "      <th>84</th>\n",
              "      <td>0.771052</td>\n",
              "      <td>150.544524</td>\n",
              "      <td>149.891104</td>\n",
              "    </tr>\n",
              "    <tr>\n",
              "      <th>82</th>\n",
              "      <td>0.863582</td>\n",
              "      <td>150.544623</td>\n",
              "      <td>149.919232</td>\n",
              "    </tr>\n",
              "    <tr>\n",
              "      <th>85</th>\n",
              "      <td>0.728574</td>\n",
              "      <td>150.546249</td>\n",
              "      <td>149.878547</td>\n",
              "    </tr>\n",
              "    <tr>\n",
              "      <th>81</th>\n",
              "      <td>0.913931</td>\n",
              "      <td>150.546534</td>\n",
              "      <td>149.935695</td>\n",
              "    </tr>\n",
              "  </tbody>\n",
              "</table>\n",
              "</div>"
            ],
            "text/plain": [
              "      alphas  rmse_validation  rmse_train\n",
              "83  0.816006       150.543476  149.904455\n",
              "84  0.771052       150.544524  149.891104\n",
              "82  0.863582       150.544623  149.919232\n",
              "85  0.728574       150.546249  149.878547\n",
              "81  0.913931       150.546534  149.935695"
            ]
          },
          "metadata": {
            "tags": []
          },
          "execution_count": 95
        }
      ]
    },
    {
      "cell_type": "code",
      "metadata": {
        "id": "BivIAO1f8wSn",
        "colab_type": "code",
        "colab": {
          "base_uri": "https://localhost:8080/"
        },
        "outputId": "59954c5e-75bc-4a0c-8372-d718e5049b24"
      },
      "source": [
        "batch_validation_list = [batch1_validation,batch2_validation,batch3_validation,batch4_validation,batch5_validation,batch6_validation]\n",
        "batch_train_list = [batch1_train,batch2_train,batch3_train,batch4_train,batch5_train,batch6_train]\n",
        "batch_test_list = [batch1_test,batch2_test,batch3_test,batch4_test,batch5_test,batch6_test]\n",
        "\n",
        "ybar_train = []\n",
        "ybar_val = []\n",
        "ybar_test = []\n",
        "\n",
        "yhatbar_train = []\n",
        "yhatbar_val = []\n",
        "yhatbar_test = []\n",
        "\n",
        "date_train = []\n",
        "date_val = []\n",
        "date_test = []\n",
        "\n",
        "train_rmse_list = []\n",
        "test_rmse_list = []\n",
        "validation_rmse_list = []\n",
        "n = 0\n",
        "for batch_train,batch_val,batch_test in zip(batch_train_list,batch_validation_list,batch_test_list):\n",
        "    n += 1\n",
        "    y_train = batch_train['I(t+6)'].values\n",
        "    y_val = batch_val['I(t+6)'].values\n",
        "    y_test = batch_test['I(t+6)'].values\n",
        "\n",
        "    ############ FEATURE FOR MODEL #############\n",
        "    x_train = batch_train[feature_cols].values\n",
        "    x_val = batch_val[feature_cols].values\n",
        "    x_test = batch_test[feature_cols].values\n",
        "    ############ FEATURE FOR MODEL #############\n",
        "\n",
        "    ############ MODEL #######################\n",
        "    lasso = Lasso(alpha = 0.913931)\n",
        "    lasso.fit(x_train,y_train)\n",
        "    yhat_train = lasso.predict(x_train)\n",
        "    yhat_val = lasso.predict(x_val)\n",
        "    yhat_test = lasso.predict(x_test)\n",
        "\n",
        "    ############ MODEL #######################\n",
        "    \n",
        "    rmse_train = (mean_squared_error(y_train,yhat_train))**(1/2)\n",
        "    rmse_val = (mean_squared_error(y_val,yhat_val))**(1/2)\n",
        "    rmse_test = (mean_squared_error(y_test,yhat_test))**(1/2)\n",
        "    \n",
        "    ybar_train.append(y_train)\n",
        "    ybar_val.append(y_val)\n",
        "    ybar_test.append(y_test)\n",
        "    \n",
        "    yhatbar_train.append(yhat_train)\n",
        "    yhatbar_val.append(yhat_val)\n",
        "    yhatbar_test.append(yhat_test)\n",
        "    \n",
        "    date_train.append(batch_train.index)\n",
        "    date_val.append(batch_val.index)\n",
        "    date_test.append(batch_test.index)\n",
        "\n",
        "    print(f'batch{n}_train : rmse = {rmse_train}')\n",
        "    print(f'batch{n}_validation : rmse = {rmse_val}')\n",
        "    print(f'batch{n}_test : rmse = {rmse_test}')\n",
        "    print('')\n",
        "\n",
        "    train_rmse_list.append(rmse_train)\n",
        "    test_rmse_list.append(rmse_test)\n",
        "    validation_rmse_list.append(rmse_val)\n",
        "    \n",
        "ybar_train = np.concatenate(ybar_train)\n",
        "ybar_val = np.concatenate(ybar_val)\n",
        "ybar_test = np.concatenate(ybar_test)\n",
        "\n",
        "yhatbar_train = np.concatenate(yhatbar_train)\n",
        "yhatbar_val = np.concatenate(yhatbar_val)\n",
        "yhatbar_test = np.concatenate(yhatbar_test)\n",
        "\n",
        "date_train = np.concatenate(date_train)\n",
        "date_val = np.concatenate(date_val)\n",
        "date_test = np.concatenate(date_test)\n",
        "\n",
        "#convert to forecast time\n",
        "date_train = date_train + np.timedelta64(3, 'h')\n",
        "date_val = date_val + np.timedelta64(3, 'h')\n",
        "date_test = date_test + np.timedelta64(3, 'h')\n",
        "\n",
        "print(f'average rmse of every batch in train = {(mean_squared_error(ybar_train,yhatbar_train))**(1/2)}')\n",
        "print(f'average rmse of every batch in validation = {(mean_squared_error(ybar_val,yhatbar_val))**(1/2)}')\n",
        "print(f'average rmse of every batch in test = {(mean_squared_error(ybar_test,yhatbar_test))**(1/2)}')"
      ],
      "execution_count": null,
      "outputs": [
        {
          "output_type": "stream",
          "text": [
            "batch1_train : rmse = 120.45774623188447\n",
            "batch1_validation : rmse = 125.41067969731601\n",
            "batch1_test : rmse = 119.93231845033729\n",
            "\n",
            "batch2_train : rmse = 113.5936845788889\n",
            "batch2_validation : rmse = 127.56085406065701\n",
            "batch2_test : rmse = 151.36747412998417\n",
            "\n",
            "batch3_train : rmse = 179.4634523591493\n",
            "batch3_validation : rmse = 190.90527005071988\n",
            "batch3_test : rmse = 209.44471301331447\n",
            "\n",
            "batch4_train : rmse = 147.97482152680098\n",
            "batch4_validation : rmse = 161.900733566553\n",
            "batch4_test : rmse = 176.3441908855124\n",
            "\n",
            "batch5_train : rmse = 171.34915777788717\n",
            "batch5_validation : rmse = 167.23090710802893\n",
            "batch5_test : rmse = 155.42665267983767\n",
            "\n",
            "batch6_train : rmse = 156.01117270896398\n",
            "batch6_validation : rmse = 147.34665694430203\n",
            "batch6_test : rmse = 135.82368707850134\n",
            "\n",
            "average rmse of every batch in train = 150.2344876866243\n",
            "average rmse of every batch in validation = 152.85154594108715\n",
            "average rmse of every batch in test = 160.68741551674344\n"
          ],
          "name": "stdout"
        }
      ]
    },
    {
      "cell_type": "code",
      "metadata": {
        "id": "Um2YKj0HhOQt",
        "colab_type": "code",
        "colab": {
          "base_uri": "https://localhost:8080/"
        },
        "outputId": "99615bac-8d42-411d-8bf4-f567103568a3"
      },
      "source": [
        "plot_train_validation(train_rmse_list,validation_rmse_list,test_rmse_list,'Lasso')"
      ],
      "execution_count": null,
      "outputs": [
        {
          "output_type": "display_data",
          "data": {
            "image/png": "[encoded data removed]",
            "text/plain": [
              "<Figure size 1080x864 with 1 Axes>"
            ]
          },
          "metadata": {
            "tags": []
          }
        },
        {
          "output_type": "execute_result",
          "data": {
            "text/html": [
              "<div>\n",
              "<style scoped>\n",
              "    .dataframe tbody tr th:only-of-type {\n",
              "        vertical-align: middle;\n",
              "    }\n",
              "\n",
              "    .dataframe tbody tr th {\n",
              "        vertical-align: top;\n",
              "    }\n",
              "\n",
              "    .dataframe thead th {\n",
              "        text-align: right;\n",
              "    }\n",
              "</style>\n",
              "<table border=\"1\" class=\"dataframe\">\n",
              "  <thead>\n",
              "    <tr style=\"text-align: right;\">\n",
              "      <th></th>\n",
              "      <th>batch</th>\n",
              "      <th>rmse_train</th>\n",
              "      <th>rmse_validation</th>\n",
              "      <th>rmse_test</th>\n",
              "    </tr>\n",
              "  </thead>\n",
              "  <tbody>\n",
              "    <tr>\n",
              "      <th>0</th>\n",
              "      <td>Batch1</td>\n",
              "      <td>120.457746</td>\n",
              "      <td>125.410680</td>\n",
              "      <td>119.932318</td>\n",
              "    </tr>\n",
              "    <tr>\n",
              "      <th>1</th>\n",
              "      <td>Batch2</td>\n",
              "      <td>113.593685</td>\n",
              "      <td>127.560854</td>\n",
              "      <td>151.367474</td>\n",
              "    </tr>\n",
              "    <tr>\n",
              "      <th>2</th>\n",
              "      <td>Batch3</td>\n",
              "      <td>179.463452</td>\n",
              "      <td>190.905270</td>\n",
              "      <td>209.444713</td>\n",
              "    </tr>\n",
              "    <tr>\n",
              "      <th>3</th>\n",
              "      <td>Batch4</td>\n",
              "      <td>147.974822</td>\n",
              "      <td>161.900734</td>\n",
              "      <td>176.344191</td>\n",
              "    </tr>\n",
              "    <tr>\n",
              "      <th>4</th>\n",
              "      <td>Batch5</td>\n",
              "      <td>171.349158</td>\n",
              "      <td>167.230907</td>\n",
              "      <td>155.426653</td>\n",
              "    </tr>\n",
              "    <tr>\n",
              "      <th>5</th>\n",
              "      <td>Batch6</td>\n",
              "      <td>156.011173</td>\n",
              "      <td>147.346657</td>\n",
              "      <td>135.823687</td>\n",
              "    </tr>\n",
              "  </tbody>\n",
              "</table>\n",
              "</div>"
            ],
            "text/plain": [
              "    batch  rmse_train  rmse_validation   rmse_test\n",
              "0  Batch1  120.457746       125.410680  119.932318\n",
              "1  Batch2  113.593685       127.560854  151.367474\n",
              "2  Batch3  179.463452       190.905270  209.444713\n",
              "3  Batch4  147.974822       161.900734  176.344191\n",
              "4  Batch5  171.349158       167.230907  155.426653\n",
              "5  Batch6  156.011173       147.346657  135.823687"
            ]
          },
          "metadata": {
            "tags": []
          },
          "execution_count": 98
        }
      ]
    },
    {
      "cell_type": "code",
      "metadata": {
        "id": "EEmpmo7z87Cs",
        "colab_type": "code",
        "colab": {
          "base_uri": "https://localhost:8080/"
        },
        "outputId": "828cf814-648f-472a-f9d0-bbd6de3c36f3"
      },
      "source": [
        "lasso = pd.DataFrame()\n",
        "lasso['measure'] = ybar_test\n",
        "lasso['lasso'] = yhatbar_test\n",
        "lasso['Datetime'] = date_test \n",
        "visualize(lasso, ['lasso'] , 'measure' ,show = False, save = False, visualize = True)"
      ],
      "execution_count": null,
      "outputs": [
        {
          "output_type": "stream",
          "text": [
            "error summary\n",
            "\n",
            "            lasso\n",
            "MBE     22.883221\n",
            "MAE    121.060132\n",
            "RMSE   160.687416\n",
            "NRMSE   16.068742\n",
            "\n"
          ],
          "name": "stdout"
        },
        {
          "output_type": "display_data",
          "data": {
            "image/png": "[encoded data removed]",
            "text/plain": [
              "<Figure size 1080x864 with 2 Axes>"
            ]
          },
          "metadata": {
            "tags": []
          }
        }
      ]
    },
    {
      "cell_type": "markdown",
      "metadata": {
        "id": "u32K9wm3JWz7",
        "colab_type": "text"
      },
      "source": [
        "### Elastic"
      ]
    },
    {
      "cell_type": "code",
      "metadata": {
        "id": "kY36U7B8-h6h",
        "colab_type": "code",
        "colab": {
          "base_uri": "https://localhost:8080/"
        },
        "outputId": "64c99ac2-7e3e-4174-a313-f83693593fe6"
      },
      "source": [
        "result_elastic = pd.DataFrame({\"Alpha\":[],\"L1_ratio\":[],\"rmse_validation\":[],'rmse_train':[]})\n",
        "result_elastic"
      ],
      "execution_count": null,
      "outputs": [
        {
          "output_type": "execute_result",
          "data": {
            "text/html": [
              "<div>\n",
              "<style scoped>\n",
              "    .dataframe tbody tr th:only-of-type {\n",
              "        vertical-align: middle;\n",
              "    }\n",
              "\n",
              "    .dataframe tbody tr th {\n",
              "        vertical-align: top;\n",
              "    }\n",
              "\n",
              "    .dataframe thead th {\n",
              "        text-align: right;\n",
              "    }\n",
              "</style>\n",
              "<table border=\"1\" class=\"dataframe\">\n",
              "  <thead>\n",
              "    <tr style=\"text-align: right;\">\n",
              "      <th></th>\n",
              "      <th>Alpha</th>\n",
              "      <th>L1_ratio</th>\n",
              "      <th>rmse_validation</th>\n",
              "      <th>rmse_train</th>\n",
              "    </tr>\n",
              "  </thead>\n",
              "  <tbody>\n",
              "  </tbody>\n",
              "</table>\n",
              "</div>"
            ],
            "text/plain": [
              "Empty DataFrame\n",
              "Columns: [Alpha, L1_ratio, rmse_validation, rmse_train]\n",
              "Index: []"
            ]
          },
          "metadata": {
            "tags": []
          },
          "execution_count": 100
        }
      ]
    },
    {
      "cell_type": "code",
      "metadata": {
        "id": "97VwJ2dkJrsF",
        "colab_type": "code",
        "colab": {}
      },
      "source": [
        "dropped_features_list = []\n",
        "batch_train_list = [batch1_train,batch2_train,batch3_train,batch4_train,batch5_train,batch6_train]\n",
        "batch_validation_list = [batch1_validation,batch2_validation,batch3_validation,batch4_validation,batch5_validation,batch6_validation]\n",
        "r_2_list = []\n",
        "log_alphas = np.flip(np.arange(-4,4.51,(4-(-4.5))/150))\n",
        "alphas = math.e**log_alphas\n",
        "ratios = np.array([0.1,0.2,0.3,0.4,0.5,0.6,0.7,0.8,0.9,1])\n",
        "feature_cols = ['I','RH','UV', 'sza', 'I^(d-1)(t+6)', 'I(t-4)', 'I(t-7)','sza(t+6)']\n",
        "for alpha in alphas:\n",
        "  for ratio in ratios:\n",
        "    r_2_alpha = 0\n",
        "    pred_list = np.empty(0)\n",
        "    y_true_list = np.empty(0)\n",
        "    pred_list_train = np.empty(0)\n",
        "    y_true_list_train = np.empty(0)\n",
        "    for i in range(len(batch_train_list)):\n",
        "      batch_X_train = batch_train_list[i][feature_cols]\n",
        "      batch_y_train = batch_train_list[i][target]\n",
        "      batch_X_validation =  batch_validation_list[i][feature_cols]\n",
        "      batch_y_validation =  batch_validation_list[i][target]\n",
        "\n",
        "      scaler = StandardScaler()\n",
        "      batch_X_train = scaler.fit_transform(batch_X_train)\n",
        "      batch_X_validation = scaler.transform(batch_X_validation)\n",
        "\n",
        "      elastic = ElasticNet(alpha = alpha, l1_ratio=ratio,random_state=0) ## ration = 0.5(default)\n",
        "      elastic.fit(batch_X_train,batch_y_train) \n",
        "      y_pred_batch_elastic = elastic.predict(batch_X_validation)\n",
        "\n",
        "      pred_list = np.append(pred_list ,y_pred_batch_elastic)\n",
        "      y_true_list = np.append(y_true_list,batch_y_validation.values.reshape(1,-1)[0])\n",
        "      pred_list[pred_list<0] = 0\n",
        "      y_pred_batch_elastic_train = elastic.predict(batch_X_train)\n",
        "      pred_list_train = np.append(pred_list_train,y_pred_batch_elastic_train)\n",
        "      y_true_list_train = np.append(y_true_list_train,batch_y_train.values.reshape(1,-1)[0])\n",
        "\n",
        "\n",
        "    result_elastic = result_elastic.append(pd.DataFrame({\"Alpha\":[alpha],\"L1_ratio\":[ratio],\n",
        "                                                         \"rmse_validation\":[np.sqrt(mean_squared_error(y_true_list,pred_list))],\n",
        "                                                         'rmse_train':[np.sqrt(mean_squared_error(y_true_list_train,pred_list_train))]}))"
      ],
      "execution_count": null,
      "outputs": []
    },
    {
      "cell_type": "code",
      "metadata": {
        "id": "y3b-pDqdNer3",
        "colab_type": "code",
        "colab": {
          "base_uri": "https://localhost:8080/"
        },
        "outputId": "c29a1750-4e77-4b12-867a-8a3c634e9200"
      },
      "source": [
        "result_elastic.sort_values(by='rmse_validation').head()"
      ],
      "execution_count": null,
      "outputs": [
        {
          "output_type": "execute_result",
          "data": {
            "text/html": [
              "<div>\n",
              "<style scoped>\n",
              "    .dataframe tbody tr th:only-of-type {\n",
              "        vertical-align: middle;\n",
              "    }\n",
              "\n",
              "    .dataframe tbody tr th {\n",
              "        vertical-align: top;\n",
              "    }\n",
              "\n",
              "    .dataframe thead th {\n",
              "        text-align: right;\n",
              "    }\n",
              "</style>\n",
              "<table border=\"1\" class=\"dataframe\">\n",
              "  <thead>\n",
              "    <tr style=\"text-align: right;\">\n",
              "      <th></th>\n",
              "      <th>Alpha</th>\n",
              "      <th>L1_ratio</th>\n",
              "      <th>rmse_validation</th>\n",
              "      <th>rmse_train</th>\n",
              "    </tr>\n",
              "  </thead>\n",
              "  <tbody>\n",
              "    <tr>\n",
              "      <th>0</th>\n",
              "      <td>0.816006</td>\n",
              "      <td>1.0</td>\n",
              "      <td>150.543476</td>\n",
              "      <td>149.904455</td>\n",
              "    </tr>\n",
              "    <tr>\n",
              "      <th>0</th>\n",
              "      <td>0.771052</td>\n",
              "      <td>1.0</td>\n",
              "      <td>150.544524</td>\n",
              "      <td>149.891104</td>\n",
              "    </tr>\n",
              "    <tr>\n",
              "      <th>0</th>\n",
              "      <td>0.863582</td>\n",
              "      <td>1.0</td>\n",
              "      <td>150.544623</td>\n",
              "      <td>149.919232</td>\n",
              "    </tr>\n",
              "    <tr>\n",
              "      <th>0</th>\n",
              "      <td>0.728574</td>\n",
              "      <td>1.0</td>\n",
              "      <td>150.546249</td>\n",
              "      <td>149.878547</td>\n",
              "    </tr>\n",
              "    <tr>\n",
              "      <th>0</th>\n",
              "      <td>0.913931</td>\n",
              "      <td>1.0</td>\n",
              "      <td>150.546534</td>\n",
              "      <td>149.935695</td>\n",
              "    </tr>\n",
              "  </tbody>\n",
              "</table>\n",
              "</div>"
            ],
            "text/plain": [
              "      Alpha  L1_ratio  rmse_validation  rmse_train\n",
              "0  0.816006       1.0       150.543476  149.904455\n",
              "0  0.771052       1.0       150.544524  149.891104\n",
              "0  0.863582       1.0       150.544623  149.919232\n",
              "0  0.728574       1.0       150.546249  149.878547\n",
              "0  0.913931       1.0       150.546534  149.935695"
            ]
          },
          "metadata": {
            "tags": []
          },
          "execution_count": 102
        }
      ]
    },
    {
      "cell_type": "code",
      "metadata": {
        "id": "bcPZF8IS1gVG",
        "colab_type": "code",
        "colab": {
          "base_uri": "https://localhost:8080/"
        },
        "outputId": "5e4f49f9-3a94-45e8-b8d1-a01ab1aca968"
      },
      "source": [
        "plot_train_validation(train_rmse_list,validation_rmse_list,test_rmse_list,'ElasticNet')"
      ],
      "execution_count": null,
      "outputs": [
        {
          "output_type": "display_data",
          "data": {
            "image/png": "[encoded data removed]",
            "text/plain": [
              "<Figure size 1080x864 with 1 Axes>"
            ]
          },
          "metadata": {
            "tags": []
          }
        },
        {
          "output_type": "execute_result",
          "data": {
            "text/html": [
              "<div>\n",
              "<style scoped>\n",
              "    .dataframe tbody tr th:only-of-type {\n",
              "        vertical-align: middle;\n",
              "    }\n",
              "\n",
              "    .dataframe tbody tr th {\n",
              "        vertical-align: top;\n",
              "    }\n",
              "\n",
              "    .dataframe thead th {\n",
              "        text-align: right;\n",
              "    }\n",
              "</style>\n",
              "<table border=\"1\" class=\"dataframe\">\n",
              "  <thead>\n",
              "    <tr style=\"text-align: right;\">\n",
              "      <th></th>\n",
              "      <th>batch</th>\n",
              "      <th>rmse_train</th>\n",
              "      <th>rmse_validation</th>\n",
              "      <th>rmse_test</th>\n",
              "    </tr>\n",
              "  </thead>\n",
              "  <tbody>\n",
              "    <tr>\n",
              "      <th>0</th>\n",
              "      <td>Batch1</td>\n",
              "      <td>120.457746</td>\n",
              "      <td>125.410680</td>\n",
              "      <td>119.932318</td>\n",
              "    </tr>\n",
              "    <tr>\n",
              "      <th>1</th>\n",
              "      <td>Batch2</td>\n",
              "      <td>113.593685</td>\n",
              "      <td>127.560854</td>\n",
              "      <td>151.367474</td>\n",
              "    </tr>\n",
              "    <tr>\n",
              "      <th>2</th>\n",
              "      <td>Batch3</td>\n",
              "      <td>179.463452</td>\n",
              "      <td>190.905270</td>\n",
              "      <td>209.444713</td>\n",
              "    </tr>\n",
              "    <tr>\n",
              "      <th>3</th>\n",
              "      <td>Batch4</td>\n",
              "      <td>147.974822</td>\n",
              "      <td>161.900734</td>\n",
              "      <td>176.344191</td>\n",
              "    </tr>\n",
              "    <tr>\n",
              "      <th>4</th>\n",
              "      <td>Batch5</td>\n",
              "      <td>171.349158</td>\n",
              "      <td>167.230907</td>\n",
              "      <td>155.426653</td>\n",
              "    </tr>\n",
              "    <tr>\n",
              "      <th>5</th>\n",
              "      <td>Batch6</td>\n",
              "      <td>156.011173</td>\n",
              "      <td>147.346657</td>\n",
              "      <td>135.823687</td>\n",
              "    </tr>\n",
              "  </tbody>\n",
              "</table>\n",
              "</div>"
            ],
            "text/plain": [
              "    batch  rmse_train  rmse_validation   rmse_test\n",
              "0  Batch1  120.457746       125.410680  119.932318\n",
              "1  Batch2  113.593685       127.560854  151.367474\n",
              "2  Batch3  179.463452       190.905270  209.444713\n",
              "3  Batch4  147.974822       161.900734  176.344191\n",
              "4  Batch5  171.349158       167.230907  155.426653\n",
              "5  Batch6  156.011173       147.346657  135.823687"
            ]
          },
          "metadata": {
            "tags": []
          },
          "execution_count": 105
        }
      ]
    },
    {
      "cell_type": "code",
      "metadata": {
        "id": "GwGvn30O9J5G",
        "colab_type": "code",
        "colab": {
          "base_uri": "https://localhost:8080/"
        },
        "outputId": "00a28af9-4083-46f2-f483-bb10a32dd783"
      },
      "source": [
        "batch_validation_list = [batch1_validation,batch2_validation,batch3_validation,batch4_validation,batch5_validation,batch6_validation]\n",
        "batch_train_list = [batch1_train,batch2_train,batch3_train,batch4_train,batch5_train,batch6_train]\n",
        "batch_test_list = [batch1_test,batch2_test,batch3_test,batch4_test,batch5_test,batch6_test]\n",
        "\n",
        "ybar_train = []\n",
        "ybar_val = []\n",
        "ybar_test = []\n",
        "\n",
        "yhatbar_train = []\n",
        "yhatbar_val = []\n",
        "yhatbar_test = []\n",
        "\n",
        "date_train = []\n",
        "date_val = []\n",
        "date_test = []\n",
        "n = 0\n",
        "for batch_train,batch_val,batch_test in zip(batch_train_list,batch_validation_list,batch_test_list):\n",
        "    n += 1\n",
        "    y_train = batch_train['I(t+6)'].values\n",
        "    y_val = batch_val['I(t+6)'].values\n",
        "    y_test = batch_test['I(t+6)'].values\n",
        "\n",
        "    ############ FEATURE FOR MODEL #############\n",
        "    x_train = batch_train[feature_cols].values\n",
        "    x_val = batch_val[feature_cols].values\n",
        "    x_test = batch_test[feature_cols].values\n",
        "    ############ FEATURE FOR MODEL #############\n",
        "\n",
        "    ############ MODEL #######################\n",
        "    elastic = ElasticNet(alpha=1.146446,l1_ratio=1)\n",
        "    elastic.fit(x_train,y_train)\n",
        "    yhat_train = elastic.predict(x_train)\n",
        "    yhat_val = elastic.predict(x_val)\n",
        "    yhat_test = elastic.predict(x_test)\n",
        "\n",
        "    ############ MODEL #######################\n",
        "    \n",
        "    rmse_train = (mean_squared_error(y_train,yhat_train))**(1/2)\n",
        "    rmse_val = (mean_squared_error(y_val,yhat_val))**(1/2)\n",
        "    rmse_test = (mean_squared_error(y_test,yhat_test))**(1/2)\n",
        "    \n",
        "    ybar_train.append(y_train)\n",
        "    ybar_val.append(y_val)\n",
        "    ybar_test.append(y_test)\n",
        "    \n",
        "    yhatbar_train.append(yhat_train)\n",
        "    yhatbar_val.append(yhat_val)\n",
        "    yhatbar_test.append(yhat_test)\n",
        "    \n",
        "    date_train.append(batch_train.index)\n",
        "    date_val.append(batch_val.index)\n",
        "    date_test.append(batch_test.index)\n",
        "\n",
        "    print(f'batch{n}_train : rmse = {rmse_train}')\n",
        "    print(f'batch{n}_validation : rmse = {rmse_val}')\n",
        "    print(f'batch{n}_test : rmse = {rmse_test}')\n",
        "    print('')\n",
        "    \n",
        "ybar_train = np.concatenate(ybar_train)\n",
        "ybar_val = np.concatenate(ybar_val)\n",
        "ybar_test = np.concatenate(ybar_test)\n",
        "\n",
        "yhatbar_train = np.concatenate(yhatbar_train)\n",
        "yhatbar_val = np.concatenate(yhatbar_val)\n",
        "yhatbar_test = np.concatenate(yhatbar_test)\n",
        "\n",
        "date_train = np.concatenate(date_train)\n",
        "date_val = np.concatenate(date_val)\n",
        "date_test = np.concatenate(date_test)\n",
        "\n",
        "#convert to forecast time\n",
        "date_train = date_train + np.timedelta64(3, 'h')\n",
        "date_val = date_val + np.timedelta64(3, 'h')\n",
        "date_test = date_test + np.timedelta64(3, 'h')\n",
        "\n",
        "print(f'average rmse of every batch in train = {(mean_squared_error(ybar_train,yhatbar_train))**(1/2)}')\n",
        "print(f'average rmse of every batch in validation = {(mean_squared_error(ybar_val,yhatbar_val))**(1/2)}')\n",
        "print(f'average rmse of every batch in test = {(mean_squared_error(ybar_test,yhatbar_test))**(1/2)}')"
      ],
      "execution_count": null,
      "outputs": [
        {
          "output_type": "stream",
          "text": [
            "batch1_train : rmse = 120.88897181929545\n",
            "batch1_validation : rmse = 126.57676362896376\n",
            "batch1_test : rmse = 120.77940095628682\n",
            "\n",
            "batch2_train : rmse = 113.7185270243436\n",
            "batch2_validation : rmse = 127.4872749696675\n",
            "batch2_test : rmse = 151.50135420477153\n",
            "\n",
            "batch3_train : rmse = 179.66129096148498\n",
            "batch3_validation : rmse = 191.07705509096155\n",
            "batch3_test : rmse = 209.66209881262955\n",
            "\n",
            "batch4_train : rmse = 148.04409108845687\n",
            "batch4_validation : rmse = 161.6014092893301\n",
            "batch4_test : rmse = 176.29937730756475\n",
            "\n",
            "batch5_train : rmse = 171.55984861335793\n",
            "batch5_validation : rmse = 167.32410870839374\n",
            "batch5_test : rmse = 155.50257109062673\n",
            "\n",
            "batch6_train : rmse = 156.21960266643202\n",
            "batch6_validation : rmse = 147.5429278294253\n",
            "batch6_test : rmse = 136.205815245708\n",
            "\n",
            "average rmse of every batch in train = 150.43572303539736\n",
            "average rmse of every batch in validation = 153.0816842201692\n",
            "average rmse of every batch in test = 160.94814602226464\n"
          ],
          "name": "stdout"
        }
      ]
    },
    {
      "cell_type": "code",
      "metadata": {
        "id": "-Kb7gLMZ9b7U",
        "colab_type": "code",
        "colab": {
          "base_uri": "https://localhost:8080/"
        },
        "outputId": "8a1b861a-e003-467d-d6a8-a62cf74b8b4b"
      },
      "source": [
        "elastic = pd.DataFrame()\n",
        "elastic['measure'] = ybar_test\n",
        "elastic['elastic'] = yhatbar_test\n",
        "elastic['Datetime'] = date_test \n",
        "visualize(elastic, ['elastic'] , 'measure' ,show = False, save = False, visualize = True)"
      ],
      "execution_count": null,
      "outputs": [
        {
          "output_type": "stream",
          "text": [
            "error summary\n",
            "\n",
            "          elastic\n",
            "MBE     22.810187\n",
            "MAE    121.344431\n",
            "RMSE   160.948146\n",
            "NRMSE   16.094815\n",
            "\n"
          ],
          "name": "stdout"
        },
        {
          "output_type": "display_data",
          "data": {
            "image/png": "[encoded data removed]",
            "text/plain": [
              "<Figure size 1080x864 with 2 Axes>"
            ]
          },
          "metadata": {
            "tags": []
          }
        }
      ]
    },
    {
      "cell_type": "markdown",
      "metadata": {
        "id": "2z0a5HN53K-v",
        "colab_type": "text"
      },
      "source": [
        "## Tree"
      ]
    },
    {
      "cell_type": "markdown",
      "metadata": {
        "id": "OzOw0IUBwoGF",
        "colab_type": "text"
      },
      "source": [
        "### Decision tree"
      ]
    },
    {
      "cell_type": "code",
      "metadata": {
        "id": "SEu2_mQQi_k9",
        "colab_type": "code",
        "colab": {
          "base_uri": "https://localhost:8080/",
          "height": 48
        },
        "outputId": "a948c8d3-959c-49fc-a13a-8ebfaf6d2bc0"
      },
      "source": [
        "result_dtree = pd.DataFrame({\"Max depth\":[],\"Min_Sample_Splits\":[],'Max_Features':[],\"rmse_validation\":[],'rmse_train':[]})\n",
        "result_dtree"
      ],
      "execution_count": null,
      "outputs": [
        {
          "output_type": "execute_result",
          "data": {
            "text/html": [
              "<div>\n",
              "<style scoped>\n",
              "    .dataframe tbody tr th:only-of-type {\n",
              "        vertical-align: middle;\n",
              "    }\n",
              "\n",
              "    .dataframe tbody tr th {\n",
              "        vertical-align: top;\n",
              "    }\n",
              "\n",
              "    .dataframe thead th {\n",
              "        text-align: right;\n",
              "    }\n",
              "</style>\n",
              "<table border=\"1\" class=\"dataframe\">\n",
              "  <thead>\n",
              "    <tr style=\"text-align: right;\">\n",
              "      <th></th>\n",
              "      <th>Max depth</th>\n",
              "      <th>Min_Sample_Splits</th>\n",
              "      <th>Max_Features</th>\n",
              "      <th>rmse_validation</th>\n",
              "      <th>rmse_train</th>\n",
              "    </tr>\n",
              "  </thead>\n",
              "  <tbody>\n",
              "  </tbody>\n",
              "</table>\n",
              "</div>"
            ],
            "text/plain": [
              "Empty DataFrame\n",
              "Columns: [Max depth, Min_Sample_Splits, Max_Features, rmse_validation, rmse_train]\n",
              "Index: []"
            ]
          },
          "metadata": {
            "tags": []
          },
          "execution_count": 106
        }
      ]
    },
    {
      "cell_type": "code",
      "metadata": {
        "id": "0w71By5Tw4Zv",
        "colab_type": "code",
        "colab": {}
      },
      "source": [
        "rmse_list = []\n",
        "dropped_features_list = []\n",
        "batch_train_list = [batch1_train,batch2_train,batch3_train,batch4_train,batch5_train,batch6_train]\n",
        "batch_validation_list = [batch1_validation,batch2_validation,batch3_validation,batch4_validation,batch5_validation,batch6_validation]\n",
        "r_2_list = []\n",
        "\n",
        "max_depths = [2,3,4,5,6,7,11,15]\n",
        "min_sample_splits = [3,5,7,9,11,13,15,20,25,30,35,40,50,75,100]\n",
        "max_features = ['auto','sqrt','log2']\n",
        "\n",
        "hyperparameters = []\n",
        "\n",
        "for max_depth in max_depths:\n",
        "  for min_sample_split in min_sample_splits:\n",
        "    for max_feature in max_features:\n",
        "      hyperparameters.append([max_depth,min_sample_split,max_feature])\n",
        "\n",
        "for hyperparameter in hyperparameters:\n",
        "  r_2_alpha = 0\n",
        "  pred_list = np.empty(0)\n",
        "  y_true_list = np.empty(0)\n",
        "  pred_list_train = np.empty(0)\n",
        "  y_true_list_train = np.empty(0)\n",
        "  for i in range(len(batch_train_list)):\n",
        "    batch_X_train = batch_train_list[i][feature_cols]\n",
        "    batch_y_train = batch_train_list[i][target]\n",
        "    batch_X_validation =  batch_validation_list[i][feature_cols]\n",
        "    batch_y_validation =  batch_validation_list[i][target]\n",
        "\n",
        "    dtree = DecisionTreeRegressor(max_depth=hyperparameter[0],min_samples_split = hyperparameter[1],max_features = hyperparameter[2],random_state=0)\n",
        "    dtree.fit(batch_X_train,batch_y_train) \n",
        "    y_pred_batch_dtree = dtree.predict(batch_X_validation)\n",
        "\n",
        "    pred_list = np.append(pred_list ,y_pred_batch_dtree)\n",
        "    y_true_list = np.append(y_true_list,batch_y_validation.values.reshape(1,-1)[0])\n",
        "\n",
        "    y_pred_batch_dtree_train = dtree.predict(batch_X_train)\n",
        "    pred_list_train = np.append(pred_list_train,y_pred_batch_dtree_train)\n",
        "    y_true_list_train = np.append(y_true_list_train,batch_y_train.values.reshape(1,-1)[0])\n",
        "  rmse = np.sqrt(mean_squared_error(y_true_list,pred_list))\n",
        "  rmse_list.append(rmse)\n",
        "\n",
        "  rmse_train = np.sqrt(mean_squared_error(y_true_list_train,pred_list_train))\n",
        "\n",
        "  result_dtree = result_dtree.append(pd.DataFrame({\"Max depth\":[hyperparameter[0]],\"Min_Sample_Splits\":[hyperparameter[1]],\n",
        "                                                   'Max_Features':[hyperparameter[2]],\"rmse_validation\":[rmse],'rmse_train':[rmse_train],\"R2\": [r_2_alpha]}))"
      ],
      "execution_count": null,
      "outputs": []
    },
    {
      "cell_type": "code",
      "metadata": {
        "id": "4j9OFsEPyG-a",
        "colab_type": "code",
        "colab": {
          "base_uri": "https://localhost:8080/",
          "height": 197
        },
        "outputId": "79dddf87-a6a7-4229-8d57-7998d77d2b4e"
      },
      "source": [
        "result_dtree.sort_values(by='rmse_validation').head()"
      ],
      "execution_count": null,
      "outputs": [
        {
          "output_type": "execute_result",
          "data": {
            "text/html": [
              "<div>\n",
              "<style scoped>\n",
              "    .dataframe tbody tr th:only-of-type {\n",
              "        vertical-align: middle;\n",
              "    }\n",
              "\n",
              "    .dataframe tbody tr th {\n",
              "        vertical-align: top;\n",
              "    }\n",
              "\n",
              "    .dataframe thead th {\n",
              "        text-align: right;\n",
              "    }\n",
              "</style>\n",
              "<table border=\"1\" class=\"dataframe\">\n",
              "  <thead>\n",
              "    <tr style=\"text-align: right;\">\n",
              "      <th></th>\n",
              "      <th>Max depth</th>\n",
              "      <th>Min_Sample_Splits</th>\n",
              "      <th>Max_Features</th>\n",
              "      <th>rmse_validation</th>\n",
              "      <th>rmse_train</th>\n",
              "      <th>R2</th>\n",
              "    </tr>\n",
              "  </thead>\n",
              "  <tbody>\n",
              "    <tr>\n",
              "      <th>0</th>\n",
              "      <td>5.0</td>\n",
              "      <td>35.0</td>\n",
              "      <td>log2</td>\n",
              "      <td>155.659412</td>\n",
              "      <td>141.996397</td>\n",
              "      <td>0.0</td>\n",
              "    </tr>\n",
              "    <tr>\n",
              "      <th>0</th>\n",
              "      <td>5.0</td>\n",
              "      <td>30.0</td>\n",
              "      <td>log2</td>\n",
              "      <td>155.685985</td>\n",
              "      <td>141.945668</td>\n",
              "      <td>0.0</td>\n",
              "    </tr>\n",
              "    <tr>\n",
              "      <th>0</th>\n",
              "      <td>6.0</td>\n",
              "      <td>100.0</td>\n",
              "      <td>log2</td>\n",
              "      <td>156.228206</td>\n",
              "      <td>143.414855</td>\n",
              "      <td>0.0</td>\n",
              "    </tr>\n",
              "    <tr>\n",
              "      <th>0</th>\n",
              "      <td>5.0</td>\n",
              "      <td>25.0</td>\n",
              "      <td>log2</td>\n",
              "      <td>156.597189</td>\n",
              "      <td>143.362591</td>\n",
              "      <td>0.0</td>\n",
              "    </tr>\n",
              "    <tr>\n",
              "      <th>0</th>\n",
              "      <td>6.0</td>\n",
              "      <td>50.0</td>\n",
              "      <td>log2</td>\n",
              "      <td>156.803010</td>\n",
              "      <td>138.772861</td>\n",
              "      <td>0.0</td>\n",
              "    </tr>\n",
              "  </tbody>\n",
              "</table>\n",
              "</div>"
            ],
            "text/plain": [
              "   Max depth  Min_Sample_Splits Max_Features  rmse_validation  rmse_train   R2\n",
              "0        5.0               35.0         log2       155.659412  141.996397  0.0\n",
              "0        5.0               30.0         log2       155.685985  141.945668  0.0\n",
              "0        6.0              100.0         log2       156.228206  143.414855  0.0\n",
              "0        5.0               25.0         log2       156.597189  143.362591  0.0\n",
              "0        6.0               50.0         log2       156.803010  138.772861  0.0"
            ]
          },
          "metadata": {
            "tags": []
          },
          "execution_count": 108
        }
      ]
    },
    {
      "cell_type": "code",
      "metadata": {
        "id": "Wx7lRlIk9kwd",
        "colab_type": "code",
        "colab": {
          "base_uri": "https://localhost:8080/",
          "height": 477
        },
        "outputId": "623ea2c8-1d87-453b-d970-fbf1aa71d205"
      },
      "source": [
        "batch_validation_list = [batch1_validation,batch2_validation,batch3_validation,batch4_validation,batch5_validation,batch6_validation]\n",
        "batch_train_list = [batch1_train,batch2_train,batch3_train,batch4_train,batch5_train,batch6_train]\n",
        "batch_test_list = [batch1_test,batch2_test,batch3_test,batch4_test,batch5_test,batch6_test]\n",
        "\n",
        "ybar_train = []\n",
        "ybar_val = []\n",
        "ybar_test = []\n",
        "\n",
        "yhatbar_train = []\n",
        "yhatbar_val = []\n",
        "yhatbar_test = []\n",
        "\n",
        "date_train = []\n",
        "date_val = []\n",
        "date_test = []\n",
        "n = 0\n",
        "\n",
        "train_rmse_list = []\n",
        "test_rmse_list = []\n",
        "validation_rmse_list = []\n",
        "\n",
        "\n",
        "for batch_train,batch_val,batch_test in zip(batch_train_list,batch_validation_list,batch_test_list):\n",
        "    n += 1\n",
        "    y_train = batch_train['I(t+6)'].values\n",
        "    y_val = batch_val['I(t+6)'].values\n",
        "    y_test = batch_test['I(t+6)'].values\n",
        "\n",
        "    ############ FEATURE FOR MODEL #############\n",
        "    x_train = batch_train[feature_cols].values\n",
        "    x_val = batch_val[feature_cols].values\n",
        "    x_test = batch_test[feature_cols].values\n",
        "    ############ FEATURE FOR MODEL #############\n",
        "    ############ MODEL #######################\n",
        "    dtree = DecisionTreeRegressor(max_depth=5,min_samples_split = 50,max_features = 'auto',random_state=0)\n",
        "    dtree.fit(x_train,y_train)\n",
        "    yhat_train = dtree.predict(x_train)\n",
        "    yhat_val = dtree.predict(x_val)\n",
        "    yhat_test = dtree.predict(x_test)\n",
        "\n",
        "    ############ MODEL #######################\n",
        "    \n",
        "    rmse_train = (mean_squared_error(y_train,yhat_train))**(1/2)\n",
        "    rmse_val = (mean_squared_error(y_val,yhat_val))**(1/2)\n",
        "    rmse_test = (mean_squared_error(y_test,yhat_test))**(1/2)\n",
        "    \n",
        "    ybar_train.append(y_train)\n",
        "    ybar_val.append(y_val)\n",
        "    ybar_test.append(y_test)\n",
        "    \n",
        "    yhatbar_train.append(yhat_train)\n",
        "    yhatbar_val.append(yhat_val)\n",
        "    yhatbar_test.append(yhat_test)\n",
        "    \n",
        "    date_train.append(batch_train.index)\n",
        "    date_val.append(batch_val.index)\n",
        "    date_test.append(batch_test.index)\n",
        "\n",
        "    print(f'batch{n}_train : rmse = {rmse_train}')\n",
        "    print(f'batch{n}_validation : rmse = {rmse_val}')\n",
        "    print(f'batch{n}_test : rmse = {rmse_test}')\n",
        "    print('')\n",
        "\n",
        "    train_rmse_list.append(rmse_train)\n",
        "    test_rmse_list.append(rmse_test)\n",
        "    validation_rmse_list.append(rmse_val)\n",
        "    \n",
        "ybar_train = np.concatenate(ybar_train)\n",
        "ybar_val = np.concatenate(ybar_val)\n",
        "ybar_test = np.concatenate(ybar_test)\n",
        "\n",
        "yhatbar_train = np.concatenate(yhatbar_train)\n",
        "yhatbar_val = np.concatenate(yhatbar_val)\n",
        "yhatbar_test = np.concatenate(yhatbar_test)\n",
        "\n",
        "date_train = np.concatenate(date_train)\n",
        "date_val = np.concatenate(date_val)\n",
        "date_test = np.concatenate(date_test)\n",
        "\n",
        "#convert to forecast time\n",
        "date_train = date_train + np.timedelta64(3, 'h')\n",
        "date_val = date_val + np.timedelta64(3, 'h')\n",
        "date_test = date_test + np.timedelta64(3, 'h')\n",
        "\n",
        "print(f'average rmse of every batch in train = {(mean_squared_error(ybar_train,yhatbar_train))**(1/2)}')\n",
        "print(f'average rmse of every batch in validation = {(mean_squared_error(ybar_val,yhatbar_val))**(1/2)}')\n",
        "print(f'average rmse of every batch in test = {(mean_squared_error(ybar_test,yhatbar_test))**(1/2)}')"
      ],
      "execution_count": null,
      "outputs": [
        {
          "output_type": "stream",
          "text": [
            "batch1_train : rmse = 111.61491243143634\n",
            "batch1_validation : rmse = 137.29733684218974\n",
            "batch1_test : rmse = 124.83168937235658\n",
            "\n",
            "batch2_train : rmse = 102.17882960531814\n",
            "batch2_validation : rmse = 123.13661312640926\n",
            "batch2_test : rmse = 159.0075730893732\n",
            "\n",
            "batch3_train : rmse = 169.57846072972083\n",
            "batch3_validation : rmse = 198.5258118384814\n",
            "batch3_test : rmse = 219.48246510181983\n",
            "\n",
            "batch4_train : rmse = 139.45502664061928\n",
            "batch4_validation : rmse = 181.00897578247302\n",
            "batch4_test : rmse = 185.82885098099595\n",
            "\n",
            "batch5_train : rmse = 164.32234617046885\n",
            "batch5_validation : rmse = 181.0447562575597\n",
            "batch5_test : rmse = 170.93943620161562\n",
            "\n",
            "batch6_train : rmse = 144.11559793634586\n",
            "batch6_validation : rmse = 159.19102830232188\n",
            "batch6_test : rmse = 158.73407717757777\n",
            "\n",
            "average rmse of every batch in train = 140.87834968012143\n",
            "average rmse of every batch in validation = 161.92159343616365\n",
            "average rmse of every batch in test = 171.68586792345204\n"
          ],
          "name": "stdout"
        }
      ]
    },
    {
      "cell_type": "code",
      "metadata": {
        "id": "TjHVaW5A90WL",
        "colab_type": "code",
        "colab": {
          "base_uri": "https://localhost:8080/",
          "height": 849
        },
        "outputId": "9368bb50-c46b-4d08-e6d1-fbe0a4f209c5"
      },
      "source": [
        "dtree = pd.DataFrame()\n",
        "dtree['measure'] = ybar_test\n",
        "dtree['dtree'] = yhatbar_test\n",
        "dtree['Datetime'] = date_test \n",
        "visualize(dtree, ['dtree'] , 'measure' ,show = False, save = False, visualize = True)"
      ],
      "execution_count": null,
      "outputs": [
        {
          "output_type": "stream",
          "text": [
            "error summary\n",
            "\n",
            "            dtree\n",
            "MBE     19.427803\n",
            "MAE    125.183294\n",
            "RMSE   171.685868\n",
            "NRMSE   17.168587\n",
            "\n"
          ],
          "name": "stdout"
        },
        {
          "output_type": "display_data",
          "data": {
            "image/png": "[encoded data removed]",
            "text/plain": [
              "<Figure size 1080x864 with 2 Axes>"
            ]
          },
          "metadata": {
            "tags": []
          }
        }
      ]
    },
    {
      "cell_type": "code",
      "metadata": {
        "id": "MOqxzUN9b4e6",
        "colab_type": "code",
        "colab": {
          "base_uri": "https://localhost:8080/",
          "height": 958
        },
        "outputId": "321aaba4-cf46-4c60-abd8-cde249d730c2"
      },
      "source": [
        "plot_train_validation(train_rmse_list,validation_rmse_list,test_rmse_list,'Decision Tree')"
      ],
      "execution_count": null,
      "outputs": [
        {
          "output_type": "display_data",
          "data": {
            "image/png": "[encoded data removed]",
            "text/plain": [
              "<Figure size 1080x864 with 1 Axes>"
            ]
          },
          "metadata": {
            "tags": []
          }
        },
        {
          "output_type": "execute_result",
          "data": {
            "text/html": [
              "<div>\n",
              "<style scoped>\n",
              "    .dataframe tbody tr th:only-of-type {\n",
              "        vertical-align: middle;\n",
              "    }\n",
              "\n",
              "    .dataframe tbody tr th {\n",
              "        vertical-align: top;\n",
              "    }\n",
              "\n",
              "    .dataframe thead th {\n",
              "        text-align: right;\n",
              "    }\n",
              "</style>\n",
              "<table border=\"1\" class=\"dataframe\">\n",
              "  <thead>\n",
              "    <tr style=\"text-align: right;\">\n",
              "      <th></th>\n",
              "      <th>batch</th>\n",
              "      <th>rmse_train</th>\n",
              "      <th>rmse_validation</th>\n",
              "      <th>rmse_test</th>\n",
              "    </tr>\n",
              "  </thead>\n",
              "  <tbody>\n",
              "    <tr>\n",
              "      <th>0</th>\n",
              "      <td>Batch1</td>\n",
              "      <td>111.614912</td>\n",
              "      <td>137.297337</td>\n",
              "      <td>124.831689</td>\n",
              "    </tr>\n",
              "    <tr>\n",
              "      <th>1</th>\n",
              "      <td>Batch2</td>\n",
              "      <td>102.178830</td>\n",
              "      <td>123.136613</td>\n",
              "      <td>159.007573</td>\n",
              "    </tr>\n",
              "    <tr>\n",
              "      <th>2</th>\n",
              "      <td>Batch3</td>\n",
              "      <td>169.578461</td>\n",
              "      <td>198.525812</td>\n",
              "      <td>219.482465</td>\n",
              "    </tr>\n",
              "    <tr>\n",
              "      <th>3</th>\n",
              "      <td>Batch4</td>\n",
              "      <td>139.455027</td>\n",
              "      <td>181.008976</td>\n",
              "      <td>185.828851</td>\n",
              "    </tr>\n",
              "    <tr>\n",
              "      <th>4</th>\n",
              "      <td>Batch5</td>\n",
              "      <td>164.322346</td>\n",
              "      <td>181.044756</td>\n",
              "      <td>170.939436</td>\n",
              "    </tr>\n",
              "    <tr>\n",
              "      <th>5</th>\n",
              "      <td>Batch6</td>\n",
              "      <td>144.115598</td>\n",
              "      <td>159.191028</td>\n",
              "      <td>158.734077</td>\n",
              "    </tr>\n",
              "  </tbody>\n",
              "</table>\n",
              "</div>"
            ],
            "text/plain": [
              "    batch  rmse_train  rmse_validation   rmse_test\n",
              "0  Batch1  111.614912       137.297337  124.831689\n",
              "1  Batch2  102.178830       123.136613  159.007573\n",
              "2  Batch3  169.578461       198.525812  219.482465\n",
              "3  Batch4  139.455027       181.008976  185.828851\n",
              "4  Batch5  164.322346       181.044756  170.939436\n",
              "5  Batch6  144.115598       159.191028  158.734077"
            ]
          },
          "metadata": {
            "tags": []
          },
          "execution_count": 113
        }
      ]
    },
    {
      "cell_type": "markdown",
      "metadata": {
        "id": "_XX-W032wv62",
        "colab_type": "text"
      },
      "source": [
        "### Random forest"
      ]
    },
    {
      "cell_type": "code",
      "metadata": {
        "id": "NaoWbyt82ZZz",
        "colab_type": "code",
        "colab": {
          "base_uri": "https://localhost:8080/"
        },
        "outputId": "06b1412c-2fce-4744-e14e-7a7a2d5783f4"
      },
      "source": [
        "result_randforest = pd.DataFrame({\"Max depth\":[],\"N_estimators\":[],'Min_Sample_Split':[],'Max_Features':[],\"rmse_validation\":[],'rmse_train':[]})\n",
        "result_randforest"
      ],
      "execution_count": null,
      "outputs": [
        {
          "output_type": "execute_result",
          "data": {
            "text/html": [
              "<div>\n",
              "<style scoped>\n",
              "    .dataframe tbody tr th:only-of-type {\n",
              "        vertical-align: middle;\n",
              "    }\n",
              "\n",
              "    .dataframe tbody tr th {\n",
              "        vertical-align: top;\n",
              "    }\n",
              "\n",
              "    .dataframe thead th {\n",
              "        text-align: right;\n",
              "    }\n",
              "</style>\n",
              "<table border=\"1\" class=\"dataframe\">\n",
              "  <thead>\n",
              "    <tr style=\"text-align: right;\">\n",
              "      <th></th>\n",
              "      <th>Max depth</th>\n",
              "      <th>N_estimators</th>\n",
              "      <th>Min_Sample_Split</th>\n",
              "      <th>Max_Features</th>\n",
              "      <th>rmse_validation</th>\n",
              "      <th>rmse_train</th>\n",
              "    </tr>\n",
              "  </thead>\n",
              "  <tbody>\n",
              "  </tbody>\n",
              "</table>\n",
              "</div>"
            ],
            "text/plain": [
              "Empty DataFrame\n",
              "Columns: [Max depth, N_estimators, Min_Sample_Split, Max_Features, rmse_validation, rmse_train]\n",
              "Index: []"
            ]
          },
          "metadata": {
            "tags": []
          },
          "execution_count": 115
        }
      ]
    },
    {
      "cell_type": "code",
      "metadata": {
        "id": "J3l_fASCyQp1",
        "colab_type": "code",
        "colab": {}
      },
      "source": [
        "rmse_list = []\n",
        "dropped_features_list = []\n",
        "batch_train_list = [batch1_train,batch2_train,batch3_train,batch4_train,batch5_train,batch6_train]\n",
        "batch_validation_list = [batch1_validation,batch2_validation,batch3_validation,batch4_validation,batch5_validation,batch6_validation]\n",
        "r_2_list = []\n",
        "\n",
        "max_depths = [3,4]\n",
        "n_estimators = np.array([20,40])\n",
        "min_sample_splits = [10,20]\n",
        "max_features = ['auto','sqrt','log2']\n",
        "\n",
        "hyperparameters = []\n",
        "\n",
        "\n",
        "for max_depth in max_depths:\n",
        "  for n_estimator in n_estimators:\n",
        "    for min_sample_split in min_sample_splits:\n",
        "      for max_feature in max_features:\n",
        "        hyperparameters.append([max_depth,n_estimator,min_sample_split,max_feature])\n",
        "\n",
        "for hyperparameter in hyperparameters:\n",
        "  r_2_alpha = 0\n",
        "  pred_list = np.empty(0)\n",
        "  y_true_list = np.empty(0)\n",
        "  pred_list_train = np.empty(0)\n",
        "  y_true_list_train = np.empty(0)\n",
        "  for i in range(len(batch_train_list)):\n",
        "\n",
        "    batch_X_train = batch_train_list[i][feature_cols]\n",
        "    batch_y_train = batch_train_list[i][target]\n",
        "    batch_X_validation =  batch_validation_list[i][feature_cols]\n",
        "    batch_y_validation =  batch_validation_list[i][target]\n",
        "\n",
        "    randforest = RandomForestRegressor(max_depth=hyperparameter[0],n_estimators=hyperparameter[1],\n",
        "                                       min_samples_split=hyperparameter[2],max_features=hyperparameter[3],random_state=0,n_jobs=-1)\n",
        "    randforest.fit(batch_X_train,batch_y_train.values.ravel()) \n",
        "    y_pred_batch_randforest = randforest.predict(batch_X_validation)\n",
        "\n",
        "    pred_list = np.append(pred_list ,y_pred_batch_randforest)\n",
        "    y_true_list = np.append(y_true_list,batch_y_validation.values.reshape(1,-1)[0])\n",
        "\n",
        "    y_pred_batch_randforest_train = randforest.predict(batch_X_train)\n",
        "    pred_list_train = np.append(pred_list_train,y_pred_batch_randforest_train)\n",
        "    y_true_list_train = np.append(y_true_list_train,batch_y_train.values.reshape(1,-1)[0])\n",
        "\n",
        "  rmse = np.sqrt(mean_squared_error(y_true_list,pred_list))\n",
        "  rmse_list.append(rmse)\n",
        "  rmse_train = np.sqrt(mean_squared_error(y_true_list_train,pred_list_train))\n",
        "\n",
        "  result_randforest = result_randforest.append(pd.DataFrame({\"Max depth\":[hyperparameter[0]],\"N_estimators\":[hyperparameter[1]],'Min_Sample_Split':[hyperparameter[2]],\n",
        "                                                             'Max_Features':[hyperparameter[3]],\"rmse_validation\":[rmse],'rmse_train':[rmse_train]}))"
      ],
      "execution_count": null,
      "outputs": []
    },
    {
      "cell_type": "code",
      "metadata": {
        "id": "PFpEiYKs4M3l",
        "colab_type": "code",
        "colab": {
          "base_uri": "https://localhost:8080/"
        },
        "outputId": "9c63c4b6-e475-43d6-deec-5fa26fee1e6d"
      },
      "source": [
        "result_randforest.sort_values(by = \"rmse_validation\",ascending= True).head(5)"
      ],
      "execution_count": null,
      "outputs": [
        {
          "output_type": "execute_result",
          "data": {
            "text/html": [
              "<div>\n",
              "<style scoped>\n",
              "    .dataframe tbody tr th:only-of-type {\n",
              "        vertical-align: middle;\n",
              "    }\n",
              "\n",
              "    .dataframe tbody tr th {\n",
              "        vertical-align: top;\n",
              "    }\n",
              "\n",
              "    .dataframe thead th {\n",
              "        text-align: right;\n",
              "    }\n",
              "</style>\n",
              "<table border=\"1\" class=\"dataframe\">\n",
              "  <thead>\n",
              "    <tr style=\"text-align: right;\">\n",
              "      <th></th>\n",
              "      <th>Max depth</th>\n",
              "      <th>N_estimators</th>\n",
              "      <th>Min_Sample_Split</th>\n",
              "      <th>Max_Features</th>\n",
              "      <th>rmse_validation</th>\n",
              "      <th>rmse_train</th>\n",
              "    </tr>\n",
              "  </thead>\n",
              "  <tbody>\n",
              "    <tr>\n",
              "      <th>0</th>\n",
              "      <td>4.0</td>\n",
              "      <td>40.0</td>\n",
              "      <td>20.0</td>\n",
              "      <td>log2</td>\n",
              "      <td>149.763715</td>\n",
              "      <td>142.370192</td>\n",
              "    </tr>\n",
              "    <tr>\n",
              "      <th>0</th>\n",
              "      <td>4.0</td>\n",
              "      <td>40.0</td>\n",
              "      <td>10.0</td>\n",
              "      <td>log2</td>\n",
              "      <td>149.972036</td>\n",
              "      <td>142.331265</td>\n",
              "    </tr>\n",
              "    <tr>\n",
              "      <th>0</th>\n",
              "      <td>4.0</td>\n",
              "      <td>20.0</td>\n",
              "      <td>20.0</td>\n",
              "      <td>log2</td>\n",
              "      <td>150.253529</td>\n",
              "      <td>142.922939</td>\n",
              "    </tr>\n",
              "    <tr>\n",
              "      <th>0</th>\n",
              "      <td>4.0</td>\n",
              "      <td>40.0</td>\n",
              "      <td>20.0</td>\n",
              "      <td>auto</td>\n",
              "      <td>150.433033</td>\n",
              "      <td>139.718638</td>\n",
              "    </tr>\n",
              "    <tr>\n",
              "      <th>0</th>\n",
              "      <td>4.0</td>\n",
              "      <td>40.0</td>\n",
              "      <td>10.0</td>\n",
              "      <td>auto</td>\n",
              "      <td>150.493809</td>\n",
              "      <td>139.635394</td>\n",
              "    </tr>\n",
              "  </tbody>\n",
              "</table>\n",
              "</div>"
            ],
            "text/plain": [
              "   Max depth  N_estimators  ...  rmse_validation  rmse_train\n",
              "0        4.0          40.0  ...       149.763715  142.370192\n",
              "0        4.0          40.0  ...       149.972036  142.331265\n",
              "0        4.0          20.0  ...       150.253529  142.922939\n",
              "0        4.0          40.0  ...       150.433033  139.718638\n",
              "0        4.0          40.0  ...       150.493809  139.635394\n",
              "\n",
              "[5 rows x 6 columns]"
            ]
          },
          "metadata": {
            "tags": []
          },
          "execution_count": 117
        }
      ]
    },
    {
      "cell_type": "code",
      "metadata": {
        "id": "DnC8jXJTJ2hm",
        "colab_type": "code",
        "colab": {
          "base_uri": "https://localhost:8080/"
        },
        "outputId": "64c33100-80de-4df8-81dd-402f5454b751"
      },
      "source": [
        "result_randforest.sort_values(by = \"rmse_validation\",ascending= True).head(5)"
      ],
      "execution_count": null,
      "outputs": [
        {
          "output_type": "execute_result",
          "data": {
            "text/html": [
              "<div>\n",
              "<style scoped>\n",
              "    .dataframe tbody tr th:only-of-type {\n",
              "        vertical-align: middle;\n",
              "    }\n",
              "\n",
              "    .dataframe tbody tr th {\n",
              "        vertical-align: top;\n",
              "    }\n",
              "\n",
              "    .dataframe thead th {\n",
              "        text-align: right;\n",
              "    }\n",
              "</style>\n",
              "<table border=\"1\" class=\"dataframe\">\n",
              "  <thead>\n",
              "    <tr style=\"text-align: right;\">\n",
              "      <th></th>\n",
              "      <th>Max depth</th>\n",
              "      <th>N_estimators</th>\n",
              "      <th>Min_Sample_Split</th>\n",
              "      <th>Max_Features</th>\n",
              "      <th>rmse_validation</th>\n",
              "      <th>rmse_train</th>\n",
              "    </tr>\n",
              "  </thead>\n",
              "  <tbody>\n",
              "    <tr>\n",
              "      <th>0</th>\n",
              "      <td>4.0</td>\n",
              "      <td>40.0</td>\n",
              "      <td>20.0</td>\n",
              "      <td>log2</td>\n",
              "      <td>149.763715</td>\n",
              "      <td>142.370192</td>\n",
              "    </tr>\n",
              "    <tr>\n",
              "      <th>0</th>\n",
              "      <td>4.0</td>\n",
              "      <td>40.0</td>\n",
              "      <td>10.0</td>\n",
              "      <td>log2</td>\n",
              "      <td>149.972036</td>\n",
              "      <td>142.331265</td>\n",
              "    </tr>\n",
              "    <tr>\n",
              "      <th>0</th>\n",
              "      <td>4.0</td>\n",
              "      <td>20.0</td>\n",
              "      <td>20.0</td>\n",
              "      <td>log2</td>\n",
              "      <td>150.253529</td>\n",
              "      <td>142.922939</td>\n",
              "    </tr>\n",
              "    <tr>\n",
              "      <th>0</th>\n",
              "      <td>4.0</td>\n",
              "      <td>40.0</td>\n",
              "      <td>20.0</td>\n",
              "      <td>auto</td>\n",
              "      <td>150.433033</td>\n",
              "      <td>139.718638</td>\n",
              "    </tr>\n",
              "    <tr>\n",
              "      <th>0</th>\n",
              "      <td>4.0</td>\n",
              "      <td>40.0</td>\n",
              "      <td>10.0</td>\n",
              "      <td>auto</td>\n",
              "      <td>150.493809</td>\n",
              "      <td>139.635394</td>\n",
              "    </tr>\n",
              "  </tbody>\n",
              "</table>\n",
              "</div>"
            ],
            "text/plain": [
              "   Max depth  N_estimators  ...  rmse_validation  rmse_train\n",
              "0        4.0          40.0  ...       149.763715  142.370192\n",
              "0        4.0          40.0  ...       149.972036  142.331265\n",
              "0        4.0          20.0  ...       150.253529  142.922939\n",
              "0        4.0          40.0  ...       150.433033  139.718638\n",
              "0        4.0          40.0  ...       150.493809  139.635394\n",
              "\n",
              "[5 rows x 6 columns]"
            ]
          },
          "metadata": {
            "tags": []
          },
          "execution_count": 119
        }
      ]
    },
    {
      "cell_type": "code",
      "metadata": {
        "id": "RCmP_VJeusoG",
        "colab_type": "code",
        "colab": {}
      },
      "source": [
        "randforest = RandomForestRegressor(max_depth=13,n_estimators=80,min_samples_split = 20,max_features = 'log2',random_state=0)\n",
        "pred_list = np.empty(0)\n",
        "y_true_list = np.empty(0)\n",
        "train_rmse_list = []\n",
        "validation_rmse_list = []\n",
        "feature_importance_list = []\n",
        "\n",
        "feature_cols = ['I','RH','UV', 'WS', 'I^(d-1)(t+6)','I(t-1)', 'I(t-2)',\n",
        "                'I(t-3)', 'I(t-4)', 'I(t-5)', 'I(t-6)', 'I(t-7)','sza(t+6)']\n",
        "for i in range(len(batch_train_list)):\n",
        "    batch_X_train = batch_train_list[i][feature_cols]\n",
        "    batch_y_train = batch_train_list[i][target]\n",
        "    batch_X_validation =  batch_validation_list[i][feature_cols]\n",
        "    batch_y_validation =  batch_validation_list[i][target]\n",
        "\n",
        "    \n",
        "    randforest.fit(batch_X_train,batch_y_train.values.ravel()) \n",
        "    feature_importance_list.append(randforest.feature_importances_.tolist())\n",
        "    y_pred_batch_randforest = randforest.predict(batch_X_validation)\n",
        "\n",
        "    pred_list = np.append(pred_list ,y_pred_batch_randforest)\n",
        "    y_true_list = np.append(y_true_list,batch_y_validation.values.reshape(1,-1)[0])\n",
        "    y_pred_batch_randforest_train = randforest.predict(batch_X_train)\n",
        "\n",
        "    rmse_batch_validation = np.sqrt(mean_squared_error(y_pred_batch_randforest,batch_y_validation))\n",
        "    rmse_batch_train = np.sqrt(mean_squared_error(y_pred_batch_randforest_train,batch_y_train))\n",
        "    \n",
        "    validation_rmse_list.append(rmse_batch_validation)\n",
        "    train_rmse_list.append(rmse_batch_train)\n",
        "    "
      ],
      "execution_count": null,
      "outputs": []
    },
    {
      "cell_type": "code",
      "metadata": {
        "id": "9w-opPwyodL2",
        "colab_type": "code",
        "colab": {
          "base_uri": "https://localhost:8080/"
        },
        "outputId": "605d013a-93f2-4e3c-ff5e-1153902b43de"
      },
      "source": [
        "feature_importance = np.mean(feature_importance_list,axis=0)\n",
        "# feature_importance_list\n",
        "pd.DataFrame({'Features':feature_cols,'Feature_Importance':feature_importance}).sort_values(by = 'Feature_Importance',ascending = True)\n"
      ],
      "execution_count": null,
      "outputs": [
        {
          "output_type": "execute_result",
          "data": {
            "text/html": [
              "<div>\n",
              "<style scoped>\n",
              "    .dataframe tbody tr th:only-of-type {\n",
              "        vertical-align: middle;\n",
              "    }\n",
              "\n",
              "    .dataframe tbody tr th {\n",
              "        vertical-align: top;\n",
              "    }\n",
              "\n",
              "    .dataframe thead th {\n",
              "        text-align: right;\n",
              "    }\n",
              "</style>\n",
              "<table border=\"1\" class=\"dataframe\">\n",
              "  <thead>\n",
              "    <tr style=\"text-align: right;\">\n",
              "      <th></th>\n",
              "      <th>Features</th>\n",
              "      <th>Feature_Importance</th>\n",
              "    </tr>\n",
              "  </thead>\n",
              "  <tbody>\n",
              "    <tr>\n",
              "      <th>3</th>\n",
              "      <td>WS</td>\n",
              "      <td>0.024980</td>\n",
              "    </tr>\n",
              "    <tr>\n",
              "      <th>7</th>\n",
              "      <td>I(t-3)</td>\n",
              "      <td>0.026996</td>\n",
              "    </tr>\n",
              "    <tr>\n",
              "      <th>6</th>\n",
              "      <td>I(t-2)</td>\n",
              "      <td>0.029463</td>\n",
              "    </tr>\n",
              "    <tr>\n",
              "      <th>1</th>\n",
              "      <td>RH</td>\n",
              "      <td>0.029942</td>\n",
              "    </tr>\n",
              "    <tr>\n",
              "      <th>8</th>\n",
              "      <td>I(t-4)</td>\n",
              "      <td>0.033336</td>\n",
              "    </tr>\n",
              "    <tr>\n",
              "      <th>2</th>\n",
              "      <td>UV</td>\n",
              "      <td>0.041645</td>\n",
              "    </tr>\n",
              "    <tr>\n",
              "      <th>9</th>\n",
              "      <td>I(t-5)</td>\n",
              "      <td>0.045173</td>\n",
              "    </tr>\n",
              "    <tr>\n",
              "      <th>5</th>\n",
              "      <td>I(t-1)</td>\n",
              "      <td>0.045908</td>\n",
              "    </tr>\n",
              "    <tr>\n",
              "      <th>10</th>\n",
              "      <td>I(t-6)</td>\n",
              "      <td>0.055590</td>\n",
              "    </tr>\n",
              "    <tr>\n",
              "      <th>11</th>\n",
              "      <td>I(t-7)</td>\n",
              "      <td>0.062394</td>\n",
              "    </tr>\n",
              "    <tr>\n",
              "      <th>0</th>\n",
              "      <td>I</td>\n",
              "      <td>0.081413</td>\n",
              "    </tr>\n",
              "    <tr>\n",
              "      <th>4</th>\n",
              "      <td>I^(d-1)(t+6)</td>\n",
              "      <td>0.200488</td>\n",
              "    </tr>\n",
              "    <tr>\n",
              "      <th>12</th>\n",
              "      <td>sza(t+6)</td>\n",
              "      <td>0.322672</td>\n",
              "    </tr>\n",
              "  </tbody>\n",
              "</table>\n",
              "</div>"
            ],
            "text/plain": [
              "        Features  Feature_Importance\n",
              "3             WS            0.024980\n",
              "7         I(t-3)            0.026996\n",
              "6         I(t-2)            0.029463\n",
              "1             RH            0.029942\n",
              "8         I(t-4)            0.033336\n",
              "2             UV            0.041645\n",
              "9         I(t-5)            0.045173\n",
              "5         I(t-1)            0.045908\n",
              "10        I(t-6)            0.055590\n",
              "11        I(t-7)            0.062394\n",
              "0              I            0.081413\n",
              "4   I^(d-1)(t+6)            0.200488\n",
              "12      sza(t+6)            0.322672"
            ]
          },
          "metadata": {
            "tags": []
          },
          "execution_count": 121
        }
      ]
    },
    {
      "cell_type": "code",
      "metadata": {
        "id": "TxysHya6AlK6",
        "colab_type": "code",
        "colab": {
          "base_uri": "https://localhost:8080/"
        },
        "outputId": "d5fb0505-efb0-469d-9def-258eaad59037"
      },
      "source": [
        "batch_validation_list = [batch1_validation,batch2_validation,batch3_validation,batch4_validation,batch5_validation,batch6_validation]\n",
        "batch_train_list = [batch1_train,batch2_train,batch3_train,batch4_train,batch5_train,batch6_train]\n",
        "batch_test_list = [batch1_test,batch2_test,batch3_test,batch4_test,batch5_test,batch6_test]\n",
        "\n",
        "ybar_train = []\n",
        "ybar_val = []\n",
        "ybar_test = []\n",
        "\n",
        "yhatbar_train = []\n",
        "yhatbar_val = []\n",
        "yhatbar_test = []\n",
        "\n",
        "date_train = []\n",
        "date_val = []\n",
        "date_test = []\n",
        "n = 0\n",
        "\n",
        "train_rmse_list = []\n",
        "validation_rmse_list = []\n",
        "test_rmse_list = []\n",
        "\n",
        "for batch_train,batch_val,batch_test in zip(batch_train_list,batch_validation_list,batch_test_list):\n",
        "    n += 1\n",
        "    y_train = batch_train['I(t+6)'].values\n",
        "    y_val = batch_val['I(t+6)'].values\n",
        "    y_test = batch_test['I(t+6)'].values\n",
        "\n",
        "    ############ FEATURE FOR MODEL #############\n",
        "    x_train = batch_train[feature_cols].values\n",
        "    x_val = batch_val[feature_cols].values\n",
        "    x_test = batch_test[feature_cols].values\n",
        "    ############ FEATURE FOR MODEL #############\n",
        "    ############ MODEL #######################\n",
        "    randforest = RandomForestRegressor(max_depth=13,n_estimators=80,min_samples_split = 20,max_features = 'log2',random_state=0)\n",
        "    randforest.fit(x_train,y_train)\n",
        "    yhat_train = randforest.predict(x_train)\n",
        "    yhat_val = randforest.predict(x_val)\n",
        "    yhat_test = randforest.predict(x_test)\n",
        "\n",
        "    ############ MODEL #######################\n",
        "    \n",
        "    rmse_train = (mean_squared_error(y_train,yhat_train))**(1/2)\n",
        "    rmse_val = (mean_squared_error(y_val,yhat_val))**(1/2)\n",
        "    rmse_test = (mean_squared_error(y_test,yhat_test))**(1/2)\n",
        "    \n",
        "    ybar_train.append(y_train)\n",
        "    ybar_val.append(y_val)\n",
        "    ybar_test.append(y_test)\n",
        "    \n",
        "    yhatbar_train.append(yhat_train)\n",
        "    yhatbar_val.append(yhat_val)\n",
        "    yhatbar_test.append(yhat_test)\n",
        "    \n",
        "    date_train.append(batch_train.index)\n",
        "    date_val.append(batch_val.index)\n",
        "    date_test.append(batch_test.index)\n",
        "\n",
        "    print(f'batch{n}_train : rmse = {rmse_train}')\n",
        "    print(f'batch{n}_validation : rmse = {rmse_val}')\n",
        "    print(f'batch{n}_test : rmse = {rmse_test}')\n",
        "    print('')\n",
        "    \n",
        "    train_rmse_list.append(rmse_train)\n",
        "    test_rmse_list.append(rmse_test)\n",
        "    validation_rmse_list.append(rmse_val)\n",
        "\n",
        "ybar_train = np.concatenate(ybar_train)\n",
        "ybar_val = np.concatenate(ybar_val)\n",
        "ybar_test = np.concatenate(ybar_test)\n",
        "\n",
        "yhatbar_train = np.concatenate(yhatbar_train)\n",
        "yhatbar_val = np.concatenate(yhatbar_val)\n",
        "yhatbar_test = np.concatenate(yhatbar_test)\n",
        "\n",
        "date_train = np.concatenate(date_train)\n",
        "date_val = np.concatenate(date_val)\n",
        "date_test = np.concatenate(date_test)\n",
        "\n",
        "#convert to forecast time\n",
        "date_train = date_train + np.timedelta64(3, 'h')\n",
        "date_val = date_val + np.timedelta64(3, 'h')\n",
        "date_test = date_test + np.timedelta64(3, 'h')\n",
        "\n",
        "print(f'average rmse of every batch in train = {(mean_squared_error(ybar_train,yhatbar_train))**(1/2)}')\n",
        "print(f'average rmse of every batch in validation = {(mean_squared_error(ybar_val,yhatbar_val))**(1/2)}')\n",
        "print(f'average rmse of every batch in test = {(mean_squared_error(ybar_test,yhatbar_test))**(1/2)}')"
      ],
      "execution_count": null,
      "outputs": [
        {
          "output_type": "stream",
          "text": [
            "batch1_train : rmse = 79.8563149319804\n",
            "batch1_validation : rmse = 111.21551807291083\n",
            "batch1_test : rmse = 111.48626064957742\n",
            "\n",
            "batch2_train : rmse = 79.23798678389481\n",
            "batch2_validation : rmse = 113.00578530685536\n",
            "batch2_test : rmse = 141.4702164233593\n",
            "\n",
            "batch3_train : rmse = 126.87341178829705\n",
            "batch3_validation : rmse = 187.79675243213487\n",
            "batch3_test : rmse = 205.37066234990303\n",
            "\n",
            "batch4_train : rmse = 110.87195443836771\n",
            "batch4_validation : rmse = 162.58088866512165\n",
            "batch4_test : rmse = 172.44537637501867\n",
            "\n",
            "batch5_train : rmse = 127.88446196671084\n",
            "batch5_validation : rmse = 169.16583969255512\n",
            "batch5_test : rmse = 156.18408181716478\n",
            "\n",
            "batch6_train : rmse = 108.69093752476009\n",
            "batch6_validation : rmse = 142.447922710241\n",
            "batch6_test : rmse = 129.99014926170213\n",
            "\n",
            "average rmse of every batch in train = 107.48173234150573\n",
            "average rmse of every batch in validation = 146.63900062856766\n",
            "average rmse of every batch in test = 155.7242649269428\n"
          ],
          "name": "stdout"
        }
      ]
    },
    {
      "cell_type": "code",
      "metadata": {
        "id": "pbM35kKYA7u3",
        "colab_type": "code",
        "colab": {
          "base_uri": "https://localhost:8080/"
        },
        "outputId": "43818fed-0ae5-4074-991c-c69277d56699"
      },
      "source": [
        "randforest = pd.DataFrame()\n",
        "randforest['measure'] = ybar_test\n",
        "randforest['randforest'] = yhatbar_test\n",
        "randforest['Datetime'] = date_test \n",
        "visualize(randforest, ['randforest'] , 'measure' ,show = False, save = False, visualize = True)"
      ],
      "execution_count": null,
      "outputs": [
        {
          "output_type": "stream",
          "text": [
            "error summary\n",
            "\n",
            "       randforest\n",
            "MBE     15.195430\n",
            "MAE    116.742385\n",
            "RMSE   155.724265\n",
            "NRMSE   15.572426\n",
            "\n"
          ],
          "name": "stdout"
        },
        {
          "output_type": "display_data",
          "data": {
            "image/png": "[encoded data removed]",
            "text/plain": [
              "<Figure size 1080x864 with 2 Axes>"
            ]
          },
          "metadata": {
            "tags": []
          }
        }
      ]
    },
    {
      "cell_type": "code",
      "metadata": {
        "id": "dAA6FYDx7TCo",
        "colab_type": "code",
        "colab": {
          "base_uri": "https://localhost:8080/"
        },
        "outputId": "e1aa5648-ed3e-4542-941e-3aafd754aa29"
      },
      "source": [
        "plot_train_validation(train_rmse_list,validation_rmse_list,test_rmse_list,'Random Forest')"
      ],
      "execution_count": null,
      "outputs": [
        {
          "output_type": "display_data",
          "data": {
            "image/png": "[encoded data removed]",
            "text/plain": [
              "<Figure size 1080x864 with 1 Axes>"
            ]
          },
          "metadata": {
            "tags": []
          }
        },
        {
          "output_type": "execute_result",
          "data": {
            "text/html": [
              "<div>\n",
              "<style scoped>\n",
              "    .dataframe tbody tr th:only-of-type {\n",
              "        vertical-align: middle;\n",
              "    }\n",
              "\n",
              "    .dataframe tbody tr th {\n",
              "        vertical-align: top;\n",
              "    }\n",
              "\n",
              "    .dataframe thead th {\n",
              "        text-align: right;\n",
              "    }\n",
              "</style>\n",
              "<table border=\"1\" class=\"dataframe\">\n",
              "  <thead>\n",
              "    <tr style=\"text-align: right;\">\n",
              "      <th></th>\n",
              "      <th>batch</th>\n",
              "      <th>rmse_train</th>\n",
              "      <th>rmse_validation</th>\n",
              "      <th>rmse_test</th>\n",
              "    </tr>\n",
              "  </thead>\n",
              "  <tbody>\n",
              "    <tr>\n",
              "      <th>0</th>\n",
              "      <td>Batch1</td>\n",
              "      <td>79.856315</td>\n",
              "      <td>111.215518</td>\n",
              "      <td>111.486261</td>\n",
              "    </tr>\n",
              "    <tr>\n",
              "      <th>1</th>\n",
              "      <td>Batch2</td>\n",
              "      <td>79.237987</td>\n",
              "      <td>113.005785</td>\n",
              "      <td>141.470216</td>\n",
              "    </tr>\n",
              "    <tr>\n",
              "      <th>2</th>\n",
              "      <td>Batch3</td>\n",
              "      <td>126.873412</td>\n",
              "      <td>187.796752</td>\n",
              "      <td>205.370662</td>\n",
              "    </tr>\n",
              "    <tr>\n",
              "      <th>3</th>\n",
              "      <td>Batch4</td>\n",
              "      <td>110.871954</td>\n",
              "      <td>162.580889</td>\n",
              "      <td>172.445376</td>\n",
              "    </tr>\n",
              "    <tr>\n",
              "      <th>4</th>\n",
              "      <td>Batch5</td>\n",
              "      <td>127.884462</td>\n",
              "      <td>169.165840</td>\n",
              "      <td>156.184082</td>\n",
              "    </tr>\n",
              "    <tr>\n",
              "      <th>5</th>\n",
              "      <td>Batch6</td>\n",
              "      <td>108.690938</td>\n",
              "      <td>142.447923</td>\n",
              "      <td>129.990149</td>\n",
              "    </tr>\n",
              "  </tbody>\n",
              "</table>\n",
              "</div>"
            ],
            "text/plain": [
              "    batch  rmse_train  rmse_validation   rmse_test\n",
              "0  Batch1   79.856315       111.215518  111.486261\n",
              "1  Batch2   79.237987       113.005785  141.470216\n",
              "2  Batch3  126.873412       187.796752  205.370662\n",
              "3  Batch4  110.871954       162.580889  172.445376\n",
              "4  Batch5  127.884462       169.165840  156.184082\n",
              "5  Batch6  108.690938       142.447923  129.990149"
            ]
          },
          "metadata": {
            "tags": []
          },
          "execution_count": 124
        }
      ]
    },
    {
      "cell_type": "markdown",
      "metadata": {
        "id": "9eDKn349w0sv",
        "colab_type": "text"
      },
      "source": [
        "### Xgboost"
      ]
    },
    {
      "cell_type": "code",
      "metadata": {
        "id": "Gtet0oSQ6Wpk",
        "colab_type": "code",
        "colab": {
          "base_uri": "https://localhost:8080/",
          "height": 48
        },
        "outputId": "f400b576-93d2-4745-bb08-a974289ae72e"
      },
      "source": [
        "result_xgb = pd.DataFrame({\"Max depth\":[],\"N_estimators\":[],\"learning rate\":[],\"Alpha\":[],\"Gamma\":[],\"rmse_validation\":[],'rmse_train':[]})\n",
        "result_xgb"
      ],
      "execution_count": null,
      "outputs": [
        {
          "output_type": "execute_result",
          "data": {
            "text/html": [
              "<div>\n",
              "<style scoped>\n",
              "    .dataframe tbody tr th:only-of-type {\n",
              "        vertical-align: middle;\n",
              "    }\n",
              "\n",
              "    .dataframe tbody tr th {\n",
              "        vertical-align: top;\n",
              "    }\n",
              "\n",
              "    .dataframe thead th {\n",
              "        text-align: right;\n",
              "    }\n",
              "</style>\n",
              "<table border=\"1\" class=\"dataframe\">\n",
              "  <thead>\n",
              "    <tr style=\"text-align: right;\">\n",
              "      <th></th>\n",
              "      <th>Max depth</th>\n",
              "      <th>N_estimators</th>\n",
              "      <th>learning rate</th>\n",
              "      <th>Alpha</th>\n",
              "      <th>Gamma</th>\n",
              "      <th>rmse_validation</th>\n",
              "      <th>rmse_train</th>\n",
              "    </tr>\n",
              "  </thead>\n",
              "  <tbody>\n",
              "  </tbody>\n",
              "</table>\n",
              "</div>"
            ],
            "text/plain": [
              "Empty DataFrame\n",
              "Columns: [Max depth, N_estimators, learning rate, Alpha, Gamma, rmse_validation, rmse_train]\n",
              "Index: []"
            ]
          },
          "metadata": {
            "tags": []
          },
          "execution_count": 129
        }
      ]
    },
    {
      "cell_type": "code",
      "metadata": {
        "id": "2HLs3WTw5v3E",
        "colab_type": "code",
        "colab": {}
      },
      "source": [
        "rmse_list = []\n",
        "dropped_features_list = []\n",
        "batch_train_list = [batch1_train,batch2_train,batch3_train,batch4_train,batch5_train,batch6_train]\n",
        "batch_validation_list = [batch1_validation,batch2_validation,batch3_validation,batch4_validation,batch5_validation,batch6_validation]\n",
        "\n",
        "\n",
        "max_depths = np.array([2,3,5])\n",
        "n_estimators = np.array([5,10])\n",
        "learning_rates = np.array([0.15,0.2])\n",
        "alphas = [0.1,0.3]   #L1 Regularization\n",
        "gammas = [0.1,0.3]\n",
        "\n",
        "hyperparameters = []\n",
        "\n",
        "for max_depth in max_depths:\n",
        "  for n_estimator in n_estimators:\n",
        "    for learning_rate in learning_rates:\n",
        "      for alpha in alphas:\n",
        "        for gamma in gammas:\n",
        "          hyperparameters.append([max_depth,n_estimator,learning_rate,alpha,gamma])\n",
        "\n",
        "for hyperparameter in hyperparameters:\n",
        "  #r_2_alpha = 0\n",
        "  pred_list = np.empty(0)\n",
        "  y_true_list = np.empty(0)\n",
        "  pred_list_train = np.empty(0)\n",
        "  y_true_list_train = np.empty(0)\n",
        "  for i in range(len(batch_train_list)):\n",
        "\n",
        "    batch_X_train = batch_train_list[i][feature_cols]\n",
        "    batch_y_train = batch_train_list[i][target]\n",
        "    batch_X_validation =  batch_validation_list[i][feature_cols]\n",
        "    batch_y_validation =  batch_validation_list[i][target]\n",
        "\n",
        "    xgb_model = xgb.XGBRegressor(objective=\"reg:squarederror\",max_depth=hyperparameter[0],learning_rate=hyperparameter[2],\n",
        "                                 n_estimators=hyperparameter[1],gamma=hyperparameter[4],alpha=hyperparameter[3],random_state=0,n_jobs=-1)\n",
        "    xgb_model.fit(batch_X_train,batch_y_train.values.ravel()) \n",
        "    y_pred_batch_xgb = xgb_model.predict(batch_X_validation)\n",
        "\n",
        "    pred_list = np.append(pred_list ,y_pred_batch_xgb)\n",
        "    y_true_list = np.append(y_true_list,batch_y_validation.values.reshape(1,-1)[0])\n",
        "\n",
        "    y_pred_batch_xgb_train = xgb_model.predict(batch_X_train)\n",
        "    pred_list_train = np.append(pred_list_train,y_pred_batch_xgb_train)\n",
        "    y_true_list_train = np.append(y_true_list_train,batch_y_train.values.reshape(1,-1)[0])\n",
        "\n",
        "  rmse = np.sqrt(mean_squared_error(y_true_list,pred_list))\n",
        "  rmse_list.append(rmse)\n",
        "  result_xgb = result_xgb.append(pd.DataFrame({\"Max depth\":[hyperparameter[0]],\"N_estimators\":[hyperparameter[1]],\"learning rate\":[hyperparameter[2]],\n",
        "                                               \"Alpha\":[hyperparameter[3]],\"Gamma\":[hyperparameter[4]],\n",
        "                                               \"rmse_validation\":[np.sqrt(mean_squared_error(y_true_list,pred_list))],\n",
        "                                               'rmse_train':[np.sqrt(mean_squared_error(y_true_list_train,pred_list_train))]}))"
      ],
      "execution_count": null,
      "outputs": []
    },
    {
      "cell_type": "code",
      "metadata": {
        "id": "lpBaYxeo6hlk",
        "colab_type": "code",
        "colab": {
          "base_uri": "https://localhost:8080/",
          "height": 197
        },
        "outputId": "785c1beb-ec3f-4b59-cf89-a8ccc08bcb77"
      },
      "source": [
        "result_xgb.sort_values(by = \"rmse_validation\",ascending= True).head(5) ##reg:squarederror"
      ],
      "execution_count": null,
      "outputs": [
        {
          "output_type": "execute_result",
          "data": {
            "text/html": [
              "<div>\n",
              "<style scoped>\n",
              "    .dataframe tbody tr th:only-of-type {\n",
              "        vertical-align: middle;\n",
              "    }\n",
              "\n",
              "    .dataframe tbody tr th {\n",
              "        vertical-align: top;\n",
              "    }\n",
              "\n",
              "    .dataframe thead th {\n",
              "        text-align: right;\n",
              "    }\n",
              "</style>\n",
              "<table border=\"1\" class=\"dataframe\">\n",
              "  <thead>\n",
              "    <tr style=\"text-align: right;\">\n",
              "      <th></th>\n",
              "      <th>Max depth</th>\n",
              "      <th>N_estimators</th>\n",
              "      <th>learning rate</th>\n",
              "      <th>Alpha</th>\n",
              "      <th>Gamma</th>\n",
              "      <th>rmse_validation</th>\n",
              "      <th>rmse_train</th>\n",
              "    </tr>\n",
              "  </thead>\n",
              "  <tbody>\n",
              "    <tr>\n",
              "      <th>0</th>\n",
              "      <td>3.0</td>\n",
              "      <td>10.0</td>\n",
              "      <td>0.2</td>\n",
              "      <td>0.1</td>\n",
              "      <td>0.1</td>\n",
              "      <td>155.794882</td>\n",
              "      <td>147.194070</td>\n",
              "    </tr>\n",
              "    <tr>\n",
              "      <th>0</th>\n",
              "      <td>3.0</td>\n",
              "      <td>10.0</td>\n",
              "      <td>0.2</td>\n",
              "      <td>0.1</td>\n",
              "      <td>0.3</td>\n",
              "      <td>155.794882</td>\n",
              "      <td>147.194070</td>\n",
              "    </tr>\n",
              "    <tr>\n",
              "      <th>0</th>\n",
              "      <td>3.0</td>\n",
              "      <td>10.0</td>\n",
              "      <td>0.2</td>\n",
              "      <td>0.3</td>\n",
              "      <td>0.1</td>\n",
              "      <td>155.794882</td>\n",
              "      <td>147.194070</td>\n",
              "    </tr>\n",
              "    <tr>\n",
              "      <th>0</th>\n",
              "      <td>3.0</td>\n",
              "      <td>10.0</td>\n",
              "      <td>0.2</td>\n",
              "      <td>0.3</td>\n",
              "      <td>0.3</td>\n",
              "      <td>155.794882</td>\n",
              "      <td>147.194070</td>\n",
              "    </tr>\n",
              "    <tr>\n",
              "      <th>0</th>\n",
              "      <td>2.0</td>\n",
              "      <td>10.0</td>\n",
              "      <td>0.2</td>\n",
              "      <td>0.3</td>\n",
              "      <td>0.3</td>\n",
              "      <td>157.602990</td>\n",
              "      <td>156.193741</td>\n",
              "    </tr>\n",
              "  </tbody>\n",
              "</table>\n",
              "</div>"
            ],
            "text/plain": [
              "   Max depth  N_estimators  learning rate  ...  Gamma  rmse_validation  rmse_train\n",
              "0        3.0          10.0            0.2  ...    0.1       155.794882  147.194070\n",
              "0        3.0          10.0            0.2  ...    0.3       155.794882  147.194070\n",
              "0        3.0          10.0            0.2  ...    0.1       155.794882  147.194070\n",
              "0        3.0          10.0            0.2  ...    0.3       155.794882  147.194070\n",
              "0        2.0          10.0            0.2  ...    0.3       157.602990  156.193741\n",
              "\n",
              "[5 rows x 7 columns]"
            ]
          },
          "metadata": {
            "tags": []
          },
          "execution_count": 132
        }
      ]
    },
    {
      "cell_type": "code",
      "metadata": {
        "id": "6FHfrSDKCD_j",
        "colab_type": "code",
        "colab": {
          "base_uri": "https://localhost:8080/",
          "height": 477
        },
        "outputId": "1ba63506-611b-4891-9b9e-258da1dcf23e"
      },
      "source": [
        "batch_validation_list = [batch1_validation,batch2_validation,batch3_validation,batch4_validation,batch5_validation,batch6_validation]\n",
        "batch_train_list = [batch1_train,batch2_train,batch3_train,batch4_train,batch5_train,batch6_train]\n",
        "batch_test_list = [batch1_test,batch2_test,batch3_test,batch4_test,batch5_test,batch6_test]\n",
        "\n",
        "ybar_train = []\n",
        "ybar_val = []\n",
        "ybar_test = []\n",
        "\n",
        "yhatbar_train = []\n",
        "yhatbar_val = []\n",
        "yhatbar_test = []\n",
        "\n",
        "date_train = []\n",
        "date_val = []\n",
        "date_test = []\n",
        "\n",
        "\n",
        "train_rmse_list = []\n",
        "validation_rmse_list = []\n",
        "test_rmse_list = []\n",
        "\n",
        "\n",
        "n = 0\n",
        "for batch_train,batch_val,batch_test in zip(batch_train_list,batch_validation_list,batch_test_list):\n",
        "    n += 1\n",
        "    y_train = batch_train['I(t+6)'].values\n",
        "    y_val = batch_val['I(t+6)'].values\n",
        "    y_test = batch_test['I(t+6)'].values\n",
        "\n",
        "    ############ FEATURE FOR MODEL #############\n",
        "    x_train = batch_train[feature_cols].values\n",
        "    x_val = batch_val[feature_cols].values\n",
        "    x_test = batch_test[feature_cols].values\n",
        "    ############ FEATURE FOR MODEL #############\n",
        "    ############ MODEL #######################\n",
        "    xgboost = xgb.XGBRegressor(objective=\"reg:squarederror\",max_depth=3,learning_rate=0.2,\n",
        "                                 n_estimators=20,gamma=0.1,alpha=0.1,random_state=0,n_jobs=-1)\n",
        "    xgboost.fit(x_train,y_train)\n",
        "    yhat_train = xgboost.predict(x_train)\n",
        "    yhat_val = xgboost.predict(x_val)\n",
        "    yhat_test = xgboost.predict(x_test)\n",
        "\n",
        "    ############ MODEL #######################\n",
        "    \n",
        "    rmse_train = (mean_squared_error(y_train,yhat_train))**(1/2)\n",
        "    rmse_val = (mean_squared_error(y_val,yhat_val))**(1/2)\n",
        "    rmse_test = (mean_squared_error(y_test,yhat_test))**(1/2)\n",
        "\n",
        "    train_rmse_list.append(rmse_train)\n",
        "    validation_rmse_list.append(rmse_val)\n",
        "    test_rmse_list.append(rmse_test)\n",
        "    \n",
        "    ybar_train.append(y_train)\n",
        "    ybar_val.append(y_val)\n",
        "    ybar_test.append(y_test)\n",
        "    \n",
        "    yhatbar_train.append(yhat_train)\n",
        "    yhatbar_val.append(yhat_val)\n",
        "    yhatbar_test.append(yhat_test)\n",
        "    \n",
        "    date_train.append(batch_train.index)\n",
        "    date_val.append(batch_val.index)\n",
        "    date_test.append(batch_test.index)\n",
        "\n",
        "    print(f'batch{n}_train : rmse = {rmse_train}')\n",
        "    print(f'batch{n}_validation : rmse = {rmse_val}')\n",
        "    print(f'batch{n}_test : rmse = {rmse_test}')\n",
        "    print('')\n",
        "    \n",
        "ybar_train = np.concatenate(ybar_train)\n",
        "ybar_val = np.concatenate(ybar_val)\n",
        "ybar_test = np.concatenate(ybar_test)\n",
        "\n",
        "yhatbar_train = np.concatenate(yhatbar_train)\n",
        "yhatbar_val = np.concatenate(yhatbar_val)\n",
        "yhatbar_test = np.concatenate(yhatbar_test)\n",
        "\n",
        "date_train = np.concatenate(date_train)\n",
        "date_val = np.concatenate(date_val)\n",
        "date_test = np.concatenate(date_test)\n",
        "\n",
        "#convert to forecast time\n",
        "date_train = date_train + np.timedelta64(3, 'h')\n",
        "date_val = date_val + np.timedelta64(3, 'h')\n",
        "date_test = date_test + np.timedelta64(3, 'h')\n",
        "\n",
        "print(f'average rmse of every batch in train = {(mean_squared_error(ybar_train,yhatbar_train))**(1/2)}')\n",
        "print(f'average rmse of every batch in validation = {(mean_squared_error(ybar_val,yhatbar_val))**(1/2)}')\n",
        "print(f'average rmse of every batch in test = {(mean_squared_error(ybar_test,yhatbar_test))**(1/2)}')"
      ],
      "execution_count": null,
      "outputs": [
        {
          "output_type": "stream",
          "text": [
            "batch1_train : rmse = 98.95102017971367\n",
            "batch1_validation : rmse = 116.95379832210341\n",
            "batch1_test : rmse = 114.33712398445651\n",
            "\n",
            "batch2_train : rmse = 94.92743462745199\n",
            "batch2_validation : rmse = 115.61380857987493\n",
            "batch2_test : rmse = 145.81858355210937\n",
            "\n",
            "batch3_train : rmse = 154.55135843705114\n",
            "batch3_validation : rmse = 193.51182884667048\n",
            "batch3_test : rmse = 205.4598669634801\n",
            "\n",
            "batch4_train : rmse = 129.84835151198016\n",
            "batch4_validation : rmse = 166.74602652441334\n",
            "batch4_test : rmse = 176.23260066530187\n",
            "\n",
            "batch5_train : rmse = 153.55500245430085\n",
            "batch5_validation : rmse = 165.86936373560627\n",
            "batch5_test : rmse = 161.23689040542277\n",
            "\n",
            "batch6_train : rmse = 128.99704172431748\n",
            "batch6_validation : rmse = 141.43623427238654\n",
            "batch6_test : rmse = 135.88809264258876\n",
            "\n",
            "average rmse of every batch in train = 129.05017687146085\n",
            "average rmse of every batch in validation = 149.6512711645598\n",
            "average rmse of every batch in test = 158.87625917651252\n"
          ],
          "name": "stdout"
        }
      ]
    },
    {
      "cell_type": "code",
      "metadata": {
        "id": "1z9MsLz-3dv3",
        "colab_type": "code",
        "colab": {
          "base_uri": "https://localhost:8080/",
          "height": 958
        },
        "outputId": "c02df134-7dfb-4efb-db25-95233106b3e2"
      },
      "source": [
        "plot_train_validation(train_rmse_list,validation_rmse_list,test_rmse_list,'XGBOOST')"
      ],
      "execution_count": null,
      "outputs": [
        {
          "output_type": "display_data",
          "data": {
            "image/png": "[encoded data removed]",
            "text/plain": [
              "<Figure size 1080x864 with 1 Axes>"
            ]
          },
          "metadata": {
            "tags": []
          }
        },
        {
          "output_type": "execute_result",
          "data": {
            "text/html": [
              "<div>\n",
              "<style scoped>\n",
              "    .dataframe tbody tr th:only-of-type {\n",
              "        vertical-align: middle;\n",
              "    }\n",
              "\n",
              "    .dataframe tbody tr th {\n",
              "        vertical-align: top;\n",
              "    }\n",
              "\n",
              "    .dataframe thead th {\n",
              "        text-align: right;\n",
              "    }\n",
              "</style>\n",
              "<table border=\"1\" class=\"dataframe\">\n",
              "  <thead>\n",
              "    <tr style=\"text-align: right;\">\n",
              "      <th></th>\n",
              "      <th>batch</th>\n",
              "      <th>rmse_train</th>\n",
              "      <th>rmse_validation</th>\n",
              "      <th>rmse_test</th>\n",
              "    </tr>\n",
              "  </thead>\n",
              "  <tbody>\n",
              "    <tr>\n",
              "      <th>0</th>\n",
              "      <td>Batch1</td>\n",
              "      <td>98.951020</td>\n",
              "      <td>116.953798</td>\n",
              "      <td>114.337124</td>\n",
              "    </tr>\n",
              "    <tr>\n",
              "      <th>1</th>\n",
              "      <td>Batch2</td>\n",
              "      <td>94.927435</td>\n",
              "      <td>115.613809</td>\n",
              "      <td>145.818584</td>\n",
              "    </tr>\n",
              "    <tr>\n",
              "      <th>2</th>\n",
              "      <td>Batch3</td>\n",
              "      <td>154.551358</td>\n",
              "      <td>193.511829</td>\n",
              "      <td>205.459867</td>\n",
              "    </tr>\n",
              "    <tr>\n",
              "      <th>3</th>\n",
              "      <td>Batch4</td>\n",
              "      <td>129.848352</td>\n",
              "      <td>166.746027</td>\n",
              "      <td>176.232601</td>\n",
              "    </tr>\n",
              "    <tr>\n",
              "      <th>4</th>\n",
              "      <td>Batch5</td>\n",
              "      <td>153.555002</td>\n",
              "      <td>165.869364</td>\n",
              "      <td>161.236890</td>\n",
              "    </tr>\n",
              "    <tr>\n",
              "      <th>5</th>\n",
              "      <td>Batch6</td>\n",
              "      <td>128.997042</td>\n",
              "      <td>141.436234</td>\n",
              "      <td>135.888093</td>\n",
              "    </tr>\n",
              "  </tbody>\n",
              "</table>\n",
              "</div>"
            ],
            "text/plain": [
              "    batch  rmse_train  rmse_validation   rmse_test\n",
              "0  Batch1   98.951020       116.953798  114.337124\n",
              "1  Batch2   94.927435       115.613809  145.818584\n",
              "2  Batch3  154.551358       193.511829  205.459867\n",
              "3  Batch4  129.848352       166.746027  176.232601\n",
              "4  Batch5  153.555002       165.869364  161.236890\n",
              "5  Batch6  128.997042       141.436234  135.888093"
            ]
          },
          "metadata": {
            "tags": []
          },
          "execution_count": 140
        }
      ]
    },
    {
      "cell_type": "code",
      "metadata": {
        "id": "g8DERFXbCZ5D",
        "colab_type": "code",
        "colab": {
          "base_uri": "https://localhost:8080/",
          "height": 849
        },
        "outputId": "2b0a1704-309c-4f0d-dceb-07a2a51ea25b"
      },
      "source": [
        "xgboost = pd.DataFrame()\n",
        "xgboost['measure'] = ybar_test\n",
        "xgboost['xgboost'] = yhatbar_test\n",
        "xgboost['Datetime'] = date_test \n",
        "visualize(xgboost, ['xgboost'] , 'measure' ,show = False, save = False, visualize = True)"
      ],
      "execution_count": null,
      "outputs": [
        {
          "output_type": "stream",
          "text": [
            "error summary\n",
            "\n",
            "          xgboost\n",
            "MBE      6.651157\n",
            "MAE    115.957179\n",
            "RMSE   158.876259\n",
            "NRMSE   15.887626\n",
            "\n"
          ],
          "name": "stdout"
        },
        {
          "output_type": "display_data",
          "data": {
            "image/png": "[encoded data removed]",
            "text/plain": [
              "<Figure size 1080x864 with 2 Axes>"
            ]
          },
          "metadata": {
            "tags": []
          }
        }
      ]
    },
    {
      "cell_type": "markdown",
      "metadata": {
        "id": "JECN3STEii8t",
        "colab_type": "text"
      },
      "source": [
        "# Visualize Validation Error"
      ]
    },
    {
      "cell_type": "markdown",
      "metadata": {
        "id": "snQF06-FE3kS",
        "colab_type": "text"
      },
      "source": [
        "### Linear Regression Validation Predictions"
      ]
    },
    {
      "cell_type": "code",
      "metadata": {
        "id": "W_YFD8FOuUZ7",
        "colab_type": "code",
        "colab": {
          "base_uri": "https://localhost:8080/",
          "height": 477
        },
        "outputId": "7ae3ef2d-68b9-409f-e834-850ac8ae1206"
      },
      "source": [
        "batch_validation_list = [batch1_validation,batch2_validation,batch3_validation,batch4_validation,batch5_validation,batch6_validation]\n",
        "batch_train_list = [batch1_train,batch2_train,batch3_train,batch4_train,batch5_train,batch6_train]\n",
        "batch_test_list = [batch1_test,batch2_test,batch3_test,batch4_test,batch5_test,batch6_test]\n",
        "\n",
        "ybar_train = []\n",
        "ybar_val = []\n",
        "ybar_test = []\n",
        "\n",
        "yhatbar_train = []\n",
        "yhatbar_val = []\n",
        "yhatbar_test = []\n",
        "\n",
        "date_train = []\n",
        "date_val = []\n",
        "date_test = []\n",
        "n = 0\n",
        "\n",
        "train_rmse_list = []\n",
        "test_rmse_list = []\n",
        "validation_rmse_list = []\n",
        "\n",
        "feature_cols = ['I','RH','UV', 'I^(d-1)(t+6)', 'I(t-4)', 'I(t-7)','sza(t+6)']\n",
        "\n",
        "for idx,(batch_train,batch_val,batch_test) in enumerate(zip(batch_train_list,batch_validation_list,batch_test_list)):\n",
        "    n += 1\n",
        "    y_train = batch_train['I(t+6)'].values\n",
        "    y_val = batch_val['I(t+6)'].values\n",
        "    y_test = batch_test['I(t+6)'].values\n",
        "\n",
        "    ############ FEATURE FOR MODEL #############\n",
        "    x_train = batch_train[feature_cols].values\n",
        "    x_val = batch_val[feature_cols].values\n",
        "    x_test = batch_test[feature_cols].values\n",
        "    ############ FEATURE FOR MODEL #############\n",
        "\n",
        "    ############ MODEL #######################\n",
        "    lin_reg = LinearRegression()\n",
        "    lin_reg.fit(x_train,y_train)\n",
        "    yhat_train = lin_reg.predict(x_train)\n",
        "    yhat_val = lin_reg.predict(x_val)\n",
        "    yhat_test = lin_reg.predict(x_test)\n",
        "    \n",
        "    yhat_val[yhat_val<0]=0\n",
        "    yhat_test[yhat_test<0]=0\n",
        "    ############ MODEL #######################\n",
        "    \n",
        "    rmse_train = (mean_squared_error(y_train,yhat_train))**(1/2)\n",
        "    rmse_val = (mean_squared_error(y_val,yhat_val))**(1/2)\n",
        "    rmse_test = (mean_squared_error(y_test,yhat_test))**(1/2)\n",
        "    \n",
        "    ybar_train.append(y_train)\n",
        "    ybar_val.append(y_val)\n",
        "    ybar_test.append(y_test)\n",
        "    \n",
        "    yhatbar_train.append(yhat_train)\n",
        "    yhatbar_val.append(yhat_val)\n",
        "    yhatbar_test.append(yhat_test)\n",
        "    \n",
        "    date_train.append(batch_train.index)\n",
        "    date_val.append(batch_val.index)\n",
        "    date_test.append(batch_test.index)\n",
        "\n",
        "    train_rmse_list.append(rmse_train)\n",
        "    test_rmse_list.append(rmse_test)\n",
        "    validation_rmse_list.append(rmse_val)\n",
        "    print(f'batch{idx+1}_train : rmse = {rmse_train}')\n",
        "    print(f'batch{idx+1}_validation : rmse = {rmse_val}')\n",
        "    print(f'batch{idx+1}_test : rmse = {rmse_test}')\n",
        "    print('')\n",
        "    \n",
        "ybar_train = np.concatenate(ybar_train)\n",
        "ybar_val = np.concatenate(ybar_val)\n",
        "ybar_test = np.concatenate(ybar_test)\n",
        "\n",
        "yhatbar_train = np.concatenate(yhatbar_train)\n",
        "yhatbar_val = np.concatenate(yhatbar_val)\n",
        "yhatbar_test = np.concatenate(yhatbar_test)\n",
        "\n",
        "date_train = np.concatenate(date_train)\n",
        "date_val = np.concatenate(date_val)\n",
        "date_test = np.concatenate(date_test)\n",
        "\n",
        "#convert to forecast time\n",
        "date_train = date_train + np.timedelta64(3, 'h')\n",
        "date_val = date_val + np.timedelta64(3, 'h')\n",
        "date_test = date_test + np.timedelta64(3, 'h')\n",
        "\n",
        "print(f'average rmse of every batch in train = {(mean_squared_error(ybar_train,yhatbar_train))**(1/2)}')\n",
        "print(f'average rmse of every batch in validation = {(mean_squared_error(ybar_val,yhatbar_val))**(1/2)}')\n",
        "print(f'average rmse of every batch in test = {(mean_squared_error(ybar_test,yhatbar_test))**(1/2)}')"
      ],
      "execution_count": null,
      "outputs": [
        {
          "output_type": "stream",
          "text": [
            "batch1_train : rmse = 120.68314141789247\n",
            "batch1_validation : rmse = 124.96481567045082\n",
            "batch1_test : rmse = 119.57703877907866\n",
            "\n",
            "batch2_train : rmse = 113.37568772828105\n",
            "batch2_validation : rmse = 127.70760622285967\n",
            "batch2_test : rmse = 150.6904869641206\n",
            "\n",
            "batch3_train : rmse = 180.86992437651318\n",
            "batch3_validation : rmse = 193.15227237159397\n",
            "batch3_test : rmse = 214.42974953668417\n",
            "\n",
            "batch4_train : rmse = 147.85397082618857\n",
            "batch4_validation : rmse = 163.0317064023638\n",
            "batch4_test : rmse = 176.57427153433773\n",
            "\n",
            "batch5_train : rmse = 173.43432449319639\n",
            "batch5_validation : rmse = 171.2213711391146\n",
            "batch5_test : rmse = 158.28760122058026\n",
            "\n",
            "batch6_train : rmse = 156.2463639665472\n",
            "batch6_validation : rmse = 147.82340119983542\n",
            "batch6_test : rmse = 135.23533301570862\n",
            "\n",
            "average rmse of every batch in train = 150.9399055575839\n",
            "average rmse of every batch in validation = 153.89228064172679\n",
            "average rmse of every batch in test = 162.2984584656066\n"
          ],
          "name": "stdout"
        }
      ]
    },
    {
      "cell_type": "code",
      "metadata": {
        "id": "wydWAozDFBBR",
        "colab_type": "code",
        "colab": {}
      },
      "source": [
        "df_visualize = pd.DataFrame({'Datetime':date_val,'I(t+6)':ybar_val,'Lin_Reg_Predictions':yhatbar_val})"
      ],
      "execution_count": null,
      "outputs": []
    },
    {
      "cell_type": "code",
      "metadata": {
        "id": "A2pfzX4Kjs-r",
        "colab_type": "code",
        "colab": {}
      },
      "source": [
        "feature_cols = ['I','RH','UV', 'I^(d-1)(t+6)', 'I(t-4)', 'I(t-7)','sza(t+6)']\n",
        "ridge = Ridge(alpha = 19.491)                \n",
        "pred_list = np.empty(0)\n",
        "y_true_list = np.empty(0)\n",
        "date_column = []\n",
        "for i in range(len(batch_train_list)):\n",
        "  batch_X_train = batch_train_list[i][feature_cols]\n",
        "  batch_y_train = batch_train_list[i][target]\n",
        "  batch_X_validation =  batch_validation_list[i][feature_cols]\n",
        "  batch_y_validation =  batch_validation_list[i][target]\n",
        "  scaler = StandardScaler()\n",
        "  batch_X_train = scaler.fit_transform(batch_X_train)\n",
        "  batch_X_validation = scaler.transform(batch_X_validation)\n",
        "  ridge.fit(batch_X_train,batch_y_train)\n",
        "  y_pred_batch_ridge = ridge.predict(batch_X_validation)\n",
        "  pred_list = np.append(pred_list ,y_pred_batch_ridge)\n",
        "  pred_list[pred_list<0]=0\n",
        "  y_true_list = np.append(y_true_list,batch_y_validation.values.reshape(1,-1)[0])\n",
        "  date_column = date_column + batch_y_validation.reset_index()['DATETIME'].tolist()\n",
        "df_visualize['Ridge_Predictions'] = pred_list"
      ],
      "execution_count": null,
      "outputs": []
    },
    {
      "cell_type": "code",
      "metadata": {
        "id": "Bxmo2wv1jtX_",
        "colab_type": "code",
        "colab": {}
      },
      "source": [
        "lasso = Lasso(alpha = 1.2)\n",
        "pred_list = np.empty(0)\n",
        "y_true_list = np.empty(0)\n",
        "for i in range(len(batch_train_list)):\n",
        "  batch_X_train = batch_train_list[i][feature_cols]\n",
        "  batch_y_train = batch_train_list[i][target]\n",
        "  batch_X_validation =  batch_validation_list[i][feature_cols]\n",
        "  batch_y_validation =  batch_validation_list[i][target]\n",
        "  scaler = StandardScaler()\n",
        "  batch_X_train = scaler.fit_transform(batch_X_train)\n",
        "  batch_X_validation = scaler.transform(batch_X_validation)\n",
        "  lasso.fit(batch_X_train,batch_y_train)\n",
        "  y_pred_batch_lasso = lasso.predict(batch_X_validation)\n",
        "  pred_list = np.append(pred_list ,y_pred_batch_lasso)\n",
        "  pred_list[pred_list<0]=0\n",
        "  y_true_list = np.append(y_true_list,batch_y_validation.values.reshape(1,-1)[0])\n",
        "\n",
        "df_visualize['Lasso_Predictions'] = pred_list\n"
      ],
      "execution_count": null,
      "outputs": []
    },
    {
      "cell_type": "code",
      "metadata": {
        "id": "_xCjNVzljtVT",
        "colab_type": "code",
        "colab": {}
      },
      "source": [
        "elastic = ElasticNet(alpha=1.2,l1_ratio=1)\n",
        "pred_list = np.empty(0)\n",
        "y_true_list = np.empty(0)\n",
        "for i in range(len(batch_train_list)):\n",
        "  batch_X_train = batch_train_list[i][feature_cols]\n",
        "  batch_y_train = batch_train_list[i][target]\n",
        "  batch_X_validation =  batch_validation_list[i][feature_cols]\n",
        "  batch_y_validation =  batch_validation_list[i][target]\n",
        "  scaler = StandardScaler()\n",
        "  batch_X_train = scaler.fit_transform(batch_X_train)\n",
        "  batch_X_validation = scaler.transform(batch_X_validation)\n",
        "  elastic.fit(batch_X_train,batch_y_train) \n",
        "  y_pred_batch_elastic = elastic.predict(batch_X_validation)\n",
        "  pred_list = np.append(pred_list ,y_pred_batch_elastic)\n",
        "  pred_list[pred_list<0]=0\n",
        "  y_true_list = np.append(y_true_list,batch_y_validation.values.reshape(1,-1)[0])\n",
        "\n",
        "df_visualize['Elastic_Predictions'] = pred_list"
      ],
      "execution_count": null,
      "outputs": []
    },
    {
      "cell_type": "code",
      "metadata": {
        "id": "r-K2zfMfkSVx",
        "colab_type": "code",
        "colab": {}
      },
      "source": [
        "dtree = DecisionTreeRegressor(max_depth=4,random_state=0)\n",
        "pred_list = np.empty(0)\n",
        "y_true_list = np.empty(0)\n",
        "for i in range(len(batch_train_list)):\n",
        "    batch_X_train = batch_train_list[i][feature_cols]\n",
        "    batch_y_train = batch_train_list[i][target]\n",
        "    batch_X_validation =  batch_validation_list[i][feature_cols]\n",
        "    batch_y_validation =  batch_validation_list[i][target]\n",
        "    \n",
        "    dtree.fit(batch_X_train,batch_y_train) \n",
        "    y_pred_batch_dtree = dtree.predict(batch_X_validation)\n",
        "\n",
        "    pred_list = np.append(pred_list ,y_pred_batch_dtree)\n",
        "    y_true_list = np.append(y_true_list,batch_y_validation.values.reshape(1,-1)[0])\n",
        "df_visualize['Dtree_Predictions'] = pred_list"
      ],
      "execution_count": null,
      "outputs": []
    },
    {
      "cell_type": "code",
      "metadata": {
        "id": "6114RUsA6zV2",
        "colab_type": "code",
        "colab": {
          "base_uri": "https://localhost:8080/",
          "height": 405
        },
        "outputId": "88ccd381-6d88-4edf-a58f-a78eb7b9aa75"
      },
      "source": [
        "df_visualize"
      ],
      "execution_count": null,
      "outputs": [
        {
          "output_type": "execute_result",
          "data": {
            "text/html": [
              "<div>\n",
              "<style scoped>\n",
              "    .dataframe tbody tr th:only-of-type {\n",
              "        vertical-align: middle;\n",
              "    }\n",
              "\n",
              "    .dataframe tbody tr th {\n",
              "        vertical-align: top;\n",
              "    }\n",
              "\n",
              "    .dataframe thead th {\n",
              "        text-align: right;\n",
              "    }\n",
              "</style>\n",
              "<table border=\"1\" class=\"dataframe\">\n",
              "  <thead>\n",
              "    <tr style=\"text-align: right;\">\n",
              "      <th></th>\n",
              "      <th>Datetime</th>\n",
              "      <th>I(t+6)</th>\n",
              "      <th>Lin_Reg_Predictions</th>\n",
              "      <th>Ridge_Predictions</th>\n",
              "      <th>Lasso_Predictions</th>\n",
              "      <th>Elastic_Predictions</th>\n",
              "      <th>Dtree_Predictions</th>\n",
              "    </tr>\n",
              "  </thead>\n",
              "  <tbody>\n",
              "    <tr>\n",
              "      <th>0</th>\n",
              "      <td>2018-12-01 07:00:00</td>\n",
              "      <td>82.800</td>\n",
              "      <td>15.258816</td>\n",
              "      <td>20.150360</td>\n",
              "      <td>18.747914</td>\n",
              "      <td>18.747914</td>\n",
              "      <td>15.880588</td>\n",
              "    </tr>\n",
              "    <tr>\n",
              "      <th>1</th>\n",
              "      <td>2018-12-01 07:30:00</td>\n",
              "      <td>142.233</td>\n",
              "      <td>89.330589</td>\n",
              "      <td>93.720312</td>\n",
              "      <td>92.536141</td>\n",
              "      <td>92.536141</td>\n",
              "      <td>49.867654</td>\n",
              "    </tr>\n",
              "    <tr>\n",
              "      <th>2</th>\n",
              "      <td>2018-12-01 08:00:00</td>\n",
              "      <td>264.300</td>\n",
              "      <td>137.534346</td>\n",
              "      <td>141.474487</td>\n",
              "      <td>140.090425</td>\n",
              "      <td>140.090425</td>\n",
              "      <td>176.957872</td>\n",
              "    </tr>\n",
              "    <tr>\n",
              "      <th>3</th>\n",
              "      <td>2018-12-01 08:30:00</td>\n",
              "      <td>293.000</td>\n",
              "      <td>229.931190</td>\n",
              "      <td>233.474175</td>\n",
              "      <td>232.393719</td>\n",
              "      <td>232.393719</td>\n",
              "      <td>176.957872</td>\n",
              "    </tr>\n",
              "    <tr>\n",
              "      <th>4</th>\n",
              "      <td>2018-12-01 09:00:00</td>\n",
              "      <td>406.400</td>\n",
              "      <td>267.747282</td>\n",
              "      <td>270.358247</td>\n",
              "      <td>269.286732</td>\n",
              "      <td>269.286732</td>\n",
              "      <td>284.867200</td>\n",
              "    </tr>\n",
              "    <tr>\n",
              "      <th>...</th>\n",
              "      <td>...</td>\n",
              "      <td>...</td>\n",
              "      <td>...</td>\n",
              "      <td>...</td>\n",
              "      <td>...</td>\n",
              "      <td>...</td>\n",
              "      <td>...</td>\n",
              "    </tr>\n",
              "    <tr>\n",
              "      <th>3335</th>\n",
              "      <td>2018-11-15 16:00:00</td>\n",
              "      <td>200.000</td>\n",
              "      <td>248.171919</td>\n",
              "      <td>244.477981</td>\n",
              "      <td>244.589160</td>\n",
              "      <td>244.589160</td>\n",
              "      <td>264.060992</td>\n",
              "    </tr>\n",
              "    <tr>\n",
              "      <th>3336</th>\n",
              "      <td>2018-11-15 16:30:00</td>\n",
              "      <td>104.300</td>\n",
              "      <td>214.727305</td>\n",
              "      <td>207.912261</td>\n",
              "      <td>201.750473</td>\n",
              "      <td>201.750473</td>\n",
              "      <td>125.403834</td>\n",
              "    </tr>\n",
              "    <tr>\n",
              "      <th>3337</th>\n",
              "      <td>2018-11-15 17:00:00</td>\n",
              "      <td>52.933</td>\n",
              "      <td>173.992674</td>\n",
              "      <td>167.393220</td>\n",
              "      <td>157.111734</td>\n",
              "      <td>157.111734</td>\n",
              "      <td>71.507653</td>\n",
              "    </tr>\n",
              "    <tr>\n",
              "      <th>3338</th>\n",
              "      <td>2018-11-15 17:30:00</td>\n",
              "      <td>9.100</td>\n",
              "      <td>61.216155</td>\n",
              "      <td>59.139110</td>\n",
              "      <td>50.918270</td>\n",
              "      <td>50.918270</td>\n",
              "      <td>71.507653</td>\n",
              "    </tr>\n",
              "    <tr>\n",
              "      <th>3339</th>\n",
              "      <td>2018-11-15 18:00:00</td>\n",
              "      <td>2.000</td>\n",
              "      <td>5.307707</td>\n",
              "      <td>0.364431</td>\n",
              "      <td>0.000000</td>\n",
              "      <td>0.000000</td>\n",
              "      <td>2.976694</td>\n",
              "    </tr>\n",
              "  </tbody>\n",
              "</table>\n",
              "<p>3340 rows × 7 columns</p>\n",
              "</div>"
            ],
            "text/plain": [
              "                Datetime   I(t+6)  ...  Elastic_Predictions  Dtree_Predictions\n",
              "0    2018-12-01 07:00:00   82.800  ...            18.747914          15.880588\n",
              "1    2018-12-01 07:30:00  142.233  ...            92.536141          49.867654\n",
              "2    2018-12-01 08:00:00  264.300  ...           140.090425         176.957872\n",
              "3    2018-12-01 08:30:00  293.000  ...           232.393719         176.957872\n",
              "4    2018-12-01 09:00:00  406.400  ...           269.286732         284.867200\n",
              "...                  ...      ...  ...                  ...                ...\n",
              "3335 2018-11-15 16:00:00  200.000  ...           244.589160         264.060992\n",
              "3336 2018-11-15 16:30:00  104.300  ...           201.750473         125.403834\n",
              "3337 2018-11-15 17:00:00   52.933  ...           157.111734          71.507653\n",
              "3338 2018-11-15 17:30:00    9.100  ...            50.918270          71.507653\n",
              "3339 2018-11-15 18:00:00    2.000  ...             0.000000           2.976694\n",
              "\n",
              "[3340 rows x 7 columns]"
            ]
          },
          "metadata": {
            "tags": []
          },
          "execution_count": 51
        }
      ]
    },
    {
      "cell_type": "code",
      "metadata": {
        "id": "t2B602ETkSS3",
        "colab_type": "code",
        "colab": {
          "base_uri": "https://localhost:8080/",
          "height": 580
        },
        "outputId": "fad172c6-3930-43e3-9281-b2339c5ffb85"
      },
      "source": [
        "feature_cols = ['I','RH','UV', 'WS', 'I^(d-1)(t+6)','I(t-1)', 'I(t-2)',\n",
        "                'I(t-3)', 'I(t-4)', 'I(t-5)', 'I(t-6)', 'I(t-7)','sza(t+6)']\n",
        "\n",
        "\n",
        "batch_validation_list = [batch1_validation,batch2_validation,batch3_validation,batch4_validation,batch5_validation,batch6_validation]\n",
        "batch_train_list = [batch1_train,batch2_train,batch3_train,batch4_train,batch5_train,batch6_train]\n",
        "batch_test_list = [batch1_test,batch2_test,batch3_test,batch4_test,batch5_test,batch6_test]\n",
        "\n",
        "ybar_train = []\n",
        "ybar_val = []\n",
        "ybar_test = []\n",
        "\n",
        "yhatbar_train = []\n",
        "yhatbar_val = []\n",
        "yhatbar_test = []\n",
        "\n",
        "date_train = []\n",
        "date_val = []\n",
        "date_test = []\n",
        "n = 0\n",
        "\n",
        "train_rmse_list = []\n",
        "validation_rmse_list = []\n",
        "test_rmse_list = []\n",
        "\n",
        "for batch_train,batch_val,batch_test in zip(batch_train_list,batch_validation_list,batch_test_list):\n",
        "    n += 1\n",
        "    y_train = batch_train['I(t+6)'].values\n",
        "    y_val = batch_val['I(t+6)'].values\n",
        "    y_test = batch_test['I(t+6)'].values\n",
        "\n",
        "    ############ FEATURE FOR MODEL #############\n",
        "    x_train = batch_train[feature_cols].values\n",
        "    x_val = batch_val[feature_cols].values\n",
        "    x_test = batch_test[feature_cols].values\n",
        "    ############ FEATURE FOR MODEL #############\n",
        "    ############ MODEL #######################\n",
        "    randforest = RandomForestRegressor(max_depth=6,n_estimators=80,min_samples_split = 20,max_features = 'log2',random_state=0)\n",
        "    randforest.fit(x_train,y_train)\n",
        "    yhat_train = randforest.predict(x_train)\n",
        "    yhat_val = randforest.predict(x_val)\n",
        "    yhat_test = randforest.predict(x_test)\n",
        "\n",
        "    print(x_test.shape)\n",
        "    ############ MODEL #######################\n",
        "    \n",
        "    rmse_train = (mean_squared_error(y_train,yhat_train))**(1/2)\n",
        "    rmse_val = (mean_squared_error(y_val,yhat_val))**(1/2)\n",
        "    rmse_test = (mean_squared_error(y_test,yhat_test))**(1/2)\n",
        "    \n",
        "    ybar_train.append(y_train)\n",
        "    ybar_val.append(y_val)\n",
        "    ybar_test.append(y_test)\n",
        "    \n",
        "    yhatbar_train.append(yhat_train)\n",
        "    yhatbar_val.append(yhat_val)\n",
        "    yhatbar_test.append(yhat_test)\n",
        "    \n",
        "    date_train.append(batch_train.index)\n",
        "    date_val.append(batch_val.index)\n",
        "    date_test.append(batch_test.index)\n",
        "\n",
        "    print(f'batch{n}_train : rmse = {rmse_train}')\n",
        "    print(f'batch{n}_validation : rmse = {rmse_val}')\n",
        "    print(f'batch{n}_test : rmse = {rmse_test}')\n",
        "    print('')\n",
        "    \n",
        "    train_rmse_list.append(rmse_train)\n",
        "    test_rmse_list.append(rmse_test)\n",
        "    validation_rmse_list.append(rmse_val)\n",
        "\n",
        "ybar_train = np.concatenate(ybar_train)\n",
        "ybar_val = np.concatenate(ybar_val)\n",
        "ybar_test = np.concatenate(ybar_test)\n",
        "\n",
        "yhatbar_train = np.concatenate(yhatbar_train)\n",
        "yhatbar_val = np.concatenate(yhatbar_val)\n",
        "yhatbar_test = np.concatenate(yhatbar_test)\n",
        "\n",
        "date_train = np.concatenate(date_train)\n",
        "date_val = np.concatenate(date_val)\n",
        "date_test = np.concatenate(date_test)\n",
        "\n",
        "#convert to forecast time\n",
        "date_train = date_train + np.timedelta64(3, 'h')\n",
        "date_val = date_val + np.timedelta64(3, 'h')\n",
        "date_test = date_test + np.timedelta64(3, 'h')\n",
        "\n",
        "print(f'average rmse of every batch in train = {(mean_squared_error(ybar_train,yhatbar_train))**(1/2)}')\n",
        "print(f'average rmse of every batch in validation = {(mean_squared_error(ybar_val,yhatbar_val))**(1/2)}')\n",
        "print(f'average rmse of every batch in test = {(mean_squared_error(ybar_test,yhatbar_test))**(1/2)}')\n",
        "\n",
        "df_visualize['RForest_Predictions'] = yhatbar_val"
      ],
      "execution_count": null,
      "outputs": [
        {
          "output_type": "stream",
          "text": [
            "(736, 13)\n",
            "batch1_train : rmse = 97.97684230687275\n",
            "batch1_validation : rmse = 112.62955140369175\n",
            "batch1_test : rmse = 108.18480578876148\n",
            "\n",
            "(667, 13)\n",
            "batch2_train : rmse = 98.33726432775215\n",
            "batch2_validation : rmse = 116.73797608870186\n",
            "batch2_test : rmse = 146.29766301260017\n",
            "\n",
            "(713, 13)\n",
            "batch3_train : rmse = 157.51259901099274\n",
            "batch3_validation : rmse = 190.14939892893275\n",
            "batch3_test : rmse = 207.9607533716432\n",
            "\n",
            "(345, 13)\n",
            "batch4_train : rmse = 133.62924496409767\n",
            "batch4_validation : rmse = 168.36854602010453\n",
            "batch4_test : rmse = 174.47472933967376\n",
            "\n",
            "(649, 13)\n",
            "batch5_train : rmse = 154.21131198023718\n",
            "batch5_validation : rmse = 169.43479856819357\n",
            "batch5_test : rmse = 154.92288506165332\n",
            "\n",
            "(441, 13)\n",
            "batch6_train : rmse = 131.68830030794803\n",
            "batch6_validation : rmse = 144.9994414033683\n",
            "batch6_test : rmse = 132.23639986636772\n",
            "\n",
            "average rmse of every batch in train = 131.14892761944566\n",
            "average rmse of every batch in validation = 149.40255980685424\n",
            "average rmse of every batch in test = 156.98874083018552\n"
          ],
          "name": "stdout"
        }
      ]
    },
    {
      "cell_type": "code",
      "metadata": {
        "id": "0SN2-dF6kSOs",
        "colab_type": "code",
        "colab": {
          "base_uri": "https://localhost:8080/",
          "height": 477
        },
        "outputId": "0b107c37-40ac-4c40-a29d-6c1e827682fe"
      },
      "source": [
        "batch_validation_list = [batch1_validation,batch2_validation,batch3_validation,batch4_validation,batch5_validation,batch6_validation]\n",
        "batch_train_list = [batch1_train,batch2_train,batch3_train,batch4_train,batch5_train,batch6_train]\n",
        "batch_test_list = [batch1_test,batch2_test,batch3_test,batch4_test,batch5_test,batch6_test]\n",
        "\n",
        "ybar_train = []\n",
        "ybar_val = []\n",
        "ybar_test = []\n",
        "\n",
        "yhatbar_train = []\n",
        "yhatbar_val = []\n",
        "yhatbar_test = []\n",
        "\n",
        "date_train = []\n",
        "date_val = []\n",
        "date_test = []\n",
        "n = 0\n",
        "for batch_train,batch_val,batch_test in zip(batch_train_list,batch_validation_list,batch_test_list):\n",
        "    n += 1\n",
        "    y_train = batch_train['I(t+6)'].values\n",
        "    y_val = batch_val['I(t+6)'].values\n",
        "    y_test = batch_test['I(t+6)'].values\n",
        "\n",
        "    ############ FEATURE FOR MODEL #############\n",
        "    x_train = batch_train[feature_cols].values\n",
        "    x_val = batch_val[feature_cols].values\n",
        "    x_test = batch_test[feature_cols].values\n",
        "    ############ FEATURE FOR MODEL #############\n",
        "    ############ MODEL #######################\n",
        "    xgboost = xgb.XGBRegressor(objective=\"reg:squarederror\",max_depth=3,learning_rate=0.2,\n",
        "                                 n_estimators=20,gamma=0.1,alpha=0.1,random_state=0,n_jobs=-1)\n",
        "    xgboost.fit(x_train,y_train)\n",
        "    yhat_train = xgboost.predict(x_train)\n",
        "    yhat_val = xgboost.predict(x_val)\n",
        "    yhat_test = xgboost.predict(x_test)\n",
        "\n",
        "    ############ MODEL #######################\n",
        "    \n",
        "    rmse_train = (mean_squared_error(y_train,yhat_train))**(1/2)\n",
        "    rmse_val = (mean_squared_error(y_val,yhat_val))**(1/2)\n",
        "    rmse_test = (mean_squared_error(y_test,yhat_test))**(1/2)\n",
        "    \n",
        "    ybar_train.append(y_train)\n",
        "    ybar_val.append(y_val)\n",
        "    ybar_test.append(y_test)\n",
        "    \n",
        "    yhatbar_train.append(yhat_train)\n",
        "    yhatbar_val.append(yhat_val)\n",
        "    yhatbar_test.append(yhat_test)\n",
        "    \n",
        "    date_train.append(batch_train.index)\n",
        "    date_val.append(batch_val.index)\n",
        "    date_test.append(batch_test.index)\n",
        "\n",
        "    print(f'batch{n}_train : rmse = {rmse_train}')\n",
        "    print(f'batch{n}_validation : rmse = {rmse_val}')\n",
        "    print(f'batch{n}_test : rmse = {rmse_test}')\n",
        "    print('')\n",
        "    \n",
        "ybar_train = np.concatenate(ybar_train)\n",
        "ybar_val = np.concatenate(ybar_val)\n",
        "ybar_test = np.concatenate(ybar_test)\n",
        "\n",
        "yhatbar_train = np.concatenate(yhatbar_train)\n",
        "yhatbar_val = np.concatenate(yhatbar_val)\n",
        "yhatbar_test = np.concatenate(yhatbar_test)\n",
        "\n",
        "date_train = np.concatenate(date_train)\n",
        "date_val = np.concatenate(date_val)\n",
        "date_test = np.concatenate(date_test)\n",
        "\n",
        "#convert to forecast time\n",
        "date_train = date_train + np.timedelta64(3, 'h')\n",
        "date_val = date_val + np.timedelta64(3, 'h')\n",
        "date_test = date_test + np.timedelta64(3, 'h')\n",
        "\n",
        "print(f'average rmse of every batch in train = {(mean_squared_error(ybar_train,yhatbar_train))**(1/2)}')\n",
        "print(f'average rmse of every batch in validation = {(mean_squared_error(ybar_val,yhatbar_val))**(1/2)}')\n",
        "print(f'average rmse of every batch in test = {(mean_squared_error(ybar_test,yhatbar_test))**(1/2)}')\n",
        "\n",
        "df_visualize['XGBoost_Predictions'] = yhatbar_val"
      ],
      "execution_count": null,
      "outputs": [
        {
          "output_type": "stream",
          "text": [
            "batch1_train : rmse = 98.95102017971367\n",
            "batch1_validation : rmse = 116.95379832210341\n",
            "batch1_test : rmse = 114.33712398445651\n",
            "\n",
            "batch2_train : rmse = 94.92743462745199\n",
            "batch2_validation : rmse = 115.61380857987493\n",
            "batch2_test : rmse = 145.81858355210937\n",
            "\n",
            "batch3_train : rmse = 154.55135843705114\n",
            "batch3_validation : rmse = 193.51182884667048\n",
            "batch3_test : rmse = 205.4598669634801\n",
            "\n",
            "batch4_train : rmse = 129.84835151198016\n",
            "batch4_validation : rmse = 166.74602652441334\n",
            "batch4_test : rmse = 176.23260066530187\n",
            "\n",
            "batch5_train : rmse = 153.55500245430085\n",
            "batch5_validation : rmse = 165.86936373560627\n",
            "batch5_test : rmse = 161.23689040542277\n",
            "\n",
            "batch6_train : rmse = 128.99704172431748\n",
            "batch6_validation : rmse = 141.43623427238654\n",
            "batch6_test : rmse = 135.88809264258876\n",
            "\n",
            "average rmse of every batch in train = 129.05017687146085\n",
            "average rmse of every batch in validation = 149.6512711645598\n",
            "average rmse of every batch in test = 158.87625917651252\n"
          ],
          "name": "stdout"
        }
      ]
    },
    {
      "cell_type": "code",
      "metadata": {
        "id": "I7qt2rqQkicw",
        "colab_type": "code",
        "colab": {
          "base_uri": "https://localhost:8080/",
          "height": 197
        },
        "outputId": "0f86ca40-6349-4d06-bcc7-3db5a4c8f574"
      },
      "source": [
        "df_visualize.head(5)"
      ],
      "execution_count": null,
      "outputs": [
        {
          "output_type": "execute_result",
          "data": {
            "text/html": [
              "<div>\n",
              "<style scoped>\n",
              "    .dataframe tbody tr th:only-of-type {\n",
              "        vertical-align: middle;\n",
              "    }\n",
              "\n",
              "    .dataframe tbody tr th {\n",
              "        vertical-align: top;\n",
              "    }\n",
              "\n",
              "    .dataframe thead th {\n",
              "        text-align: right;\n",
              "    }\n",
              "</style>\n",
              "<table border=\"1\" class=\"dataframe\">\n",
              "  <thead>\n",
              "    <tr style=\"text-align: right;\">\n",
              "      <th></th>\n",
              "      <th>Datetime</th>\n",
              "      <th>I(t+6)</th>\n",
              "      <th>Lin_Reg_Predictions</th>\n",
              "      <th>Ridge_Predictions</th>\n",
              "      <th>Lasso_Predictions</th>\n",
              "      <th>Elastic_Predictions</th>\n",
              "      <th>Dtree_Predictions</th>\n",
              "      <th>RForest_Predictions</th>\n",
              "      <th>XGBoost_Predictions</th>\n",
              "    </tr>\n",
              "  </thead>\n",
              "  <tbody>\n",
              "    <tr>\n",
              "      <th>0</th>\n",
              "      <td>2018-12-01 07:00:00</td>\n",
              "      <td>82.800</td>\n",
              "      <td>15.258816</td>\n",
              "      <td>20.150360</td>\n",
              "      <td>18.747914</td>\n",
              "      <td>18.747914</td>\n",
              "      <td>15.880588</td>\n",
              "      <td>74.550593</td>\n",
              "      <td>49.653385</td>\n",
              "    </tr>\n",
              "    <tr>\n",
              "      <th>1</th>\n",
              "      <td>2018-12-01 07:30:00</td>\n",
              "      <td>142.233</td>\n",
              "      <td>89.330589</td>\n",
              "      <td>93.720312</td>\n",
              "      <td>92.536141</td>\n",
              "      <td>92.536141</td>\n",
              "      <td>49.867654</td>\n",
              "      <td>120.747647</td>\n",
              "      <td>98.356133</td>\n",
              "    </tr>\n",
              "    <tr>\n",
              "      <th>2</th>\n",
              "      <td>2018-12-01 08:00:00</td>\n",
              "      <td>264.300</td>\n",
              "      <td>137.534346</td>\n",
              "      <td>141.474487</td>\n",
              "      <td>140.090425</td>\n",
              "      <td>140.090425</td>\n",
              "      <td>176.957872</td>\n",
              "      <td>172.555751</td>\n",
              "      <td>131.698532</td>\n",
              "    </tr>\n",
              "    <tr>\n",
              "      <th>3</th>\n",
              "      <td>2018-12-01 08:30:00</td>\n",
              "      <td>293.000</td>\n",
              "      <td>229.931190</td>\n",
              "      <td>233.474175</td>\n",
              "      <td>232.393719</td>\n",
              "      <td>232.393719</td>\n",
              "      <td>176.957872</td>\n",
              "      <td>255.227321</td>\n",
              "      <td>211.794708</td>\n",
              "    </tr>\n",
              "    <tr>\n",
              "      <th>4</th>\n",
              "      <td>2018-12-01 09:00:00</td>\n",
              "      <td>406.400</td>\n",
              "      <td>267.747282</td>\n",
              "      <td>270.358247</td>\n",
              "      <td>269.286732</td>\n",
              "      <td>269.286732</td>\n",
              "      <td>284.867200</td>\n",
              "      <td>361.277349</td>\n",
              "      <td>321.418396</td>\n",
              "    </tr>\n",
              "  </tbody>\n",
              "</table>\n",
              "</div>"
            ],
            "text/plain": [
              "             Datetime   I(t+6)  ...  RForest_Predictions  XGBoost_Predictions\n",
              "0 2018-12-01 07:00:00   82.800  ...            74.550593            49.653385\n",
              "1 2018-12-01 07:30:00  142.233  ...           120.747647            98.356133\n",
              "2 2018-12-01 08:00:00  264.300  ...           172.555751           131.698532\n",
              "3 2018-12-01 08:30:00  293.000  ...           255.227321           211.794708\n",
              "4 2018-12-01 09:00:00  406.400  ...           361.277349           321.418396\n",
              "\n",
              "[5 rows x 9 columns]"
            ]
          },
          "metadata": {
            "tags": []
          },
          "execution_count": 54
        }
      ]
    },
    {
      "cell_type": "code",
      "metadata": {
        "id": "OzEPu1AEnzaN",
        "colab_type": "code",
        "colab": {
          "base_uri": "https://localhost:8080/",
          "height": 849
        },
        "outputId": "57e7e642-4c31-4092-8d81-5b749b159224"
      },
      "source": [
        "visualize(df_visualize,['RForest_Predictions','XGBoost_Predictions','Lasso_Predictions'],measure_col='I(t+6)')"
      ],
      "execution_count": null,
      "outputs": [
        {
          "output_type": "stream",
          "text": [
            "error summary\n",
            "\n",
            "       RForest_Predictions  XGBoost_Predictions  Lasso_Predictions\n",
            "MBE               9.172834            -4.645701          18.190905\n",
            "MAE             113.567430           109.670694         114.655780\n",
            "RMSE            149.402560           149.651271         153.030866\n",
            "NRMSE            14.940256            14.965127          15.303087\n",
            "\n"
          ],
          "name": "stdout"
        },
        {
          "output_type": "display_data",
          "data": {
            "image/png": "[encoded data removed]",
            "text/plain": [
              "<Figure size 1080x864 with 2 Axes>"
            ]
          },
          "metadata": {
            "tags": []
          }
        }
      ]
    },
    {
      "cell_type": "markdown",
      "metadata": {
        "id": "Sw5irBizLy_j",
        "colab_type": "text"
      },
      "source": [
        "# Predicting Test set"
      ]
    },
    {
      "cell_type": "code",
      "metadata": {
        "id": "TDY6rx8FL01Y",
        "colab_type": "code",
        "colab": {
          "base_uri": "https://localhost:8080/",
          "height": 450
        },
        "outputId": "c6ca9f32-e34d-417d-ba49-9e160dea5639"
      },
      "source": [
        "test_X = test_batch.loc[:,test_batch.columns != 'I(t+6)']\n",
        "test_y = test_batch.loc[:,test_batch.columns == 'I(t+6)']"
      ],
      "execution_count": null,
      "outputs": [
        {
          "output_type": "execute_result",
          "data": {
            "text/html": [
              "<div>\n",
              "<style scoped>\n",
              "    .dataframe tbody tr th:only-of-type {\n",
              "        vertical-align: middle;\n",
              "    }\n",
              "\n",
              "    .dataframe tbody tr th {\n",
              "        vertical-align: top;\n",
              "    }\n",
              "\n",
              "    .dataframe thead th {\n",
              "        text-align: right;\n",
              "    }\n",
              "</style>\n",
              "<table border=\"1\" class=\"dataframe\">\n",
              "  <thead>\n",
              "    <tr style=\"text-align: right;\">\n",
              "      <th></th>\n",
              "      <th>I(t+6)</th>\n",
              "    </tr>\n",
              "    <tr>\n",
              "      <th>DATETIME</th>\n",
              "      <th></th>\n",
              "    </tr>\n",
              "  </thead>\n",
              "  <tbody>\n",
              "    <tr>\n",
              "      <th>2018-01-01 04:00:00</th>\n",
              "      <td>25.200</td>\n",
              "    </tr>\n",
              "    <tr>\n",
              "      <th>2018-01-01 04:30:00</th>\n",
              "      <td>117.240</td>\n",
              "    </tr>\n",
              "    <tr>\n",
              "      <th>2018-01-01 05:00:00</th>\n",
              "      <td>250.200</td>\n",
              "    </tr>\n",
              "    <tr>\n",
              "      <th>2018-01-01 05:30:00</th>\n",
              "      <td>352.800</td>\n",
              "    </tr>\n",
              "    <tr>\n",
              "      <th>2018-01-01 06:00:00</th>\n",
              "      <td>450.100</td>\n",
              "    </tr>\n",
              "    <tr>\n",
              "      <th>...</th>\n",
              "      <td>...</td>\n",
              "    </tr>\n",
              "    <tr>\n",
              "      <th>2018-12-31 13:00:00</th>\n",
              "      <td>219.400</td>\n",
              "    </tr>\n",
              "    <tr>\n",
              "      <th>2018-12-31 13:30:00</th>\n",
              "      <td>92.000</td>\n",
              "    </tr>\n",
              "    <tr>\n",
              "      <th>2018-12-31 14:00:00</th>\n",
              "      <td>63.800</td>\n",
              "    </tr>\n",
              "    <tr>\n",
              "      <th>2018-12-31 14:30:00</th>\n",
              "      <td>25.933</td>\n",
              "    </tr>\n",
              "    <tr>\n",
              "      <th>2018-12-31 15:00:00</th>\n",
              "      <td>8.500</td>\n",
              "    </tr>\n",
              "  </tbody>\n",
              "</table>\n",
              "<p>6442 rows × 1 columns</p>\n",
              "</div>"
            ],
            "text/plain": [
              "                      I(t+6)\n",
              "DATETIME                    \n",
              "2018-01-01 04:00:00   25.200\n",
              "2018-01-01 04:30:00  117.240\n",
              "2018-01-01 05:00:00  250.200\n",
              "2018-01-01 05:30:00  352.800\n",
              "2018-01-01 06:00:00  450.100\n",
              "...                      ...\n",
              "2018-12-31 13:00:00  219.400\n",
              "2018-12-31 13:30:00   92.000\n",
              "2018-12-31 14:00:00   63.800\n",
              "2018-12-31 14:30:00   25.933\n",
              "2018-12-31 15:00:00    8.500\n",
              "\n",
              "[6442 rows x 1 columns]"
            ]
          },
          "metadata": {
            "tags": []
          },
          "execution_count": 296
        }
      ]
    }
  ]
}